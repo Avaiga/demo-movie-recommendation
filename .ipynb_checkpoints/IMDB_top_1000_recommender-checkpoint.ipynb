{
 "cells": [
  {
   "cell_type": "code",
   "execution_count": 168,
   "id": "ae77c508",
   "metadata": {},
   "outputs": [],
   "source": [
    "import sys\n",
    "import numpy as np\n",
    "import pandas as pd\n",
    "\n",
    "from sklearn.feature_extraction.text import CountVectorizer\n",
    "from sklearn.metrics.pairwise import cosine_similarity\n",
    "\n",
    "import requests\n",
    "from bs4 import BeautifulSoup\n",
    "\n",
    "import nltk"
   ]
  },
  {
   "cell_type": "code",
   "execution_count": 71,
   "id": "c518e08d",
   "metadata": {},
   "outputs": [
    {
     "name": "stdout",
     "output_type": "stream",
     "text": [
      "Requirement already satisfied: rake-nltk in /Users/lucy/opt/anaconda3/lib/python3.9/site-packages (1.0.6)\n",
      "Requirement already satisfied: nltk<4.0.0,>=3.6.2 in /Users/lucy/opt/anaconda3/lib/python3.9/site-packages (from rake-nltk) (3.7)\n",
      "Requirement already satisfied: joblib in /Users/lucy/opt/anaconda3/lib/python3.9/site-packages (from nltk<4.0.0,>=3.6.2->rake-nltk) (1.1.0)\n",
      "Requirement already satisfied: tqdm in /Users/lucy/opt/anaconda3/lib/python3.9/site-packages (from nltk<4.0.0,>=3.6.2->rake-nltk) (4.64.1)\n",
      "Requirement already satisfied: regex>=2021.8.3 in /Users/lucy/opt/anaconda3/lib/python3.9/site-packages (from nltk<4.0.0,>=3.6.2->rake-nltk) (2022.7.9)\n",
      "Requirement already satisfied: click in /Users/lucy/opt/anaconda3/lib/python3.9/site-packages (from nltk<4.0.0,>=3.6.2->rake-nltk) (8.0.4)\n"
     ]
    }
   ],
   "source": [
    "!pip install rake-nltk"
   ]
  },
  {
   "cell_type": "code",
   "execution_count": 72,
   "id": "9a36f778",
   "metadata": {},
   "outputs": [],
   "source": [
    "from rake_nltk import Rake"
   ]
  },
  {
   "cell_type": "code",
   "execution_count": 3,
   "id": "31cbd42e",
   "metadata": {},
   "outputs": [],
   "source": [
    "MOVIE_FILE = '../Downloads/ml-25m/xsmall_movies.csv'\n",
    "LINKS_FILE = '../Downloads/ml-25m/links.csv'"
   ]
  },
  {
   "cell_type": "code",
   "execution_count": 64,
   "id": "ba52075d",
   "metadata": {},
   "outputs": [],
   "source": [
    "web_address_0 = 'https://www.imdb.com/search/title/?count=100&groups=top_1000&sort=user_rating'\n",
    "web_address_1 = 'https://www.imdb.com/search/title/?groups=top_1000&sort=user_rating,desc&count=100&start=101&ref_=adv_nxt'\n",
    "web_address_2 = 'https://www.imdb.com/search/title/?groups=top_1000&sort=user_rating,desc&count=100&start=201&ref_=adv_nxt'\n",
    "web_address_3 = 'https://www.imdb.com/search/title/?groups=top_1000&sort=user_rating,desc&count=100&start=301&ref_=adv_nxt'\n",
    "web_address_4 = 'https://www.imdb.com/search/title/?groups=top_1000&sort=user_rating,desc&count=100&start=401&ref_=adv_nxt'\n",
    "web_address_5 = 'https://www.imdb.com/search/title/?groups=top_1000&sort=user_rating,desc&count=100&start=501&ref_=adv_nxt'\n",
    "web_address_6 = 'https://www.imdb.com/search/title/?groups=top_1000&sort=user_rating,desc&count=100&start=601&ref_=adv_nxt'\n",
    "web_address_7 = 'https://www.imdb.com/search/title/?groups=top_1000&sort=user_rating,desc&count=100&start=701&ref_=adv_nxt'\n",
    "web_address_8 = 'https://www.imdb.com/search/title/?groups=top_1000&sort=user_rating,desc&count=100&start=801&ref_=adv_nxt'\n",
    "web_address_9 = 'https://www.imdb.com/search/title/?groups=top_1000&sort=user_rating,desc&count=100&start=901&ref_=adv_nxt'\n",
    "web_addresses = [web_address_0,web_address_1,web_address_2,web_address_3,web_address_4,web_address_5,web_address_6,\n",
    "                 web_address_7,web_address_8,web_address_9]"
   ]
  },
  {
   "cell_type": "code",
   "execution_count": 62,
   "id": "98148168",
   "metadata": {},
   "outputs": [],
   "source": [
    "def get_100(web_address):\n",
    "    titles = []\n",
    "    genres = []\n",
    "    directors = []\n",
    "    casts = []\n",
    "    descriptions = []\n",
    "    try:\n",
    "        res = requests.get(web_address, headers={'User-Agent': 'Mozilla/5.0'})\n",
    "    except requests.exceptions.RequestException as err:\n",
    "        print(\"requests exception found\", err)\n",
    "    if res.status_code == 200:\n",
    "        soup = BeautifulSoup(res.text, 'html.parser')\n",
    "        top_1000 = soup.find_all(\"div\", {\"class\": \"lister-item-content\"})\n",
    "        for item in top_1000:\n",
    "            title = item.h3.getText().strip().split('\\n')\n",
    "            title = title[1:]\n",
    "            title = ' '.join(title)\n",
    "            titles.append(title)\n",
    "            genre = item.find(\"span\", {\"class\": \"genre\"}).getText().strip().replace('\\n', '')\n",
    "            genres.append(genre)\n",
    "            description = item.find_all(\"p\")[1].getText().replace('\\n', '')\n",
    "            descriptions.append(description)\n",
    "            data = item.find(\"p\", {\"class\": \"\"}).getText()\n",
    "            director, cast = data.split('|')\n",
    "            director = director.split(':')[1].replace('\\n', '')\n",
    "            cast = cast.split(':')[1].replace('\\n', '')\n",
    "            directors.append(director)\n",
    "            casts.append(cast)\n",
    "            \n",
    "        return titles, genres, descriptions, directors, casts"
   ]
  },
  {
   "cell_type": "code",
   "execution_count": 66,
   "id": "d916c656",
   "metadata": {},
   "outputs": [],
   "source": [
    "def build_df(web_addresses):\n",
    "    data = []\n",
    "    for i in range(10):\n",
    "        titles, genres, descriptions, directors, casts = get_100(web_addresses[i])\n",
    "        titles = pd.Series(titles)\n",
    "        genres = pd.Series(genres)\n",
    "        descriptions = pd.Series(descriptions)\n",
    "        directors = pd.Series(directors)\n",
    "        cast = pd.Series(casts)\n",
    "        df = pd.concat([titles, genres, descriptions, directors, cast], axis=1)\n",
    "        df.rename(columns={0: 'Title', 1: 'Genre', 2: 'Description', 3: 'Director', 4: 'Cast'}, inplace=True)\n",
    "        data.append(df)\n",
    "        \n",
    "    df = pd.concat(data, ignore_index=True)\n",
    "    return df\n",
    "             "
   ]
  },
  {
   "cell_type": "code",
   "execution_count": 160,
   "id": "b0c2661d",
   "metadata": {},
   "outputs": [],
   "source": [
    "df = build_df(web_addresses)\n"
   ]
  },
  {
   "cell_type": "code",
   "execution_count": 135,
   "id": "73de6f1c",
   "metadata": {},
   "outputs": [
    {
     "data": {
      "text/html": [
       "<div>\n",
       "<style scoped>\n",
       "    .dataframe tbody tr th:only-of-type {\n",
       "        vertical-align: middle;\n",
       "    }\n",
       "\n",
       "    .dataframe tbody tr th {\n",
       "        vertical-align: top;\n",
       "    }\n",
       "\n",
       "    .dataframe thead th {\n",
       "        text-align: right;\n",
       "    }\n",
       "</style>\n",
       "<table border=\"1\" class=\"dataframe\">\n",
       "  <thead>\n",
       "    <tr style=\"text-align: right;\">\n",
       "      <th></th>\n",
       "      <th>Title</th>\n",
       "      <th>Genre</th>\n",
       "      <th>Description</th>\n",
       "      <th>Director</th>\n",
       "      <th>Cast</th>\n",
       "    </tr>\n",
       "  </thead>\n",
       "  <tbody>\n",
       "    <tr>\n",
       "      <th>0</th>\n",
       "      <td>The Shawshank Redemption (1994)</td>\n",
       "      <td>Drama</td>\n",
       "      <td>Over the course of several years, two convicts...</td>\n",
       "      <td>Frank Darabont</td>\n",
       "      <td>Tim Robbins, Morgan Freeman, Bob Gunton, Willi...</td>\n",
       "    </tr>\n",
       "    <tr>\n",
       "      <th>1</th>\n",
       "      <td>The Godfather (1972)</td>\n",
       "      <td>Crime, Drama</td>\n",
       "      <td>Don Vito Corleone, head of a mafia family, dec...</td>\n",
       "      <td>Francis Ford Coppola</td>\n",
       "      <td>Marlon Brando, Al Pacino, James Caan, Diane Ke...</td>\n",
       "    </tr>\n",
       "    <tr>\n",
       "      <th>2</th>\n",
       "      <td>The Dark Knight (2008)</td>\n",
       "      <td>Action, Crime, Drama</td>\n",
       "      <td>When the menace known as the Joker wreaks havo...</td>\n",
       "      <td>Christopher Nolan</td>\n",
       "      <td>Christian Bale, Heath Ledger, Aaron Eckhart, M...</td>\n",
       "    </tr>\n",
       "    <tr>\n",
       "      <th>3</th>\n",
       "      <td>Schindler's List (1993)</td>\n",
       "      <td>Biography, Drama, History</td>\n",
       "      <td>In German-occupied Poland during World War II,...</td>\n",
       "      <td>Steven Spielberg</td>\n",
       "      <td>Liam Neeson, Ralph Fiennes, Ben Kingsley, Caro...</td>\n",
       "    </tr>\n",
       "    <tr>\n",
       "      <th>4</th>\n",
       "      <td>The Godfather Part II (1974)</td>\n",
       "      <td>Crime, Drama</td>\n",
       "      <td>The early life and career of Vito Corleone in ...</td>\n",
       "      <td>Francis Ford Coppola</td>\n",
       "      <td>Al Pacino, Robert De Niro, Robert Duvall, Dian...</td>\n",
       "    </tr>\n",
       "  </tbody>\n",
       "</table>\n",
       "</div>"
      ],
      "text/plain": [
       "                             Title                      Genre  \\\n",
       "0  The Shawshank Redemption (1994)                      Drama   \n",
       "1             The Godfather (1972)               Crime, Drama   \n",
       "2           The Dark Knight (2008)       Action, Crime, Drama   \n",
       "3          Schindler's List (1993)  Biography, Drama, History   \n",
       "4     The Godfather Part II (1974)               Crime, Drama   \n",
       "\n",
       "                                         Description              Director  \\\n",
       "0  Over the course of several years, two convicts...        Frank Darabont   \n",
       "1  Don Vito Corleone, head of a mafia family, dec...  Francis Ford Coppola   \n",
       "2  When the menace known as the Joker wreaks havo...     Christopher Nolan   \n",
       "3  In German-occupied Poland during World War II,...      Steven Spielberg   \n",
       "4  The early life and career of Vito Corleone in ...  Francis Ford Coppola   \n",
       "\n",
       "                                                Cast  \n",
       "0  Tim Robbins, Morgan Freeman, Bob Gunton, Willi...  \n",
       "1  Marlon Brando, Al Pacino, James Caan, Diane Ke...  \n",
       "2  Christian Bale, Heath Ledger, Aaron Eckhart, M...  \n",
       "3  Liam Neeson, Ralph Fiennes, Ben Kingsley, Caro...  \n",
       "4  Al Pacino, Robert De Niro, Robert Duvall, Dian...  "
      ]
     },
     "execution_count": 135,
     "metadata": {},
     "output_type": "execute_result"
    }
   ],
   "source": [
    "df.head()"
   ]
  },
  {
   "cell_type": "code",
   "execution_count": 83,
   "id": "6f86249c",
   "metadata": {},
   "outputs": [],
   "source": [
    "def extract_keywords(text):\n",
    "    \n",
    "    r = Rake()\n",
    "\n",
    "    r.extract_keywords_from_text(text)\n",
    "\n",
    "    # getting the dictionary whith key words as keys and their scores as values\n",
    "    key_words_dict_scores = r.get_word_degrees()\n",
    "   \n",
    "    key_words = list(key_words_dict_scores.keys())\n",
    "    \n",
    "    return key_words"
   ]
  },
  {
   "cell_type": "code",
   "execution_count": 161,
   "id": "bf567fc9",
   "metadata": {},
   "outputs": [],
   "source": [
    "def transform_df(df):\n",
    "    df['Genre'] = df['Genre'].map(lambda x: x.replace(' ',''))\n",
    "    df['Genre'] = df['Genre'].map(lambda x: x.lower().split(','))\n",
    "    df['Director'] = df['Director'].map(lambda x: x.replace(' ',''))\n",
    "    df['Director'] = df['Director'].map(lambda x: x.lower().split(','))\n",
    "    df['Cast'] = df['Cast'].map(lambda x: x.replace(' ',''))\n",
    "    df['Cast'] = df['Cast'].map(lambda x: x.lower().split(','))\n",
    "    df['Keywords'] = df['Description'].map(extract_keywords)\n",
    "    df['Bagofwords'] = df.Genre + df.Director + df.Cast + df.Keywords\n",
    "    df['Bagofwords'] = df['Bagofwords'].map(lambda x: ' '.join(x))\n",
    "    transformed_df = df.drop(columns=['Genre', 'Description', 'Director', 'Cast', 'Keywords'])\n",
    "    \n",
    "    return transformed_df\n",
    "    "
   ]
  },
  {
   "cell_type": "code",
   "execution_count": 162,
   "id": "414b5851",
   "metadata": {},
   "outputs": [],
   "source": [
    "transformed_df = transform_df(df)"
   ]
  },
  {
   "cell_type": "code",
   "execution_count": 163,
   "id": "05de24b9",
   "metadata": {},
   "outputs": [
    {
     "data": {
      "text/html": [
       "<div>\n",
       "<style scoped>\n",
       "    .dataframe tbody tr th:only-of-type {\n",
       "        vertical-align: middle;\n",
       "    }\n",
       "\n",
       "    .dataframe tbody tr th {\n",
       "        vertical-align: top;\n",
       "    }\n",
       "\n",
       "    .dataframe thead th {\n",
       "        text-align: right;\n",
       "    }\n",
       "</style>\n",
       "<table border=\"1\" class=\"dataframe\">\n",
       "  <thead>\n",
       "    <tr style=\"text-align: right;\">\n",
       "      <th></th>\n",
       "      <th>Title</th>\n",
       "      <th>Bagofwords</th>\n",
       "    </tr>\n",
       "  </thead>\n",
       "  <tbody>\n",
       "    <tr>\n",
       "      <th>0</th>\n",
       "      <td>The Shawshank Redemption (1994)</td>\n",
       "      <td>drama frankdarabont timrobbins morganfreeman b...</td>\n",
       "    </tr>\n",
       "    <tr>\n",
       "      <th>1</th>\n",
       "      <td>The Godfather (1972)</td>\n",
       "      <td>crime drama francisfordcoppola marlonbrando al...</td>\n",
       "    </tr>\n",
       "    <tr>\n",
       "      <th>2</th>\n",
       "      <td>The Dark Knight (2008)</td>\n",
       "      <td>action crime drama christophernolan christianb...</td>\n",
       "    </tr>\n",
       "    <tr>\n",
       "      <th>3</th>\n",
       "      <td>Schindler's List (1993)</td>\n",
       "      <td>biography drama history stevenspielberg liamne...</td>\n",
       "    </tr>\n",
       "    <tr>\n",
       "      <th>4</th>\n",
       "      <td>The Godfather Part II (1974)</td>\n",
       "      <td>crime drama francisfordcoppola alpacino robert...</td>\n",
       "    </tr>\n",
       "  </tbody>\n",
       "</table>\n",
       "</div>"
      ],
      "text/plain": [
       "                             Title  \\\n",
       "0  The Shawshank Redemption (1994)   \n",
       "1             The Godfather (1972)   \n",
       "2           The Dark Knight (2008)   \n",
       "3          Schindler's List (1993)   \n",
       "4     The Godfather Part II (1974)   \n",
       "\n",
       "                                          Bagofwords  \n",
       "0  drama frankdarabont timrobbins morganfreeman b...  \n",
       "1  crime drama francisfordcoppola marlonbrando al...  \n",
       "2  action crime drama christophernolan christianb...  \n",
       "3  biography drama history stevenspielberg liamne...  \n",
       "4  crime drama francisfordcoppola alpacino robert...  "
      ]
     },
     "execution_count": 163,
     "metadata": {},
     "output_type": "execute_result"
    }
   ],
   "source": [
    "transformed_df.head()"
   ]
  },
  {
   "cell_type": "code",
   "execution_count": 177,
   "id": "29df9dab",
   "metadata": {},
   "outputs": [],
   "source": [
    "vectorizer = CountVectorizer()\n",
    "count_matrix = vectorizer.fit_transform(transformed_df['Bagofwords'])\n",
    "count_array = count_matrix.toarray()\n",
    "count_df = pd.DataFrame(data=count_array,columns = vectorizer.get_feature_names_out())"
   ]
  },
  {
   "cell_type": "code",
   "execution_count": 178,
   "id": "ea4291f1",
   "metadata": {},
   "outputs": [
    {
     "data": {
      "text/html": [
       "<div>\n",
       "<style scoped>\n",
       "    .dataframe tbody tr th:only-of-type {\n",
       "        vertical-align: middle;\n",
       "    }\n",
       "\n",
       "    .dataframe tbody tr th {\n",
       "        vertical-align: top;\n",
       "    }\n",
       "\n",
       "    .dataframe thead th {\n",
       "        text-align: right;\n",
       "    }\n",
       "</style>\n",
       "<table border=\"1\" class=\"dataframe\">\n",
       "  <thead>\n",
       "    <tr style=\"text-align: right;\">\n",
       "      <th></th>\n",
       "      <th>00</th>\n",
       "      <th>000</th>\n",
       "      <th>007</th>\n",
       "      <th>10</th>\n",
       "      <th>100</th>\n",
       "      <th>100th</th>\n",
       "      <th>11</th>\n",
       "      <th>1183</th>\n",
       "      <th>1190s</th>\n",
       "      <th>11th</th>\n",
       "      <th>...</th>\n",
       "      <th>zulu</th>\n",
       "      <th>álvaroguerrero</th>\n",
       "      <th>çaganirmak</th>\n",
       "      <th>çetintekindor</th>\n",
       "      <th>émilevallée</th>\n",
       "      <th>érictoledano</th>\n",
       "      <th>ömerfaruksorak</th>\n",
       "      <th>ömervargi</th>\n",
       "      <th>özgeözberk</th>\n",
       "      <th>özgürerenkoç</th>\n",
       "    </tr>\n",
       "  </thead>\n",
       "  <tbody>\n",
       "    <tr>\n",
       "      <th>0</th>\n",
       "      <td>0</td>\n",
       "      <td>0</td>\n",
       "      <td>0</td>\n",
       "      <td>0</td>\n",
       "      <td>0</td>\n",
       "      <td>0</td>\n",
       "      <td>0</td>\n",
       "      <td>0</td>\n",
       "      <td>0</td>\n",
       "      <td>0</td>\n",
       "      <td>...</td>\n",
       "      <td>0</td>\n",
       "      <td>0</td>\n",
       "      <td>0</td>\n",
       "      <td>0</td>\n",
       "      <td>0</td>\n",
       "      <td>0</td>\n",
       "      <td>0</td>\n",
       "      <td>0</td>\n",
       "      <td>0</td>\n",
       "      <td>0</td>\n",
       "    </tr>\n",
       "    <tr>\n",
       "      <th>1</th>\n",
       "      <td>0</td>\n",
       "      <td>0</td>\n",
       "      <td>0</td>\n",
       "      <td>0</td>\n",
       "      <td>0</td>\n",
       "      <td>0</td>\n",
       "      <td>0</td>\n",
       "      <td>0</td>\n",
       "      <td>0</td>\n",
       "      <td>0</td>\n",
       "      <td>...</td>\n",
       "      <td>0</td>\n",
       "      <td>0</td>\n",
       "      <td>0</td>\n",
       "      <td>0</td>\n",
       "      <td>0</td>\n",
       "      <td>0</td>\n",
       "      <td>0</td>\n",
       "      <td>0</td>\n",
       "      <td>0</td>\n",
       "      <td>0</td>\n",
       "    </tr>\n",
       "    <tr>\n",
       "      <th>2</th>\n",
       "      <td>0</td>\n",
       "      <td>0</td>\n",
       "      <td>0</td>\n",
       "      <td>0</td>\n",
       "      <td>0</td>\n",
       "      <td>0</td>\n",
       "      <td>0</td>\n",
       "      <td>0</td>\n",
       "      <td>0</td>\n",
       "      <td>0</td>\n",
       "      <td>...</td>\n",
       "      <td>0</td>\n",
       "      <td>0</td>\n",
       "      <td>0</td>\n",
       "      <td>0</td>\n",
       "      <td>0</td>\n",
       "      <td>0</td>\n",
       "      <td>0</td>\n",
       "      <td>0</td>\n",
       "      <td>0</td>\n",
       "      <td>0</td>\n",
       "    </tr>\n",
       "    <tr>\n",
       "      <th>3</th>\n",
       "      <td>0</td>\n",
       "      <td>0</td>\n",
       "      <td>0</td>\n",
       "      <td>0</td>\n",
       "      <td>0</td>\n",
       "      <td>0</td>\n",
       "      <td>0</td>\n",
       "      <td>0</td>\n",
       "      <td>0</td>\n",
       "      <td>0</td>\n",
       "      <td>...</td>\n",
       "      <td>0</td>\n",
       "      <td>0</td>\n",
       "      <td>0</td>\n",
       "      <td>0</td>\n",
       "      <td>0</td>\n",
       "      <td>0</td>\n",
       "      <td>0</td>\n",
       "      <td>0</td>\n",
       "      <td>0</td>\n",
       "      <td>0</td>\n",
       "    </tr>\n",
       "    <tr>\n",
       "      <th>4</th>\n",
       "      <td>0</td>\n",
       "      <td>0</td>\n",
       "      <td>0</td>\n",
       "      <td>0</td>\n",
       "      <td>0</td>\n",
       "      <td>0</td>\n",
       "      <td>0</td>\n",
       "      <td>0</td>\n",
       "      <td>0</td>\n",
       "      <td>0</td>\n",
       "      <td>...</td>\n",
       "      <td>0</td>\n",
       "      <td>0</td>\n",
       "      <td>0</td>\n",
       "      <td>0</td>\n",
       "      <td>0</td>\n",
       "      <td>0</td>\n",
       "      <td>0</td>\n",
       "      <td>0</td>\n",
       "      <td>0</td>\n",
       "      <td>0</td>\n",
       "    </tr>\n",
       "  </tbody>\n",
       "</table>\n",
       "<p>5 rows × 9133 columns</p>\n",
       "</div>"
      ],
      "text/plain": [
       "   00  000  007  10  100  100th  11  1183  1190s  11th  ...  zulu  \\\n",
       "0   0    0    0   0    0      0   0     0      0     0  ...     0   \n",
       "1   0    0    0   0    0      0   0     0      0     0  ...     0   \n",
       "2   0    0    0   0    0      0   0     0      0     0  ...     0   \n",
       "3   0    0    0   0    0      0   0     0      0     0  ...     0   \n",
       "4   0    0    0   0    0      0   0     0      0     0  ...     0   \n",
       "\n",
       "   álvaroguerrero  çaganirmak  çetintekindor  émilevallée  érictoledano  \\\n",
       "0               0           0              0            0             0   \n",
       "1               0           0              0            0             0   \n",
       "2               0           0              0            0             0   \n",
       "3               0           0              0            0             0   \n",
       "4               0           0              0            0             0   \n",
       "\n",
       "   ömerfaruksorak  ömervargi  özgeözberk  özgürerenkoç  \n",
       "0               0          0           0             0  \n",
       "1               0          0           0             0  \n",
       "2               0          0           0             0  \n",
       "3               0          0           0             0  \n",
       "4               0          0           0             0  \n",
       "\n",
       "[5 rows x 9133 columns]"
      ]
     },
     "execution_count": 178,
     "metadata": {},
     "output_type": "execute_result"
    }
   ],
   "source": [
    "count_df.head()"
   ]
  },
  {
   "cell_type": "code",
   "execution_count": 169,
   "id": "0f7b8111",
   "metadata": {},
   "outputs": [
    {
     "data": {
      "text/plain": [
       "(1000, 9133)"
      ]
     },
     "execution_count": 169,
     "metadata": {},
     "output_type": "execute_result"
    }
   ],
   "source": [
    "count_array.shape"
   ]
  },
  {
   "cell_type": "code",
   "execution_count": 179,
   "id": "e9dda301",
   "metadata": {},
   "outputs": [],
   "source": [
    "count_df.insert(0, 'Title', transformed_df['Title'])"
   ]
  },
  {
   "cell_type": "code",
   "execution_count": 176,
   "id": "f8272f9b",
   "metadata": {},
   "outputs": [
    {
     "data": {
      "text/html": [
       "<div>\n",
       "<style scoped>\n",
       "    .dataframe tbody tr th:only-of-type {\n",
       "        vertical-align: middle;\n",
       "    }\n",
       "\n",
       "    .dataframe tbody tr th {\n",
       "        vertical-align: top;\n",
       "    }\n",
       "\n",
       "    .dataframe thead th {\n",
       "        text-align: right;\n",
       "    }\n",
       "</style>\n",
       "<table border=\"1\" class=\"dataframe\">\n",
       "  <thead>\n",
       "    <tr style=\"text-align: right;\">\n",
       "      <th></th>\n",
       "      <th>Title</th>\n",
       "      <th>00</th>\n",
       "      <th>000</th>\n",
       "      <th>007</th>\n",
       "      <th>10</th>\n",
       "      <th>100</th>\n",
       "      <th>100th</th>\n",
       "      <th>11</th>\n",
       "      <th>1183</th>\n",
       "      <th>1190s</th>\n",
       "      <th>...</th>\n",
       "      <th>zulu</th>\n",
       "      <th>álvaroguerrero</th>\n",
       "      <th>çaganirmak</th>\n",
       "      <th>çetintekindor</th>\n",
       "      <th>émilevallée</th>\n",
       "      <th>érictoledano</th>\n",
       "      <th>ömerfaruksorak</th>\n",
       "      <th>ömervargi</th>\n",
       "      <th>özgeözberk</th>\n",
       "      <th>özgürerenkoç</th>\n",
       "    </tr>\n",
       "  </thead>\n",
       "  <tbody>\n",
       "    <tr>\n",
       "      <th>0</th>\n",
       "      <td>The Shawshank Redemption (1994)</td>\n",
       "      <td>0</td>\n",
       "      <td>0</td>\n",
       "      <td>0</td>\n",
       "      <td>0</td>\n",
       "      <td>0</td>\n",
       "      <td>0</td>\n",
       "      <td>0</td>\n",
       "      <td>0</td>\n",
       "      <td>0</td>\n",
       "      <td>...</td>\n",
       "      <td>0</td>\n",
       "      <td>0</td>\n",
       "      <td>0</td>\n",
       "      <td>0</td>\n",
       "      <td>0</td>\n",
       "      <td>0</td>\n",
       "      <td>0</td>\n",
       "      <td>0</td>\n",
       "      <td>0</td>\n",
       "      <td>0</td>\n",
       "    </tr>\n",
       "    <tr>\n",
       "      <th>1</th>\n",
       "      <td>The Godfather (1972)</td>\n",
       "      <td>0</td>\n",
       "      <td>0</td>\n",
       "      <td>0</td>\n",
       "      <td>0</td>\n",
       "      <td>0</td>\n",
       "      <td>0</td>\n",
       "      <td>0</td>\n",
       "      <td>0</td>\n",
       "      <td>0</td>\n",
       "      <td>...</td>\n",
       "      <td>0</td>\n",
       "      <td>0</td>\n",
       "      <td>0</td>\n",
       "      <td>0</td>\n",
       "      <td>0</td>\n",
       "      <td>0</td>\n",
       "      <td>0</td>\n",
       "      <td>0</td>\n",
       "      <td>0</td>\n",
       "      <td>0</td>\n",
       "    </tr>\n",
       "    <tr>\n",
       "      <th>2</th>\n",
       "      <td>The Dark Knight (2008)</td>\n",
       "      <td>0</td>\n",
       "      <td>0</td>\n",
       "      <td>0</td>\n",
       "      <td>0</td>\n",
       "      <td>0</td>\n",
       "      <td>0</td>\n",
       "      <td>0</td>\n",
       "      <td>0</td>\n",
       "      <td>0</td>\n",
       "      <td>...</td>\n",
       "      <td>0</td>\n",
       "      <td>0</td>\n",
       "      <td>0</td>\n",
       "      <td>0</td>\n",
       "      <td>0</td>\n",
       "      <td>0</td>\n",
       "      <td>0</td>\n",
       "      <td>0</td>\n",
       "      <td>0</td>\n",
       "      <td>0</td>\n",
       "    </tr>\n",
       "    <tr>\n",
       "      <th>3</th>\n",
       "      <td>Schindler's List (1993)</td>\n",
       "      <td>0</td>\n",
       "      <td>0</td>\n",
       "      <td>0</td>\n",
       "      <td>0</td>\n",
       "      <td>0</td>\n",
       "      <td>0</td>\n",
       "      <td>0</td>\n",
       "      <td>0</td>\n",
       "      <td>0</td>\n",
       "      <td>...</td>\n",
       "      <td>0</td>\n",
       "      <td>0</td>\n",
       "      <td>0</td>\n",
       "      <td>0</td>\n",
       "      <td>0</td>\n",
       "      <td>0</td>\n",
       "      <td>0</td>\n",
       "      <td>0</td>\n",
       "      <td>0</td>\n",
       "      <td>0</td>\n",
       "    </tr>\n",
       "    <tr>\n",
       "      <th>4</th>\n",
       "      <td>The Godfather Part II (1974)</td>\n",
       "      <td>0</td>\n",
       "      <td>0</td>\n",
       "      <td>0</td>\n",
       "      <td>0</td>\n",
       "      <td>0</td>\n",
       "      <td>0</td>\n",
       "      <td>0</td>\n",
       "      <td>0</td>\n",
       "      <td>0</td>\n",
       "      <td>...</td>\n",
       "      <td>0</td>\n",
       "      <td>0</td>\n",
       "      <td>0</td>\n",
       "      <td>0</td>\n",
       "      <td>0</td>\n",
       "      <td>0</td>\n",
       "      <td>0</td>\n",
       "      <td>0</td>\n",
       "      <td>0</td>\n",
       "      <td>0</td>\n",
       "    </tr>\n",
       "  </tbody>\n",
       "</table>\n",
       "<p>5 rows × 9134 columns</p>\n",
       "</div>"
      ],
      "text/plain": [
       "                             Title  00  000  007  10  100  100th  11  1183  \\\n",
       "0  The Shawshank Redemption (1994)   0    0    0   0    0      0   0     0   \n",
       "1             The Godfather (1972)   0    0    0   0    0      0   0     0   \n",
       "2           The Dark Knight (2008)   0    0    0   0    0      0   0     0   \n",
       "3          Schindler's List (1993)   0    0    0   0    0      0   0     0   \n",
       "4     The Godfather Part II (1974)   0    0    0   0    0      0   0     0   \n",
       "\n",
       "   1190s  ...  zulu  álvaroguerrero  çaganirmak  çetintekindor  émilevallée  \\\n",
       "0      0  ...     0               0           0              0            0   \n",
       "1      0  ...     0               0           0              0            0   \n",
       "2      0  ...     0               0           0              0            0   \n",
       "3      0  ...     0               0           0              0            0   \n",
       "4      0  ...     0               0           0              0            0   \n",
       "\n",
       "   érictoledano  ömerfaruksorak  ömervargi  özgeözberk  özgürerenkoç  \n",
       "0             0               0          0           0             0  \n",
       "1             0               0          0           0             0  \n",
       "2             0               0          0           0             0  \n",
       "3             0               0          0           0             0  \n",
       "4             0               0          0           0             0  \n",
       "\n",
       "[5 rows x 9134 columns]"
      ]
     },
     "execution_count": 176,
     "metadata": {},
     "output_type": "execute_result"
    }
   ],
   "source": [
    "count_df.head()"
   ]
  },
  {
   "cell_type": "code",
   "execution_count": 171,
   "id": "33107112",
   "metadata": {},
   "outputs": [
    {
     "data": {
      "text/plain": [
       "False"
      ]
     },
     "execution_count": 171,
     "metadata": {},
     "output_type": "execute_result"
    }
   ],
   "source": [
    "'Toy Story (1995)' in transformed_df['Title']"
   ]
  },
  {
   "cell_type": "code",
   "execution_count": 180,
   "id": "c26ad638",
   "metadata": {},
   "outputs": [],
   "source": [
    "toy_story_bag = 'adventure animation children comedy fantasy johnlasseter tomhanks timallen donrickles tomhanks timallen donrickles cowboy doll profoundly threatened jealous new spaceman action figure supplants top toy boy bedroom '"
   ]
  },
  {
   "cell_type": "code",
   "execution_count": 182,
   "id": "095725da",
   "metadata": {},
   "outputs": [],
   "source": [
    "v = vectorizer.transform([toy_story_bag])"
   ]
  },
  {
   "cell_type": "code",
   "execution_count": 183,
   "id": "3e8fd66a",
   "metadata": {},
   "outputs": [
    {
     "data": {
      "text/plain": [
       "scipy.sparse._csr.csr_matrix"
      ]
     },
     "execution_count": 183,
     "metadata": {},
     "output_type": "execute_result"
    }
   ],
   "source": [
    "type(v)"
   ]
  },
  {
   "cell_type": "code",
   "execution_count": 184,
   "id": "02e5b437",
   "metadata": {},
   "outputs": [
    {
     "data": {
      "text/plain": [
       "<1x9133 sparse matrix of type '<class 'numpy.int64'>'\n",
       "\twith 23 stored elements in Compressed Sparse Row format>"
      ]
     },
     "execution_count": 184,
     "metadata": {},
     "output_type": "execute_result"
    }
   ],
   "source": [
    "v"
   ]
  },
  {
   "cell_type": "code",
   "execution_count": 187,
   "id": "6397d932",
   "metadata": {},
   "outputs": [
    {
     "data": {
      "text/plain": [
       "array([[0.]])"
      ]
     },
     "execution_count": 187,
     "metadata": {},
     "output_type": "execute_result"
    }
   ],
   "source": [
    "cosine_similarity([count_df.iloc[0,1:]], v)"
   ]
  },
  {
   "cell_type": "code",
   "execution_count": 193,
   "id": "5c029ac8",
   "metadata": {},
   "outputs": [],
   "source": [
    "# cos_sim = []\n",
    "# for i in range(len(count_df)):\n",
    "#     cos_sim.append(cosine_similarity([count_df.iloc[i,1:]], v))\n",
    "cos_sim = cosine_similarity(count_df.iloc[:,1:],v)"
   ]
  },
  {
   "cell_type": "code",
   "execution_count": null,
   "id": "765ee3b3",
   "metadata": {
    "collapsed": true
   },
   "outputs": [],
   "source": []
  },
  {
   "cell_type": "code",
   "execution_count": 194,
   "id": "628fdf9b",
   "metadata": {},
   "outputs": [
    {
     "data": {
      "text/plain": [
       "array([0.90453403])"
      ]
     },
     "execution_count": 194,
     "metadata": {},
     "output_type": "execute_result"
    }
   ],
   "source": [
    "max(cos_sim)"
   ]
  },
  {
   "cell_type": "code",
   "execution_count": 191,
   "id": "bb12d7d2",
   "metadata": {},
   "outputs": [
    {
     "ename": "AttributeError",
     "evalue": "'list' object has no attribute 'shape'",
     "output_type": "error",
     "traceback": [
      "\u001b[0;31m---------------------------------------------------------------------------\u001b[0m",
      "\u001b[0;31mAttributeError\u001b[0m                            Traceback (most recent call last)",
      "\u001b[0;32m/var/folders/pl/20832w516ndbmml1sf0r8rdh0000gn/T/ipykernel_35888/1342166101.py\u001b[0m in \u001b[0;36m<module>\u001b[0;34m\u001b[0m\n\u001b[0;32m----> 1\u001b[0;31m \u001b[0mcos_sim\u001b[0m\u001b[0;34m.\u001b[0m\u001b[0mshape\u001b[0m\u001b[0;34m\u001b[0m\u001b[0;34m\u001b[0m\u001b[0m\n\u001b[0m",
      "\u001b[0;31mAttributeError\u001b[0m: 'list' object has no attribute 'shape'"
     ]
    }
   ],
   "source": [
    "cos_sim.shape"
   ]
  },
  {
   "cell_type": "code",
   "execution_count": 192,
   "id": "2d2e2ab2",
   "metadata": {},
   "outputs": [
    {
     "name": "stdout",
     "output_type": "stream",
     "text": [
      "Help on function cosine_similarity in module sklearn.metrics.pairwise:\n",
      "\n",
      "cosine_similarity(X, Y=None, dense_output=True)\n",
      "    Compute cosine similarity between samples in X and Y.\n",
      "    \n",
      "    Cosine similarity, or the cosine kernel, computes similarity as the\n",
      "    normalized dot product of X and Y:\n",
      "    \n",
      "        K(X, Y) = <X, Y> / (||X||*||Y||)\n",
      "    \n",
      "    On L2-normalized data, this function is equivalent to linear_kernel.\n",
      "    \n",
      "    Read more in the :ref:`User Guide <cosine_similarity>`.\n",
      "    \n",
      "    Parameters\n",
      "    ----------\n",
      "    X : {ndarray, sparse matrix} of shape (n_samples_X, n_features)\n",
      "        Input data.\n",
      "    \n",
      "    Y : {ndarray, sparse matrix} of shape (n_samples_Y, n_features),             default=None\n",
      "        Input data. If ``None``, the output will be the pairwise\n",
      "        similarities between all samples in ``X``.\n",
      "    \n",
      "    dense_output : bool, default=True\n",
      "        Whether to return dense output even when the input is sparse. If\n",
      "        ``False``, the output is sparse if both input arrays are sparse.\n",
      "    \n",
      "        .. versionadded:: 0.17\n",
      "           parameter ``dense_output`` for dense output.\n",
      "    \n",
      "    Returns\n",
      "    -------\n",
      "    kernel matrix : ndarray of shape (n_samples_X, n_samples_Y)\n",
      "\n"
     ]
    }
   ],
   "source": [
    "help(cosine_similarity)"
   ]
  },
  {
   "cell_type": "code",
   "execution_count": 189,
   "id": "8c51e4c2",
   "metadata": {},
   "outputs": [
    {
     "data": {
      "text/plain": [
       "array([[[0]],\n",
       "\n",
       "       [[0]],\n",
       "\n",
       "       [[0]],\n",
       "\n",
       "       [[0]],\n",
       "\n",
       "       [[0]]])"
      ]
     },
     "execution_count": 189,
     "metadata": {},
     "output_type": "execute_result"
    }
   ],
   "source": [
    "sorted = np.argsort(cos_sim)\n",
    "rec_indeces = sorted[-5:]\n",
    "rec_indeces"
   ]
  },
  {
   "cell_type": "code",
   "execution_count": null,
   "id": "5c60ee26",
   "metadata": {},
   "outputs": [],
   "source": []
  }
 ],
 "metadata": {
  "kernelspec": {
   "display_name": "Python 3 (ipykernel)",
   "language": "python",
   "name": "python3"
  },
  "language_info": {
   "codemirror_mode": {
    "name": "ipython",
    "version": 3
   },
   "file_extension": ".py",
   "mimetype": "text/x-python",
   "name": "python",
   "nbconvert_exporter": "python",
   "pygments_lexer": "ipython3",
   "version": "3.9.13"
  }
 },
 "nbformat": 4,
 "nbformat_minor": 5
}
