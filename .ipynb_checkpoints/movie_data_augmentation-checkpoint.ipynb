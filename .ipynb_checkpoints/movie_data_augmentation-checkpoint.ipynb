{
 "cells": [
  {
   "cell_type": "code",
   "execution_count": 271,
   "id": "83b4c1df",
   "metadata": {},
   "outputs": [],
   "source": [
    "import numpy as np\n",
    "import pandas as pd"
   ]
  },
  {
   "cell_type": "code",
   "execution_count": 272,
   "id": "9ebf0960",
   "metadata": {},
   "outputs": [
    {
     "data": {
      "text/html": [
       "<div>\n",
       "<style scoped>\n",
       "    .dataframe tbody tr th:only-of-type {\n",
       "        vertical-align: middle;\n",
       "    }\n",
       "\n",
       "    .dataframe tbody tr th {\n",
       "        vertical-align: top;\n",
       "    }\n",
       "\n",
       "    .dataframe thead th {\n",
       "        text-align: right;\n",
       "    }\n",
       "</style>\n",
       "<table border=\"1\" class=\"dataframe\">\n",
       "  <thead>\n",
       "    <tr style=\"text-align: right;\">\n",
       "      <th></th>\n",
       "      <th>movieId</th>\n",
       "      <th>title</th>\n",
       "      <th>genres</th>\n",
       "    </tr>\n",
       "  </thead>\n",
       "  <tbody>\n",
       "    <tr>\n",
       "      <th>0</th>\n",
       "      <td>1</td>\n",
       "      <td>Toy Story (1995)</td>\n",
       "      <td>Adventure|Animation|Children|Comedy|Fantasy</td>\n",
       "    </tr>\n",
       "    <tr>\n",
       "      <th>1</th>\n",
       "      <td>2</td>\n",
       "      <td>Jumanji (1995)</td>\n",
       "      <td>Adventure|Children|Fantasy</td>\n",
       "    </tr>\n",
       "    <tr>\n",
       "      <th>2</th>\n",
       "      <td>3</td>\n",
       "      <td>Grumpier Old Men (1995)</td>\n",
       "      <td>Comedy|Romance</td>\n",
       "    </tr>\n",
       "    <tr>\n",
       "      <th>3</th>\n",
       "      <td>4</td>\n",
       "      <td>Waiting to Exhale (1995)</td>\n",
       "      <td>Comedy|Drama|Romance</td>\n",
       "    </tr>\n",
       "    <tr>\n",
       "      <th>4</th>\n",
       "      <td>5</td>\n",
       "      <td>Father of the Bride Part II (1995)</td>\n",
       "      <td>Comedy</td>\n",
       "    </tr>\n",
       "  </tbody>\n",
       "</table>\n",
       "</div>"
      ],
      "text/plain": [
       "   movieId                               title  \\\n",
       "0        1                    Toy Story (1995)   \n",
       "1        2                      Jumanji (1995)   \n",
       "2        3             Grumpier Old Men (1995)   \n",
       "3        4            Waiting to Exhale (1995)   \n",
       "4        5  Father of the Bride Part II (1995)   \n",
       "\n",
       "                                        genres  \n",
       "0  Adventure|Animation|Children|Comedy|Fantasy  \n",
       "1                   Adventure|Children|Fantasy  \n",
       "2                               Comedy|Romance  \n",
       "3                         Comedy|Drama|Romance  \n",
       "4                                       Comedy  "
      ]
     },
     "execution_count": 272,
     "metadata": {},
     "output_type": "execute_result"
    }
   ],
   "source": [
    "movie_file = '../Downloads/ml-25m/movies.csv'\n",
    "df = pd.read_csv(movie_file)\n",
    "df.head()"
   ]
  },
  {
   "cell_type": "code",
   "execution_count": 23,
   "id": "cc27f7e1",
   "metadata": {},
   "outputs": [
    {
     "name": "stdout",
     "output_type": "stream",
     "text": [
      "Requirement already satisfied: beautifulsoup4 in /Users/lucy/opt/anaconda3/lib/python3.9/site-packages (4.11.1)\r\n",
      "Requirement already satisfied: soupsieve>1.2 in /Users/lucy/opt/anaconda3/lib/python3.9/site-packages (from beautifulsoup4) (2.3.1)\r\n"
     ]
    }
   ],
   "source": [
    "!pip3 install beautifulsoup4"
   ]
  },
  {
   "cell_type": "code",
   "execution_count": 24,
   "id": "741e0b96",
   "metadata": {},
   "outputs": [
    {
     "name": "stdout",
     "output_type": "stream",
     "text": [
      "Requirement already satisfied: requests in /Users/lucy/opt/anaconda3/lib/python3.9/site-packages (2.28.1)\r\n",
      "Requirement already satisfied: charset-normalizer<3,>=2 in /Users/lucy/opt/anaconda3/lib/python3.9/site-packages (from requests) (2.0.4)\r\n",
      "Requirement already satisfied: urllib3<1.27,>=1.21.1 in /Users/lucy/opt/anaconda3/lib/python3.9/site-packages (from requests) (1.26.11)\r\n",
      "Requirement already satisfied: idna<4,>=2.5 in /Users/lucy/opt/anaconda3/lib/python3.9/site-packages (from requests) (3.3)\r\n",
      "Requirement already satisfied: certifi>=2017.4.17 in /Users/lucy/opt/anaconda3/lib/python3.9/site-packages (from requests) (2022.9.24)\r\n"
     ]
    }
   ],
   "source": [
    "!pip3 install requests"
   ]
  },
  {
   "cell_type": "code",
   "execution_count": 273,
   "id": "bed9cfa3",
   "metadata": {},
   "outputs": [],
   "source": [
    "import requests\n",
    "from bs4 import BeautifulSoup"
   ]
  },
  {
   "cell_type": "code",
   "execution_count": 274,
   "id": "d193bf50",
   "metadata": {},
   "outputs": [],
   "source": [
    "links_db = pd.read_csv('../Downloads/ml-25m/links.csv')"
   ]
  },
  {
   "cell_type": "code",
   "execution_count": 275,
   "id": "497adc86",
   "metadata": {},
   "outputs": [
    {
     "data": {
      "text/html": [
       "<div>\n",
       "<style scoped>\n",
       "    .dataframe tbody tr th:only-of-type {\n",
       "        vertical-align: middle;\n",
       "    }\n",
       "\n",
       "    .dataframe tbody tr th {\n",
       "        vertical-align: top;\n",
       "    }\n",
       "\n",
       "    .dataframe thead th {\n",
       "        text-align: right;\n",
       "    }\n",
       "</style>\n",
       "<table border=\"1\" class=\"dataframe\">\n",
       "  <thead>\n",
       "    <tr style=\"text-align: right;\">\n",
       "      <th></th>\n",
       "      <th>movieId</th>\n",
       "      <th>imdbId</th>\n",
       "      <th>tmdbId</th>\n",
       "    </tr>\n",
       "  </thead>\n",
       "  <tbody>\n",
       "    <tr>\n",
       "      <th>0</th>\n",
       "      <td>1</td>\n",
       "      <td>114709</td>\n",
       "      <td>862.0</td>\n",
       "    </tr>\n",
       "    <tr>\n",
       "      <th>1</th>\n",
       "      <td>2</td>\n",
       "      <td>113497</td>\n",
       "      <td>8844.0</td>\n",
       "    </tr>\n",
       "    <tr>\n",
       "      <th>2</th>\n",
       "      <td>3</td>\n",
       "      <td>113228</td>\n",
       "      <td>15602.0</td>\n",
       "    </tr>\n",
       "    <tr>\n",
       "      <th>3</th>\n",
       "      <td>4</td>\n",
       "      <td>114885</td>\n",
       "      <td>31357.0</td>\n",
       "    </tr>\n",
       "    <tr>\n",
       "      <th>4</th>\n",
       "      <td>5</td>\n",
       "      <td>113041</td>\n",
       "      <td>11862.0</td>\n",
       "    </tr>\n",
       "  </tbody>\n",
       "</table>\n",
       "</div>"
      ],
      "text/plain": [
       "   movieId  imdbId   tmdbId\n",
       "0        1  114709    862.0\n",
       "1        2  113497   8844.0\n",
       "2        3  113228  15602.0\n",
       "3        4  114885  31357.0\n",
       "4        5  113041  11862.0"
      ]
     },
     "execution_count": 275,
     "metadata": {},
     "output_type": "execute_result"
    }
   ],
   "source": [
    "links_db.head()"
   ]
  },
  {
   "cell_type": "code",
   "execution_count": 28,
   "id": "2bbb2fa9",
   "metadata": {},
   "outputs": [
    {
     "name": "stdout",
     "output_type": "stream",
     "text": [
      "<Response [200]>\n"
     ]
    }
   ],
   "source": [
    "headers={'User-Agent': 'Mozilla/5.0'}\n",
    "res = requests.get('https://www.imdb.com/', headers=headers)\n",
    "print(res)"
   ]
  },
  {
   "cell_type": "code",
   "execution_count": 56,
   "id": "de77763a",
   "metadata": {},
   "outputs": [
    {
     "name": "stdout",
     "output_type": "stream",
     "text": [
      "<Response [200]>\n",
      "[<span class=\"sc-5f699a2-0 kcphyk\" data-testid=\"plot-xs_to_m\" role=\"presentation\">A cowboy doll is profoundly threatened and jealous when a new spaceman action figure supplants him as top toy in a boy's bedroom.</span>]\n"
     ]
    }
   ],
   "source": [
    "res = requests.get('https://www.imdb.com/title/tt0114709/', headers=headers)\n",
    "print(res)\n",
    "soup = BeautifulSoup(res.text, 'html.parser')\n",
    "description = soup.select('span.sc-5f699a2-0.kcphyk')\n",
    "print(description)"
   ]
  },
  {
   "cell_type": "code",
   "execution_count": 50,
   "id": "7091bc60",
   "metadata": {},
   "outputs": [
    {
     "name": "stdout",
     "output_type": "stream",
     "text": [
      "John Lasseter\n"
     ]
    }
   ],
   "source": [
    "director = soup.select('a.ipc-metadata-list-item__list-content-item.ipc-metadata-list-item__list-content-item--link')\n",
    "print(director[0].getText())"
   ]
  },
  {
   "cell_type": "code",
   "execution_count": 57,
   "id": "952b3f8c",
   "metadata": {},
   "outputs": [
    {
     "name": "stdout",
     "output_type": "stream",
     "text": [
      "<Response [200]>\n"
     ]
    }
   ],
   "source": [
    "res = requests.get('https://www.imdb.com/title/tt16419074/', headers=headers)\n",
    "print(res)"
   ]
  },
  {
   "cell_type": "code",
   "execution_count": 58,
   "id": "260da61e",
   "metadata": {},
   "outputs": [],
   "source": [
    "soup = BeautifulSoup(res.text, 'html.parser')"
   ]
  },
  {
   "cell_type": "code",
   "execution_count": 60,
   "id": "981a148c",
   "metadata": {},
   "outputs": [
    {
     "data": {
      "text/plain": [
       "'Follows the history of shoe salesman Sonny Vaccaro, and how he led Nike in its pursuit of the greatest athlete in the history of basketball, Michael Jordan.'"
      ]
     },
     "execution_count": 60,
     "metadata": {},
     "output_type": "execute_result"
    }
   ],
   "source": [
    "soup.find(\"span\", {\"data-testid\": \"plot-xs_to_m\"}).getText()"
   ]
  },
  {
   "cell_type": "code",
   "execution_count": 62,
   "id": "bf69492d",
   "metadata": {},
   "outputs": [
    {
     "data": {
      "text/plain": [
       "'Director'"
      ]
     },
     "execution_count": 62,
     "metadata": {},
     "output_type": "execute_result"
    }
   ],
   "source": [
    "soup.find(\"span\", {\"aria-label\": \"See full cast and crew\"}).getText()"
   ]
  },
  {
   "cell_type": "code",
   "execution_count": 68,
   "id": "977f187f",
   "metadata": {
    "scrolled": false
   },
   "outputs": [],
   "source": [
    "metadata = soup.find_all(\"div\", {\"class\": \"ipc-metadata-list-item__content-container\"})"
   ]
  },
  {
   "cell_type": "code",
   "execution_count": 69,
   "id": "1fa3efa8",
   "metadata": {},
   "outputs": [
    {
     "data": {
      "text/plain": [
       "31"
      ]
     },
     "execution_count": 69,
     "metadata": {},
     "output_type": "execute_result"
    }
   ],
   "source": [
    "len(metadata)"
   ]
  },
  {
   "cell_type": "code",
   "execution_count": 71,
   "id": "7f08d3be",
   "metadata": {},
   "outputs": [
    {
     "data": {
      "text/plain": [
       "'Ben Affleck'"
      ]
     },
     "execution_count": 71,
     "metadata": {},
     "output_type": "execute_result"
    }
   ],
   "source": [
    "metadata[0].getText()"
   ]
  },
  {
   "cell_type": "code",
   "execution_count": 72,
   "id": "b05a47f7",
   "metadata": {},
   "outputs": [
    {
     "data": {
      "text/plain": [
       "'Matt DamonJason BatemanBen Affleck'"
      ]
     },
     "execution_count": 72,
     "metadata": {},
     "output_type": "execute_result"
    }
   ],
   "source": [
    "metadata[2].getText()"
   ]
  },
  {
   "cell_type": "code",
   "execution_count": 181,
   "id": "f7671cdc",
   "metadata": {},
   "outputs": [
    {
     "name": "stdout",
     "output_type": "stream",
     "text": [
      "<Response [200]>\n"
     ]
    }
   ],
   "source": [
    "res = requests.get('https://www.imdb.com/title/tt6968614/', headers=headers)\n",
    "print(res)"
   ]
  },
  {
   "cell_type": "code",
   "execution_count": 182,
   "id": "5f05cc59",
   "metadata": {},
   "outputs": [],
   "source": [
    "soup = BeautifulSoup(res.text, 'html.parser')"
   ]
  },
  {
   "cell_type": "code",
   "execution_count": 183,
   "id": "ee2187a7",
   "metadata": {},
   "outputs": [
    {
     "data": {
      "text/plain": [
       "'While fleeing from dangerous assailants, an assassin comes out of hiding to protect the daughter she had left earlier in life.'"
      ]
     },
     "execution_count": 183,
     "metadata": {},
     "output_type": "execute_result"
    }
   ],
   "source": [
    "soup.find(\"span\", {\"data-testid\": \"plot-xs_to_m\"}).getText()"
   ]
  },
  {
   "cell_type": "code",
   "execution_count": 187,
   "id": "04797a84",
   "metadata": {},
   "outputs": [],
   "source": [
    "list = soup.find_all(\"li\", {\"data-testid\": \"title-pc-principal-credit\"})"
   ]
  },
  {
   "cell_type": "code",
   "execution_count": 188,
   "id": "ad25a2b2",
   "metadata": {},
   "outputs": [
    {
     "data": {
      "text/plain": [
       "6"
      ]
     },
     "execution_count": 188,
     "metadata": {},
     "output_type": "execute_result"
    }
   ],
   "source": [
    "len(list)"
   ]
  },
  {
   "cell_type": "code",
   "execution_count": 190,
   "id": "12cd7b91",
   "metadata": {},
   "outputs": [
    {
     "data": {
      "text/plain": [
       "'Director'"
      ]
     },
     "execution_count": 190,
     "metadata": {},
     "output_type": "execute_result"
    }
   ],
   "source": [
    "list[0].span.getText()"
   ]
  },
  {
   "cell_type": "code",
   "execution_count": 193,
   "id": "0feaedb0",
   "metadata": {},
   "outputs": [
    {
     "data": {
      "text/plain": [
       "'Niki Caro'"
      ]
     },
     "execution_count": 193,
     "metadata": {},
     "output_type": "execute_result"
    }
   ],
   "source": [
    "list[0].div.ul.getText()"
   ]
  },
  {
   "cell_type": "code",
   "execution_count": 76,
   "id": "a08effec",
   "metadata": {},
   "outputs": [],
   "source": [
    "metadata = soup.find_all(\"div\", {\"class\": \"ipc-metadata-list-item__content-container\"})\n"
   ]
  },
  {
   "cell_type": "code",
   "execution_count": 86,
   "id": "c31da117",
   "metadata": {},
   "outputs": [
    {
     "data": {
      "text/plain": [
       "[<div class=\"ipc-metadata-list-item__content-container\"><ul class=\"ipc-inline-list ipc-inline-list--show-dividers ipc-inline-list--inline ipc-metadata-list-item__list-content baseAlt\" role=\"presentation\"><li class=\"ipc-inline-list__item\" role=\"presentation\"><a aria-disabled=\"false\" class=\"ipc-metadata-list-item__list-content-item ipc-metadata-list-item__list-content-item--link\" href=\"/name/nm0138927/?ref_=tt_ov_dr\" role=\"button\" tabindex=\"0\">Niki Caro</a></li></ul></div>,\n",
       " <div class=\"ipc-metadata-list-item__content-container\"><ul class=\"ipc-inline-list ipc-inline-list--show-dividers ipc-inline-list--inline ipc-metadata-list-item__list-content baseAlt\" role=\"presentation\"><li class=\"ipc-inline-list__item\" role=\"presentation\"><a aria-disabled=\"false\" class=\"ipc-metadata-list-item__list-content-item ipc-metadata-list-item__list-content-item--link\" href=\"/name/nm3207866/?ref_=tt_ov_wr\" role=\"button\" tabindex=\"0\">Misha Green</a></li><li class=\"ipc-inline-list__item\" role=\"presentation\"><a aria-disabled=\"false\" class=\"ipc-metadata-list-item__list-content-item ipc-metadata-list-item__list-content-item--link\" href=\"/name/nm0075696/?ref_=tt_ov_wr\" role=\"button\" tabindex=\"0\">Andrea Berloff</a></li><li class=\"ipc-inline-list__item\" role=\"presentation\"><a aria-disabled=\"false\" class=\"ipc-metadata-list-item__list-content-item ipc-metadata-list-item__list-content-item--link\" href=\"/name/nm0185976/?ref_=tt_ov_wr\" role=\"button\" tabindex=\"0\">Peter Craig</a></li></ul></div>,\n",
       " <div class=\"ipc-metadata-list-item__content-container\"><ul class=\"ipc-inline-list ipc-inline-list--show-dividers ipc-inline-list--inline ipc-metadata-list-item__list-content baseAlt\" role=\"presentation\"><li class=\"ipc-inline-list__item\" role=\"presentation\"><a aria-disabled=\"false\" class=\"ipc-metadata-list-item__list-content-item ipc-metadata-list-item__list-content-item--link\" href=\"/name/nm0000182/?ref_=tt_ov_st\" role=\"button\" tabindex=\"0\">Jennifer Lopez</a></li><li class=\"ipc-inline-list__item\" role=\"presentation\"><a aria-disabled=\"false\" class=\"ipc-metadata-list-item__list-content-item ipc-metadata-list-item__list-content-item--link\" href=\"/name/nm5515054/?ref_=tt_ov_st\" role=\"button\" tabindex=\"0\">Lucy Paez</a></li><li class=\"ipc-inline-list__item\" role=\"presentation\"><a aria-disabled=\"false\" class=\"ipc-metadata-list-item__list-content-item ipc-metadata-list-item__list-content-item--link\" href=\"/name/nm1165044/?ref_=tt_ov_st\" role=\"button\" tabindex=\"0\">Omari Hardwick</a></li></ul></div>,\n",
       " <div class=\"ipc-metadata-list-item__content-container\"><script>if(typeof uet === 'function'){ uet('bb', 'StaticFeature_ProUpsellLink', {wb: 1}); }</script><a class=\"sc-2662c89-0 gYVhmf pro-upsell pro-upsell--dark celwidget\" data-testid=\"title-hero-proupsell\" href=\"https://pro.imdb.com/title/tt6968614/?rf=cons_tt_atf&amp;ref_=cons_tt_atf\" id=\"ProUpsellLink\" rel=\"noopener nofollow\" target=\"_blank\"><svg class=\"ipc-logo pro-upsell__logo\" height=\"14.538461538461538\" version=\"1.1\" viewbox=\"0 0 52 14\" width=\"54\" xmlns=\"http://www.w3.org/2000/svg\"><g fill=\"currentColor\"><rect height=\"12.34\" width=\"3.21\" x=\"0\" y=\"1\"></rect><path d=\"M10,1 L9.3,6.76 L8.84,3.63 C8.7,2.62 8.58,1.75 8.45,1 L4.3,1 L4.3,13.34 L7.11,13.34 L7.11,5.19 L8.3,13.34 L10.3,13.34 L11.42,5 L11.42,13.33 L14.22,13.33 L14.22,1 L10,1 Z\"></path><path d=\"M19.24,3.22 C19.3711159,3.29185219 19.4602235,3.42180078 19.48,3.57 C19.5340993,3.92393477 19.554191,4.28223587 19.54,4.64 L19.54,9.42 C19.578852,9.92887392 19.5246327,10.4405682 19.38,10.93 C19.27,11.12 18.99,11.21 18.53,11.21 L18.53,3.11 C18.7718735,3.09406934 19.0142863,3.13162626 19.24,3.22 Z M19.24,13.34 C19.8163127,13.3574057 20.3928505,13.3138302 20.96,13.21 C21.3245396,13.1481159 21.6680909,12.9969533 21.96,12.77 C22.2288287,12.5438006 22.4209712,12.2398661 22.51,11.9 C22.643288,11.1679419 22.6969338,10.4236056 22.67,9.68 L22.67,5.34 C22.6662002,4.55669241 22.6060449,3.77467335 22.49,3 C22.43037,2.59841431 22.260779,2.22116094 22,1.91 C21.6636187,1.56093667 21.2326608,1.317654 20.76,1.21 C19.7709421,1.02848785 18.7647002,0.958050915 17.76,1 L15.32,1 L15.32,13.34 L19.24,13.34 Z\"></path><path d=\"M27.86,10.34 C27.8769902,10.7218086 27.8501483,11.1043064 27.78,11.48 C27.72,11.63 27.46,11.71 27.26,11.71 C27.0954951,11.7299271 26.9386363,11.6349863 26.88,11.48 C26.7930212,11.1542289 26.7592527,10.8165437 26.78,10.48 L26.78,7.18 C26.7626076,6.84408875 26.7929089,6.50740774 26.87,6.18 C26.9317534,6.03447231 27.0833938,5.94840616 27.24,5.97 C27.43,5.97 27.7,6.05 27.76,6.21 C27.8468064,6.53580251 27.8805721,6.87345964 27.86,7.21 L27.86,10.34 Z M23.7,1 L23.7,13.34 L26.58,13.34 L26.78,12.55 C27.0112432,12.8467609 27.3048209,13.0891332 27.64,13.26 C28.0022345,13.4198442 28.394069,13.5016184 28.79,13.5 C29.2588971,13.515288 29.7196211,13.3746089 30.1,13.1 C30.4399329,12.8800058 30.6913549,12.5471372 30.81,12.16 C30.9423503,11.6167622 31.0061799,11.0590937 31,10.5 L31,7 C31.0087531,6.51279482 30.9920637,6.02546488 30.95,5.54 C30.904474,5.28996521 30.801805,5.05382649 30.65,4.85 C30.4742549,4.59691259 30.2270668,4.40194735 29.94,4.29 C29.5869438,4.15031408 29.2096076,4.08232558 28.83,4.09 C28.4361722,4.08961884 28.0458787,4.16428368 27.68,4.31 C27.3513666,4.46911893 27.0587137,4.693713 26.82,4.97 L26.82,1 L23.7,1 Z\"></path></g><g fill=\"#33C5F3\"><path d=\"M32.13,1 L35.32,1 C35.9925574,0.978531332 36.6650118,1.04577677 37.32,1.2 C37.717112,1.29759578 38.0801182,1.50157071 38.37,1.79 C38.6060895,2.05302496 38.7682605,2.37391646 38.84,2.72 C38.935586,3.27463823 38.9757837,3.8374068 38.96,4.4 L38.96,5.46 C38.9916226,6.03689533 38.9100917,6.61440551 38.72,7.16 C38.5402933,7.53432344 38.2260614,7.82713037 37.84,7.98 C37.3049997,8.18709035 36.7332458,8.28238268 36.16,8.26 L35.31,8.26 L35.31,13.16 L32.13,13.16 L32.13,1 Z M35.29,3.08 L35.29,6.18 L35.53,6.18 C35.7515781,6.20532753 35.9725786,6.12797738 36.13,5.97 C36.2717869,5.69610033 36.3308522,5.38687568 36.3,5.08 L36.3,4.08 C36.3390022,3.79579475 36.2713114,3.5072181 36.11,3.27 C35.8671804,3.11299554 35.5771259,3.04578777 35.29,3.08 Z\"></path><path d=\"M42,4.36 L41.89,5.52 C42.28,4.69 43.67,4.42 44.41,4.37 L43.6,7.3 C43.2290559,7.27725357 42.8582004,7.34593052 42.52,7.5 C42.3057075,7.61238438 42.1519927,7.81367763 42.1,8.05 C42.0178205,8.59259006 41.9843538,9.14144496 42,9.69 L42,13.16 L39.34,13.16 L39.34,4.36 L42,4.36 Z\"></path><path d=\"M51.63,9.71 C51.6472876,10.3265292 51.6003682,10.9431837 51.49,11.55 C51.376862,11.9620426 51.1639158,12.3398504 50.87,12.65 C50.5352227,13.001529 50.1148049,13.2599826 49.65,13.4 C49.0994264,13.5686585 48.5257464,13.6496486 47.95,13.64 C47.3333389,13.6524659 46.7178074,13.5818311 46.12,13.43 C45.6996896,13.322764 45.3140099,13.1092627 45,12.81 C44.7275808,12.5275876 44.5254637,12.1850161 44.41,11.81 C44.2627681,11.2181509 44.1921903,10.6098373 44.2,10 L44.2,7.64 C44.1691064,6.9584837 44.2780071,6.27785447 44.52,5.64 C44.7547114,5.12751365 45.1616363,4.71351186 45.67,4.47 C46.3337168,4.13941646 47.0688388,3.97796445 47.81,4 C48.4454888,3.98667568 49.0783958,4.08482705 49.68,4.29 C50.1352004,4.42444561 50.5506052,4.66819552 50.89,5 C51.1535526,5.26601188 51.3550281,5.58700663 51.48,5.94 C51.6001358,6.42708696 51.6506379,6.92874119 51.63,7.43 L51.63,9.71 Z M48.39,6.73 C48.412199,6.42705368 48.3817488,6.12255154 48.3,5.83 C48.2091142,5.71223121 48.0687606,5.64325757 47.92,5.64325757 C47.7712394,5.64325757 47.6308858,5.71223121 47.54,5.83 C47.447616,6.12046452 47.4136298,6.42634058 47.44,6.73 L47.44,10.93 C47.4168299,11.2204468 47.4508034,11.5126191 47.54,11.79 C47.609766,11.9270995 47.7570827,12.0067302 47.91,11.99 C48.0639216,12.0108082 48.2159732,11.9406305 48.3,11.81 C48.3790864,11.5546009 48.4096133,11.2866434 48.39,11.02 L48.39,6.73 Z\"></path></g></svg><span class=\"pro-upsell__label\">See production, box office &amp; company info<svg class=\"ipc-icon ipc-icon--launch-inline ipc-icon--inline pro-upsell__icon\" fill=\"currentColor\" height=\"24\" id=\"iconContext-launch-inline\" role=\"presentation\" viewbox=\"0 0 24 24\" width=\"24\" xmlns=\"http://www.w3.org/2000/svg\"><path d=\"M21.6 21.6H2.4V2.4h7.2V0H0v24h24v-9.6h-2.4v7.2zM14.4 0v2.4h4.8L7.195 14.49l2.4 2.4L21.6 4.8v4.8H24V0h-9.6z\"></path></svg></span></a><script>if(typeof uet === 'function'){ uet('be', 'StaticFeature_ProUpsellLink', {wb: 1}); }</script><script>if(typeof uex === 'function'){ uex('ld', 'StaticFeature_ProUpsellLink', {wb: 1}); }</script></div>,\n",
       " <div class=\"ipc-metadata-list-item__content-container\"><ul class=\"ipc-inline-list ipc-inline-list--show-dividers ipc-inline-list--inline ipc-metadata-list-item__list-content baseAlt\" role=\"presentation\"><li class=\"ipc-inline-list__item\" role=\"presentation\"><a aria-disabled=\"false\" class=\"ipc-metadata-list-item__list-content-item ipc-metadata-list-item__list-content-item--link\" href=\"/name/nm0138927/?ref_=tt_ov_dr\" role=\"button\" tabindex=\"0\">Niki Caro</a></li></ul></div>,\n",
       " <div class=\"ipc-metadata-list-item__content-container\"><ul class=\"ipc-inline-list ipc-inline-list--show-dividers ipc-inline-list--inline ipc-metadata-list-item__list-content baseAlt\" role=\"presentation\"><li class=\"ipc-inline-list__item\" role=\"presentation\"><a aria-disabled=\"false\" class=\"ipc-metadata-list-item__list-content-item ipc-metadata-list-item__list-content-item--link\" href=\"/name/nm3207866/?ref_=tt_ov_wr\" role=\"button\" tabindex=\"0\">Misha Green</a></li><li class=\"ipc-inline-list__item\" role=\"presentation\"><a aria-disabled=\"false\" class=\"ipc-metadata-list-item__list-content-item ipc-metadata-list-item__list-content-item--link\" href=\"/name/nm0075696/?ref_=tt_ov_wr\" role=\"button\" tabindex=\"0\">Andrea Berloff</a></li><li class=\"ipc-inline-list__item\" role=\"presentation\"><a aria-disabled=\"false\" class=\"ipc-metadata-list-item__list-content-item ipc-metadata-list-item__list-content-item--link\" href=\"/name/nm0185976/?ref_=tt_ov_wr\" role=\"button\" tabindex=\"0\">Peter Craig</a></li></ul></div>,\n",
       " <div class=\"ipc-metadata-list-item__content-container\"><ul class=\"ipc-inline-list ipc-inline-list--show-dividers ipc-inline-list--inline ipc-metadata-list-item__list-content baseAlt\" role=\"presentation\"><li class=\"ipc-inline-list__item\" role=\"presentation\"><a aria-disabled=\"false\" class=\"ipc-metadata-list-item__list-content-item ipc-metadata-list-item__list-content-item--link\" href=\"/name/nm0000182/?ref_=tt_ov_st\" role=\"button\" tabindex=\"0\">Jennifer Lopez</a></li><li class=\"ipc-inline-list__item\" role=\"presentation\"><a aria-disabled=\"false\" class=\"ipc-metadata-list-item__list-content-item ipc-metadata-list-item__list-content-item--link\" href=\"/name/nm5515054/?ref_=tt_ov_st\" role=\"button\" tabindex=\"0\">Lucy Paez</a></li><li class=\"ipc-inline-list__item\" role=\"presentation\"><a aria-disabled=\"false\" class=\"ipc-metadata-list-item__list-content-item ipc-metadata-list-item__list-content-item--link\" href=\"/name/nm1165044/?ref_=tt_ov_st\" role=\"button\" tabindex=\"0\">Omari Hardwick</a></li></ul></div>,\n",
       " <div class=\"ipc-metadata-list-item__content-container\"><a aria-disabled=\"false\" class=\"ipc-link ipc-link--baseAlt sc-2ac7f049-1 gnJkMW\" data-testid=\"title-hero-proupsell\" href=\"https://pro.imdb.com/title/tt6968614/?rf=cons_tt_atf&amp;ref_=cons_tt_atf\" rel=\"nofollow noopener\" role=\"button\" tabindex=\"0\" target=\"_blank\">See more at IMDbPro<svg class=\"ipc-icon ipc-icon--launch-inline ipc-icon--inline ipc-link__launch-icon\" fill=\"currentColor\" height=\"24\" id=\"iconContext-launch-inline\" role=\"presentation\" viewbox=\"0 0 24 24\" width=\"24\" xmlns=\"http://www.w3.org/2000/svg\"><path d=\"M21.6 21.6H2.4V2.4h7.2V0H0v24h24v-9.6h-2.4v7.2zM14.4 0v2.4h4.8L7.195 14.49l2.4 2.4L21.6 4.8v4.8H24V0h-9.6z\"></path></svg></a></div>,\n",
       " <div class=\"ipc-metadata-list-item__content-container\"><ul class=\"ipc-inline-list ipc-inline-list--show-dividers ipc-inline-list--inline ipc-metadata-list-item__list-content base\" role=\"presentation\"><li class=\"ipc-inline-list__item\" role=\"presentation\"><a aria-disabled=\"false\" class=\"ipc-metadata-list-item__list-content-item ipc-metadata-list-item__list-content-item--link\" href=\"/name/nm0138927/?ref_=tt_cl_dr_1\" role=\"button\" tabindex=\"0\">Niki Caro</a></li></ul></div>,\n",
       " <div class=\"ipc-metadata-list-item__content-container\"><ul class=\"ipc-inline-list ipc-inline-list--show-dividers ipc-inline-list--inline ipc-metadata-list-item__list-content base\" role=\"presentation\"><li class=\"ipc-inline-list__item\" role=\"presentation\"><a aria-disabled=\"false\" class=\"ipc-metadata-list-item__list-content-item ipc-metadata-list-item__list-content-item--link\" href=\"/name/nm3207866/?ref_=tt_cl_wr_1\" role=\"button\" tabindex=\"0\">Misha Green</a><span class=\"ipc-metadata-list-item__list-content-item--subText\">(screenplay by) (story by)</span></li><li class=\"ipc-inline-list__item\" role=\"presentation\"><a aria-disabled=\"false\" class=\"ipc-metadata-list-item__list-content-item ipc-metadata-list-item__list-content-item--link\" href=\"/name/nm0075696/?ref_=tt_cl_wr_2\" role=\"button\" tabindex=\"0\">Andrea Berloff</a><span class=\"ipc-metadata-list-item__list-content-item--subText\">(screenplay by)</span></li><li class=\"ipc-inline-list__item\" role=\"presentation\"><a aria-disabled=\"false\" class=\"ipc-metadata-list-item__list-content-item ipc-metadata-list-item__list-content-item--link\" href=\"/name/nm0185976/?ref_=tt_cl_wr_3\" role=\"button\" tabindex=\"0\">Peter Craig</a><span class=\"ipc-metadata-list-item__list-content-item--subText\">(screenplay by)</span></li></ul></div>,\n",
       " <div class=\"ipc-metadata-list-item__content-container\"><div class=\"ipc-overflowText ipc-overflowText--listCard ipc-overflowText--height-short ipc-overflowText--short ipc-overflowText--click ipc-overflowText--base\" role=\"button\"><button aria-disabled=\"false\" aria-label=\"See more\" class=\"ipc-overflowText-overlay\" role=\"button\" tabindex=\"0\"><svg class=\"ipc-icon ipc-icon--more-horiz ipc-overflowText-overlay__affordance\" fill=\"currentColor\" height=\"24\" id=\"iconContext-more-horiz\" role=\"presentation\" viewbox=\"0 0 24 24\" width=\"24\" xmlns=\"http://www.w3.org/2000/svg\"><path d=\"M0 0h24v24H0V0z\" fill=\"none\"></path><path d=\"M6 10c-1.1 0-2 .9-2 2s.9 2 2 2 2-.9 2-2-.9-2-2-2zm12 0c-1.1 0-2 .9-2 2s.9 2 2 2 2-.9 2-2-.9-2-2-2zm-6 0c-1.1 0-2 .9-2 2s.9 2 2 2 2-.9 2-2-.9-2-2-2z\"></path></svg></button><div class=\"ipc-html-content ipc-html-content--base sc-74d1a1fd-0 gvGiJ\" role=\"presentation\"><div class=\"ipc-html-content-inner-div\">The pull up scene and the scene where Jennifer Lopez is walking at the stairs in orange backless dress (as shown in the trailer) was excluded on the final cut of the movie.</div></div></div></div>,\n",
       " <div class=\"ipc-metadata-list-item__content-container\"><div class=\"ipc-overflowText ipc-overflowText--listCard ipc-overflowText--height-short ipc-overflowText--short ipc-overflowText--click ipc-overflowText--base\" role=\"button\"><button aria-disabled=\"false\" aria-label=\"See more\" class=\"ipc-overflowText-overlay\" role=\"button\" tabindex=\"0\"><svg class=\"ipc-icon ipc-icon--more-horiz ipc-overflowText-overlay__affordance\" fill=\"currentColor\" height=\"24\" id=\"iconContext-more-horiz\" role=\"presentation\" viewbox=\"0 0 24 24\" width=\"24\" xmlns=\"http://www.w3.org/2000/svg\"><path d=\"M0 0h24v24H0V0z\" fill=\"none\"></path><path d=\"M6 10c-1.1 0-2 .9-2 2s.9 2 2 2 2-.9 2-2-.9-2-2-2zm12 0c-1.1 0-2 .9-2 2s.9 2 2 2 2-.9 2-2-.9-2-2-2zm-6 0c-1.1 0-2 .9-2 2s.9 2 2 2 2-.9 2-2-.9-2-2-2z\"></path></svg></button><div class=\"ipc-html-content ipc-html-content--base sc-74d1a1fd-0 gvGiJ\" role=\"presentation\"><div class=\"ipc-html-content-inner-div\">J Lo said Joseph Fiennes' character, \"Lovell\" , was S.A.S training the unit she was serving with. If that was true, why was he wearing a Parachute Regiment beret? Did they not have a military advisor on set either? I'm ex UK military and that is NOT how you wear a beret! He looked more like Frank Spencer.</div></div></div></div>,\n",
       " <div class=\"ipc-metadata-list-item__content-container\"><div class=\"ipc-overflowText ipc-overflowText--listCard ipc-overflowText--height-short ipc-overflowText--short ipc-overflowText--click ipc-overflowText--base\" role=\"button\"><button aria-disabled=\"false\" aria-label=\"See more\" class=\"ipc-overflowText-overlay\" role=\"button\" tabindex=\"0\"><svg class=\"ipc-icon ipc-icon--more-horiz ipc-overflowText-overlay__affordance\" fill=\"currentColor\" height=\"24\" id=\"iconContext-more-horiz\" role=\"presentation\" viewbox=\"0 0 24 24\" width=\"24\" xmlns=\"http://www.w3.org/2000/svg\"><path d=\"M0 0h24v24H0V0z\" fill=\"none\"></path><path d=\"M6 10c-1.1 0-2 .9-2 2s.9 2 2 2 2-.9 2-2-.9-2-2-2zm12 0c-1.1 0-2 .9-2 2s.9 2 2 2 2-.9 2-2-.9-2-2-2zm-6 0c-1.1 0-2 .9-2 2s.9 2 2 2 2-.9 2-2-.9-2-2-2z\"></path></svg></button><div class=\"ipc-html-content ipc-html-content--base sc-9cfefc48-1 oslxs\" role=\"presentation\"><div class=\"ipc-html-content-inner-div\"><p><a aria-disabled=\"false\" class=\"ipc-link ipc-link--base\" data-reactroot=\"\" href=\"/name/nm0305558/?ref_=tt_trv_qu\" role=\"button\" tabindex=\"0\">Hector</a>: You sold your soul to the devil. How come you still look so good?</p></div></div></div></div>,\n",
       " <div class=\"ipc-metadata-list-item__content-container\"><div class=\"ipc-overflowText ipc-overflowText--listCard ipc-overflowText--height-short ipc-overflowText--short ipc-overflowText--click ipc-overflowText--base\" role=\"button\"><button aria-disabled=\"false\" aria-label=\"See more\" class=\"ipc-overflowText-overlay\" role=\"button\" tabindex=\"0\"><svg class=\"ipc-icon ipc-icon--more-horiz ipc-overflowText-overlay__affordance\" fill=\"currentColor\" height=\"24\" id=\"iconContext-more-horiz\" role=\"presentation\" viewbox=\"0 0 24 24\" width=\"24\" xmlns=\"http://www.w3.org/2000/svg\"><path d=\"M0 0h24v24H0V0z\" fill=\"none\"></path><path d=\"M6 10c-1.1 0-2 .9-2 2s.9 2 2 2 2-.9 2-2-.9-2-2-2zm12 0c-1.1 0-2 .9-2 2s.9 2 2 2 2-.9 2-2-.9-2-2-2zm-6 0c-1.1 0-2 .9-2 2s.9 2 2 2 2-.9 2-2-.9-2-2-2z\"></path></svg></button><div class=\"ipc-html-content ipc-html-content--base sc-74d1a1fd-0 gvGiJ\" role=\"presentation\"><div class=\"ipc-html-content-inner-div\">Referenced in <a aria-disabled=\"false\" class=\"ipc-link ipc-link--base\" data-reactroot=\"\" href=\"/title/tt27763550/?ref_=tt_trv_cnn\" role=\"button\" tabindex=\"0\">Toxic Femininity: Netflix' Cleopatra worst ever on Rotten Tomatoes, \"Hold my beer\" says Miller</a> (2023)</div></div></div></div>,\n",
       " <div class=\"ipc-metadata-list-item__content-container\"><div class=\"ipc-overflowText ipc-overflowText--listCard ipc-overflowText--height-short ipc-overflowText--short ipc-overflowText--click ipc-overflowText--base\" role=\"button\"><button aria-disabled=\"false\" aria-label=\"See more\" class=\"ipc-overflowText-overlay\" role=\"button\" tabindex=\"0\"><svg class=\"ipc-icon ipc-icon--more-horiz ipc-overflowText-overlay__affordance\" fill=\"currentColor\" height=\"24\" id=\"iconContext-more-horiz\" role=\"presentation\" viewbox=\"0 0 24 24\" width=\"24\" xmlns=\"http://www.w3.org/2000/svg\"><path d=\"M0 0h24v24H0V0z\" fill=\"none\"></path><path d=\"M6 10c-1.1 0-2 .9-2 2s.9 2 2 2 2-.9 2-2-.9-2-2-2zm12 0c-1.1 0-2 .9-2 2s.9 2 2 2 2-.9 2-2-.9-2-2-2zm-6 0c-1.1 0-2 .9-2 2s.9 2 2 2 2-.9 2-2-.9-2-2-2z\"></path></svg></button><div class=\"ipc-html-content ipc-html-content--base sc-74d1a1fd-0 gvGiJ\" role=\"presentation\"><div class=\"ipc-html-content-inner-div\"><span class=\"soundtrack-trackname\">Mala Mia</span><span class=\"soundtrack-comment-1\"><br/>Written by <a class=\"ipc-md-link ipc-md-link--entity\" href=\"/name/nm9778210/?ref_=tt_trv_snd\">Miky La Sensa</a> (as Stiven Rojas Escobar), <a class=\"ipc-md-link ipc-md-link--entity\" href=\"/name/nm8957807/?ref_=tt_trv_snd\">Chan El Genio</a> (as Bryan Chaverra), <a class=\"ipc-md-link ipc-md-link--entity\" href=\"/name/nm8636567/?ref_=tt_trv_snd\">Edgar Barrera</a>, <a class=\"ipc-md-link ipc-md-link--entity\" href=\"/name/nm10378553/?ref_=tt_trv_snd\">Nyal Beats</a> (as Johany Alejandro Correa Moreno), <a class=\"ipc-md-link ipc-md-link--entity\" href=\"/name/nm8349062/?ref_=tt_trv_snd\">Maluma</a> (as Juan Luis Londono Arias), <a class=\"ipc-md-link ipc-md-link--entity\" href=\"/name/nm8957805/?ref_=tt_trv_snd\">Kevin Adg</a> (as Kevin Mauricio Jimenez Londono)</span><span class=\"soundtrack-comment-2\"><br/>Performed by <a class=\"ipc-md-link ipc-md-link--entity\" href=\"/name/nm8349062/?ref_=tt_trv_snd\">Maluma</a></span><span class=\"soundtrack-comment-3\"><br/>Courtesy of Sony Music Entertainment US Latin, LLC</span></div></div></div></div>,\n",
       " <div class=\"ipc-metadata-list-item__content-container\"><ul class=\"ipc-inline-list ipc-inline-list--show-dividers ipc-inline-list--inline ipc-metadata-list-item__list-content base\" role=\"presentation\"><li class=\"ipc-inline-list__item\" role=\"presentation\"><a aria-disabled=\"false\" class=\"ipc-metadata-list-item__list-content-item ipc-metadata-list-item__list-content-item--link\" href=\"/title/tt6968614/releaseinfo?ref_=tt_dt_rdat\" role=\"button\" tabindex=\"0\">May 12, 2023 (United States)</a></li></ul></div>,\n",
       " <div class=\"ipc-metadata-list-item__content-container\"><ul class=\"ipc-inline-list ipc-inline-list--show-dividers ipc-inline-list--inline ipc-metadata-list-item__list-content base\" role=\"presentation\"><li class=\"ipc-inline-list__item\" role=\"presentation\"><a aria-disabled=\"false\" class=\"ipc-metadata-list-item__list-content-item ipc-metadata-list-item__list-content-item--link\" href=\"/search/title/?country_of_origin=US&amp;ref_=tt_dt_cn\" role=\"button\" tabindex=\"0\">United States</a></li></ul></div>,\n",
       " <div class=\"ipc-metadata-list-item__content-container\"><ul class=\"ipc-inline-list ipc-inline-list--show-dividers ipc-inline-list--inline ipc-metadata-list-item__list-content base\" role=\"presentation\"><li class=\"ipc-inline-list__item\" role=\"presentation\"><a aria-disabled=\"false\" class=\"ipc-metadata-list-item__list-content-item ipc-metadata-list-item__list-content-item--link\" href=\"https://www.netflix.com/title/80210920/\" rel=\"nofollow noopener\" role=\"button\" tabindex=\"0\" target=\"_blank\">Official Netflix<svg class=\"ipc-icon ipc-icon--launch-inline ipc-icon--inline ipc-link__launch-icon\" fill=\"currentColor\" height=\"24\" id=\"iconContext-launch-inline\" role=\"presentation\" viewbox=\"0 0 24 24\" width=\"24\" xmlns=\"http://www.w3.org/2000/svg\"><path d=\"M21.6 21.6H2.4V2.4h7.2V0H0v24h24v-9.6h-2.4v7.2zM14.4 0v2.4h4.8L7.195 14.49l2.4 2.4L21.6 4.8v4.8H24V0h-9.6z\"></path></svg></a></li></ul></div>,\n",
       " <div class=\"ipc-metadata-list-item__content-container\"><ul class=\"ipc-inline-list ipc-inline-list--show-dividers ipc-inline-list--inline ipc-metadata-list-item__list-content base\" role=\"presentation\"><li class=\"ipc-inline-list__item\" role=\"presentation\"><a aria-disabled=\"false\" class=\"ipc-metadata-list-item__list-content-item ipc-metadata-list-item__list-content-item--link\" href=\"/search/title?title_type=feature&amp;primary_language=en&amp;sort=moviemeter,asc&amp;ref_=tt_dt_ln\" role=\"button\" tabindex=\"0\">English</a></li></ul></div>,\n",
       " <div class=\"ipc-metadata-list-item__content-container\"><ul class=\"ipc-inline-list ipc-inline-list--show-dividers ipc-inline-list--inline ipc-metadata-list-item__list-content base\" role=\"presentation\"><li class=\"ipc-inline-list__item\" role=\"presentation\"><span aria-disabled=\"false\" class=\"ipc-metadata-list-item__list-content-item\">Мати</span></li></ul></div>,\n",
       " <div class=\"ipc-metadata-list-item__content-container\"><ul class=\"ipc-inline-list ipc-inline-list--show-dividers ipc-inline-list--inline ipc-metadata-list-item__list-content base\" role=\"presentation\"><li class=\"ipc-inline-list__item\" role=\"presentation\"><a aria-disabled=\"false\" class=\"ipc-metadata-list-item__list-content-item ipc-metadata-list-item__list-content-item--link\" href=\"/search/title?locations=Vancouver%2C%20British%20Columbia%2C%20Canada&amp;ref_=tt_dt_loc\" role=\"button\" tabindex=\"0\">Vancouver, British Columbia, Canada</a></li></ul></div>,\n",
       " <div class=\"ipc-metadata-list-item__content-container\"><ul class=\"ipc-inline-list ipc-inline-list--show-dividers ipc-inline-list--inline ipc-metadata-list-item__list-content base\" role=\"presentation\"><li class=\"ipc-inline-list__item\" role=\"presentation\"><a aria-disabled=\"false\" class=\"ipc-metadata-list-item__list-content-item ipc-metadata-list-item__list-content-item--link\" href=\"/company/co0021149?ref_=tt_dt_co_1\" role=\"button\" tabindex=\"0\">Nuyorican Productions</a></li><li class=\"ipc-inline-list__item\" role=\"presentation\"><a aria-disabled=\"false\" class=\"ipc-metadata-list-item__list-content-item ipc-metadata-list-item__list-content-item--link\" href=\"/company/co0084207?ref_=tt_dt_co_2\" role=\"button\" tabindex=\"0\">Vertigo Entertainment</a></li></ul></div>,\n",
       " <div class=\"ipc-metadata-list-item__content-container\">1<!-- --> <!-- -->hour<!-- --> <!-- -->55<!-- --> <!-- -->minutes</div>,\n",
       " <div class=\"ipc-metadata-list-item__content-container\"><ul class=\"ipc-inline-list ipc-inline-list--show-dividers ipc-inline-list--inline ipc-metadata-list-item__list-content base\" role=\"presentation\"><li class=\"ipc-inline-list__item\" role=\"presentation\"><a aria-disabled=\"false\" class=\"ipc-metadata-list-item__list-content-item ipc-metadata-list-item__list-content-item--link\" href=\"/search/title/?colors=color&amp;ref_=tt_spec_att\" role=\"button\" tabindex=\"0\">Color</a></li></ul></div>,\n",
       " <div class=\"ipc-metadata-list-item__content-container\"><ul class=\"ipc-inline-list ipc-inline-list--show-dividers ipc-inline-list--inline ipc-metadata-list-item__list-content base\" role=\"presentation\"><li class=\"ipc-inline-list__item\" role=\"presentation\"><a aria-disabled=\"false\" class=\"ipc-metadata-list-item__list-content-item ipc-metadata-list-item__list-content-item--link\" href=\"/search/title/?sound_mixes=dolby_atmos&amp;ref_=tt_spec_att\" role=\"button\" tabindex=\"0\">Dolby Atmos</a></li></ul></div>,\n",
       " <div class=\"ipc-metadata-list-item__content-container\"><ul class=\"ipc-inline-list ipc-inline-list--show-dividers ipc-inline-list--inline ipc-metadata-list-item__list-content base\" role=\"presentation\"><li class=\"ipc-inline-list__item\" role=\"presentation\"><span aria-disabled=\"false\" class=\"ipc-metadata-list-item__list-content-item\">2.39 : 1</span></li></ul></div>]"
      ]
     },
     "execution_count": 86,
     "metadata": {},
     "output_type": "execute_result"
    }
   ],
   "source": [
    "metadata"
   ]
  },
  {
   "cell_type": "code",
   "execution_count": 77,
   "id": "4d3b2bb7",
   "metadata": {},
   "outputs": [
    {
     "data": {
      "text/plain": [
       "'Niki Caro'"
      ]
     },
     "execution_count": 77,
     "metadata": {},
     "output_type": "execute_result"
    }
   ],
   "source": [
    "metadata[0].getText()"
   ]
  },
  {
   "cell_type": "code",
   "execution_count": 78,
   "id": "3bcaec08",
   "metadata": {},
   "outputs": [
    {
     "data": {
      "text/plain": [
       "'Jennifer LopezLucy PaezOmari Hardwick'"
      ]
     },
     "execution_count": 78,
     "metadata": {},
     "output_type": "execute_result"
    }
   ],
   "source": [
    "metadata[2].getText()"
   ]
  },
  {
   "cell_type": "code",
   "execution_count": 79,
   "id": "4c9202bb",
   "metadata": {},
   "outputs": [
    {
     "data": {
      "text/plain": [
       "'5'"
      ]
     },
     "execution_count": 79,
     "metadata": {},
     "output_type": "execute_result"
    }
   ],
   "source": [
    "str(5)"
   ]
  },
  {
   "cell_type": "code",
   "execution_count": 81,
   "id": "437426cb",
   "metadata": {},
   "outputs": [
    {
     "data": {
      "text/plain": [
       "'https://www.imdb.com/title/tt5/'"
      ]
     },
     "execution_count": 81,
     "metadata": {},
     "output_type": "execute_result"
    }
   ],
   "source": [
    "'https://www.imdb.com/title/tt{0}/'.format(5)"
   ]
  },
  {
   "cell_type": "code",
   "execution_count": 152,
   "id": "4cb8598a",
   "metadata": {},
   "outputs": [],
   "source": [
    "def get_imdb_data(imdb_id):\n",
    "    web_address = 'https://www.imdb.com/title/tt{0:07d}/'.format(imdb_id)\n",
    "    try:\n",
    "    res = requests.get(web_address, \n",
    "                       headers={'User-Agent': 'Mozilla/5.0'})\n",
    "    except requests.exceptions.RequestException as err:\n",
    "        print(f'request exception found {imdb_id}')\n",
    "    soup = BeautifulSoup(res.text, 'html.parser')\n",
    "    description = soup.find(\"span\", {\"data-testid\": \"plot-xs_to_m\"}).getText()\n",
    "    metadata = soup.find_all(\"div\", {\"class\": \"ipc-metadata-list-item__content-container\"})\n",
    "    director = metadata[0].getText()\n",
    "    lead_cast = []\n",
    "    for item in metadata[2].ul.contents:\n",
    "        lead_cast.append(item.getText())\n",
    "    \n",
    "    \n",
    "    return description, director, lead_cast"
   ]
  },
  {
   "cell_type": "code",
   "execution_count": 155,
   "id": "662a8b4a",
   "metadata": {},
   "outputs": [
    {
     "data": {
      "text/plain": [
       "('After a ten year absence, \"El Chato\" returns to San Ignacio, his hometown, in order to retrieve a shipment of cocaine that was dropped there by a cartel pilot.',\n",
       " 'José María Yazpik',\n",
       " ['José María Yazpik', 'Mariana Treviño', 'Adrian Vazquez'])"
      ]
     },
     "execution_count": 155,
     "metadata": {},
     "output_type": "execute_result"
    }
   ],
   "source": [
    "get_imdb_data(11170942)"
   ]
  },
  {
   "cell_type": "code",
   "execution_count": 88,
   "id": "1fc5c03d",
   "metadata": {},
   "outputs": [
    {
     "data": {
      "text/plain": [
       "[<ul class=\"ipc-inline-list ipc-inline-list--show-dividers ipc-inline-list--inline ipc-metadata-list-item__list-content baseAlt\" role=\"presentation\"><li class=\"ipc-inline-list__item\" role=\"presentation\"><a aria-disabled=\"false\" class=\"ipc-metadata-list-item__list-content-item ipc-metadata-list-item__list-content-item--link\" href=\"/name/nm0000182/?ref_=tt_ov_st\" role=\"button\" tabindex=\"0\">Jennifer Lopez</a></li><li class=\"ipc-inline-list__item\" role=\"presentation\"><a aria-disabled=\"false\" class=\"ipc-metadata-list-item__list-content-item ipc-metadata-list-item__list-content-item--link\" href=\"/name/nm5515054/?ref_=tt_ov_st\" role=\"button\" tabindex=\"0\">Lucy Paez</a></li><li class=\"ipc-inline-list__item\" role=\"presentation\"><a aria-disabled=\"false\" class=\"ipc-metadata-list-item__list-content-item ipc-metadata-list-item__list-content-item--link\" href=\"/name/nm1165044/?ref_=tt_ov_st\" role=\"button\" tabindex=\"0\">Omari Hardwick</a></li></ul>]"
      ]
     },
     "execution_count": 88,
     "metadata": {},
     "output_type": "execute_result"
    }
   ],
   "source": [
    "metadata[2].contents"
   ]
  },
  {
   "cell_type": "code",
   "execution_count": 93,
   "id": "d0533e8f",
   "metadata": {},
   "outputs": [
    {
     "data": {
      "text/plain": [
       "[<li class=\"ipc-inline-list__item\" role=\"presentation\"><a aria-disabled=\"false\" class=\"ipc-metadata-list-item__list-content-item ipc-metadata-list-item__list-content-item--link\" href=\"/name/nm0000182/?ref_=tt_ov_st\" role=\"button\" tabindex=\"0\">Jennifer Lopez</a></li>,\n",
       " <li class=\"ipc-inline-list__item\" role=\"presentation\"><a aria-disabled=\"false\" class=\"ipc-metadata-list-item__list-content-item ipc-metadata-list-item__list-content-item--link\" href=\"/name/nm5515054/?ref_=tt_ov_st\" role=\"button\" tabindex=\"0\">Lucy Paez</a></li>,\n",
       " <li class=\"ipc-inline-list__item\" role=\"presentation\"><a aria-disabled=\"false\" class=\"ipc-metadata-list-item__list-content-item ipc-metadata-list-item__list-content-item--link\" href=\"/name/nm1165044/?ref_=tt_ov_st\" role=\"button\" tabindex=\"0\">Omari Hardwick</a></li>]"
      ]
     },
     "execution_count": 93,
     "metadata": {},
     "output_type": "execute_result"
    }
   ],
   "source": [
    "metadata[2].ul.contents\n"
   ]
  },
  {
   "cell_type": "code",
   "execution_count": 95,
   "id": "3a7bf966",
   "metadata": {},
   "outputs": [
    {
     "name": "stdout",
     "output_type": "stream",
     "text": [
      "Jennifer Lopez\n",
      "Lucy Paez\n",
      "Omari Hardwick\n"
     ]
    }
   ],
   "source": [
    "for item in metadata[2].ul.contents:\n",
    "    print(item.getText())"
   ]
  },
  {
   "cell_type": "code",
   "execution_count": 276,
   "id": "b7488461",
   "metadata": {},
   "outputs": [],
   "source": [
    "small_df = df.head(1000)"
   ]
  },
  {
   "cell_type": "code",
   "execution_count": 277,
   "id": "34831f86",
   "metadata": {},
   "outputs": [
    {
     "data": {
      "text/html": [
       "<div>\n",
       "<style scoped>\n",
       "    .dataframe tbody tr th:only-of-type {\n",
       "        vertical-align: middle;\n",
       "    }\n",
       "\n",
       "    .dataframe tbody tr th {\n",
       "        vertical-align: top;\n",
       "    }\n",
       "\n",
       "    .dataframe thead th {\n",
       "        text-align: right;\n",
       "    }\n",
       "</style>\n",
       "<table border=\"1\" class=\"dataframe\">\n",
       "  <thead>\n",
       "    <tr style=\"text-align: right;\">\n",
       "      <th></th>\n",
       "      <th>movieId</th>\n",
       "      <th>title</th>\n",
       "      <th>genres</th>\n",
       "    </tr>\n",
       "  </thead>\n",
       "  <tbody>\n",
       "    <tr>\n",
       "      <th>0</th>\n",
       "      <td>1</td>\n",
       "      <td>Toy Story (1995)</td>\n",
       "      <td>Adventure|Animation|Children|Comedy|Fantasy</td>\n",
       "    </tr>\n",
       "    <tr>\n",
       "      <th>1</th>\n",
       "      <td>2</td>\n",
       "      <td>Jumanji (1995)</td>\n",
       "      <td>Adventure|Children|Fantasy</td>\n",
       "    </tr>\n",
       "    <tr>\n",
       "      <th>2</th>\n",
       "      <td>3</td>\n",
       "      <td>Grumpier Old Men (1995)</td>\n",
       "      <td>Comedy|Romance</td>\n",
       "    </tr>\n",
       "    <tr>\n",
       "      <th>3</th>\n",
       "      <td>4</td>\n",
       "      <td>Waiting to Exhale (1995)</td>\n",
       "      <td>Comedy|Drama|Romance</td>\n",
       "    </tr>\n",
       "    <tr>\n",
       "      <th>4</th>\n",
       "      <td>5</td>\n",
       "      <td>Father of the Bride Part II (1995)</td>\n",
       "      <td>Comedy</td>\n",
       "    </tr>\n",
       "  </tbody>\n",
       "</table>\n",
       "</div>"
      ],
      "text/plain": [
       "   movieId                               title  \\\n",
       "0        1                    Toy Story (1995)   \n",
       "1        2                      Jumanji (1995)   \n",
       "2        3             Grumpier Old Men (1995)   \n",
       "3        4            Waiting to Exhale (1995)   \n",
       "4        5  Father of the Bride Part II (1995)   \n",
       "\n",
       "                                        genres  \n",
       "0  Adventure|Animation|Children|Comedy|Fantasy  \n",
       "1                   Adventure|Children|Fantasy  \n",
       "2                               Comedy|Romance  \n",
       "3                         Comedy|Drama|Romance  \n",
       "4                                       Comedy  "
      ]
     },
     "execution_count": 277,
     "metadata": {},
     "output_type": "execute_result"
    }
   ],
   "source": [
    "small_df.head()"
   ]
  },
  {
   "cell_type": "code",
   "execution_count": 278,
   "id": "80b50f88",
   "metadata": {},
   "outputs": [
    {
     "data": {
      "text/plain": [
       "1000"
      ]
     },
     "execution_count": 278,
     "metadata": {},
     "output_type": "execute_result"
    }
   ],
   "source": [
    "len(small_df)"
   ]
  },
  {
   "cell_type": "code",
   "execution_count": 179,
   "id": "05530ff8",
   "metadata": {},
   "outputs": [
    {
     "name": "stdout",
     "output_type": "stream",
     "text": [
      "0\n",
      "1\n",
      "2\n",
      "3\n",
      "4\n",
      "5\n",
      "6\n",
      "7\n",
      "8\n",
      "9\n",
      "10\n",
      "11\n",
      "12\n",
      "13\n",
      "14\n",
      "15\n",
      "16\n",
      "17\n",
      "18\n",
      "19\n",
      "20\n",
      "21\n",
      "22\n",
      "23\n",
      "24\n",
      "25\n",
      "26\n",
      "27\n",
      "28\n",
      "29\n",
      "30\n",
      "31\n",
      "32\n",
      "33\n",
      "34\n",
      "35\n",
      "36\n",
      "37\n",
      "38\n",
      "39\n",
      "40\n",
      "41\n",
      "42\n",
      "43\n",
      "44\n",
      "45\n",
      "46\n",
      "47\n",
      "48\n",
      "49\n",
      "50\n",
      "51\n",
      "52\n",
      "53\n",
      "54\n",
      "55\n",
      "56\n",
      "57\n",
      "58\n",
      "59\n",
      "60\n",
      "61\n",
      "62\n",
      "63\n",
      "64\n",
      "65\n",
      "66\n",
      "67\n",
      "68\n",
      "69\n",
      "70\n",
      "71\n",
      "72\n",
      "73\n",
      "74\n",
      "75\n",
      "76\n",
      "77\n",
      "78\n",
      "79\n",
      "80\n",
      "81\n",
      "82\n",
      "83\n",
      "84\n",
      "85\n",
      "86\n",
      "87\n",
      "88\n",
      "89\n",
      "90\n",
      "91\n",
      "92\n",
      "93\n",
      "94\n",
      "95\n",
      "96\n",
      "97\n"
     ]
    },
    {
     "ename": "AttributeError",
     "evalue": "'NoneType' object has no attribute 'contents'",
     "output_type": "error",
     "traceback": [
      "\u001b[0;31m---------------------------------------------------------------------------\u001b[0m",
      "\u001b[0;31mAttributeError\u001b[0m                            Traceback (most recent call last)",
      "\u001b[0;32m/var/folders/pl/20832w516ndbmml1sf0r8rdh0000gn/T/ipykernel_52719/445630936.py\u001b[0m in \u001b[0;36m<module>\u001b[0;34m\u001b[0m\n\u001b[1;32m      5\u001b[0m     \u001b[0mprint\u001b[0m\u001b[0;34m(\u001b[0m\u001b[0mi\u001b[0m\u001b[0;34m)\u001b[0m\u001b[0;34m\u001b[0m\u001b[0;34m\u001b[0m\u001b[0m\n\u001b[1;32m      6\u001b[0m     \u001b[0mimdb_id\u001b[0m \u001b[0;34m=\u001b[0m \u001b[0mlinks_db\u001b[0m\u001b[0;34m.\u001b[0m\u001b[0mloc\u001b[0m\u001b[0;34m[\u001b[0m\u001b[0mlinks_db\u001b[0m\u001b[0;34m.\u001b[0m\u001b[0mmovieId\u001b[0m \u001b[0;34m==\u001b[0m \u001b[0mrow\u001b[0m\u001b[0;34m.\u001b[0m\u001b[0mmovieId\u001b[0m\u001b[0;34m]\u001b[0m\u001b[0;34m.\u001b[0m\u001b[0mimdbId\u001b[0m\u001b[0;34m.\u001b[0m\u001b[0mvalues\u001b[0m\u001b[0;34m[\u001b[0m\u001b[0;36m0\u001b[0m\u001b[0;34m]\u001b[0m\u001b[0;34m\u001b[0m\u001b[0;34m\u001b[0m\u001b[0m\n\u001b[0;32m----> 7\u001b[0;31m     \u001b[0mx\u001b[0m\u001b[0;34m,\u001b[0m \u001b[0my\u001b[0m\u001b[0;34m,\u001b[0m \u001b[0mz\u001b[0m \u001b[0;34m=\u001b[0m \u001b[0mget_imdb_data\u001b[0m\u001b[0;34m(\u001b[0m\u001b[0mimdb_id\u001b[0m\u001b[0;34m)\u001b[0m\u001b[0;34m\u001b[0m\u001b[0;34m\u001b[0m\u001b[0m\n\u001b[0m\u001b[1;32m      8\u001b[0m     \u001b[0mdescription\u001b[0m\u001b[0;34m.\u001b[0m\u001b[0mappend\u001b[0m\u001b[0;34m(\u001b[0m\u001b[0mx\u001b[0m\u001b[0;34m)\u001b[0m\u001b[0;34m\u001b[0m\u001b[0;34m\u001b[0m\u001b[0m\n\u001b[1;32m      9\u001b[0m     \u001b[0mdirector\u001b[0m\u001b[0;34m.\u001b[0m\u001b[0mappend\u001b[0m\u001b[0;34m(\u001b[0m\u001b[0my\u001b[0m\u001b[0;34m)\u001b[0m\u001b[0;34m\u001b[0m\u001b[0;34m\u001b[0m\u001b[0m\n",
      "\u001b[0;32m/var/folders/pl/20832w516ndbmml1sf0r8rdh0000gn/T/ipykernel_52719/91702821.py\u001b[0m in \u001b[0;36mget_imdb_data\u001b[0;34m(imdb_id)\u001b[0m\n\u001b[1;32m      8\u001b[0m     \u001b[0mdirector\u001b[0m \u001b[0;34m=\u001b[0m \u001b[0mmetadata\u001b[0m\u001b[0;34m[\u001b[0m\u001b[0;36m0\u001b[0m\u001b[0;34m]\u001b[0m\u001b[0;34m.\u001b[0m\u001b[0mgetText\u001b[0m\u001b[0;34m(\u001b[0m\u001b[0;34m)\u001b[0m\u001b[0;34m\u001b[0m\u001b[0;34m\u001b[0m\u001b[0m\n\u001b[1;32m      9\u001b[0m     \u001b[0mlead_cast\u001b[0m \u001b[0;34m=\u001b[0m \u001b[0;34m[\u001b[0m\u001b[0;34m]\u001b[0m\u001b[0;34m\u001b[0m\u001b[0;34m\u001b[0m\u001b[0m\n\u001b[0;32m---> 10\u001b[0;31m     \u001b[0;32mfor\u001b[0m \u001b[0mitem\u001b[0m \u001b[0;32min\u001b[0m \u001b[0mmetadata\u001b[0m\u001b[0;34m[\u001b[0m\u001b[0;36m2\u001b[0m\u001b[0;34m]\u001b[0m\u001b[0;34m.\u001b[0m\u001b[0mul\u001b[0m\u001b[0;34m.\u001b[0m\u001b[0mcontents\u001b[0m\u001b[0;34m:\u001b[0m\u001b[0;34m\u001b[0m\u001b[0;34m\u001b[0m\u001b[0m\n\u001b[0m\u001b[1;32m     11\u001b[0m         \u001b[0mlead_cast\u001b[0m\u001b[0;34m.\u001b[0m\u001b[0mappend\u001b[0m\u001b[0;34m(\u001b[0m\u001b[0mitem\u001b[0m\u001b[0;34m.\u001b[0m\u001b[0mgetText\u001b[0m\u001b[0;34m(\u001b[0m\u001b[0;34m)\u001b[0m\u001b[0;34m)\u001b[0m\u001b[0;34m\u001b[0m\u001b[0;34m\u001b[0m\u001b[0m\n\u001b[1;32m     12\u001b[0m \u001b[0;34m\u001b[0m\u001b[0m\n",
      "\u001b[0;31mAttributeError\u001b[0m: 'NoneType' object has no attribute 'contents'"
     ]
    }
   ],
   "source": [
    "description = []\n",
    "director = []\n",
    "lead_cast = []\n",
    "for i, row in small_df.iterrows():\n",
    "    print(i)\n",
    "    imdb_id = links_db.loc[links_db.movieId == row.movieId].imdbId.values[0]\n",
    "    x, y, z = get_imdb_data(imdb_id)\n",
    "    description.append(x)\n",
    "    director.append(y)\n",
    "    lead_cast.append(z)\n",
    "    if i > 100:\n",
    "        break\n",
    "print(director)"
   ]
  },
  {
   "cell_type": "code",
   "execution_count": 180,
   "id": "a6c1f2f2",
   "metadata": {},
   "outputs": [
    {
     "data": {
      "text/plain": [
       "'Heidi Fleiss: Hollywood Madam (1995)'"
      ]
     },
     "execution_count": 180,
     "metadata": {},
     "output_type": "execute_result"
    }
   ],
   "source": [
    "small_df.title[97]"
   ]
  },
  {
   "cell_type": "code",
   "execution_count": 131,
   "id": "686e56cb",
   "metadata": {},
   "outputs": [
    {
     "data": {
      "text/html": [
       "<div>\n",
       "<style scoped>\n",
       "    .dataframe tbody tr th:only-of-type {\n",
       "        vertical-align: middle;\n",
       "    }\n",
       "\n",
       "    .dataframe tbody tr th {\n",
       "        vertical-align: top;\n",
       "    }\n",
       "\n",
       "    .dataframe thead th {\n",
       "        text-align: right;\n",
       "    }\n",
       "</style>\n",
       "<table border=\"1\" class=\"dataframe\">\n",
       "  <thead>\n",
       "    <tr style=\"text-align: right;\">\n",
       "      <th></th>\n",
       "      <th>movieId</th>\n",
       "      <th>title</th>\n",
       "      <th>genres</th>\n",
       "    </tr>\n",
       "  </thead>\n",
       "  <tbody>\n",
       "    <tr>\n",
       "      <th>0</th>\n",
       "      <td>1</td>\n",
       "      <td>Toy Story (1995)</td>\n",
       "      <td>Adventure|Animation|Children|Comedy|Fantasy</td>\n",
       "    </tr>\n",
       "  </tbody>\n",
       "</table>\n",
       "</div>"
      ],
      "text/plain": [
       "   movieId             title                                       genres\n",
       "0        1  Toy Story (1995)  Adventure|Animation|Children|Comedy|Fantasy"
      ]
     },
     "execution_count": 131,
     "metadata": {},
     "output_type": "execute_result"
    }
   ],
   "source": [
    "small_df.head(1)"
   ]
  },
  {
   "cell_type": "code",
   "execution_count": 139,
   "id": "76f66650",
   "metadata": {},
   "outputs": [
    {
     "data": {
      "text/html": [
       "<div>\n",
       "<style scoped>\n",
       "    .dataframe tbody tr th:only-of-type {\n",
       "        vertical-align: middle;\n",
       "    }\n",
       "\n",
       "    .dataframe tbody tr th {\n",
       "        vertical-align: top;\n",
       "    }\n",
       "\n",
       "    .dataframe thead th {\n",
       "        text-align: right;\n",
       "    }\n",
       "</style>\n",
       "<table border=\"1\" class=\"dataframe\">\n",
       "  <thead>\n",
       "    <tr style=\"text-align: right;\">\n",
       "      <th></th>\n",
       "      <th>movieId</th>\n",
       "      <th>imdbId</th>\n",
       "      <th>tmdbId</th>\n",
       "    </tr>\n",
       "  </thead>\n",
       "  <tbody>\n",
       "    <tr>\n",
       "      <th>0</th>\n",
       "      <td>1</td>\n",
       "      <td>114709</td>\n",
       "      <td>862.0</td>\n",
       "    </tr>\n",
       "  </tbody>\n",
       "</table>\n",
       "</div>"
      ],
      "text/plain": [
       "   movieId  imdbId  tmdbId\n",
       "0        1  114709   862.0"
      ]
     },
     "execution_count": 139,
     "metadata": {},
     "output_type": "execute_result"
    }
   ],
   "source": [
    "links_db.head(1)"
   ]
  },
  {
   "cell_type": "code",
   "execution_count": 145,
   "id": "6d068c68",
   "metadata": {},
   "outputs": [
    {
     "data": {
      "text/plain": [
       "11170942"
      ]
     },
     "execution_count": 145,
     "metadata": {},
     "output_type": "execute_result"
    }
   ],
   "source": [
    "links_db.imdbId.max()"
   ]
  },
  {
   "cell_type": "code",
   "execution_count": 148,
   "id": "b76e154e",
   "metadata": {},
   "outputs": [
    {
     "data": {
      "text/html": [
       "<div>\n",
       "<style scoped>\n",
       "    .dataframe tbody tr th:only-of-type {\n",
       "        vertical-align: middle;\n",
       "    }\n",
       "\n",
       "    .dataframe tbody tr th {\n",
       "        vertical-align: top;\n",
       "    }\n",
       "\n",
       "    .dataframe thead th {\n",
       "        text-align: right;\n",
       "    }\n",
       "</style>\n",
       "<table border=\"1\" class=\"dataframe\">\n",
       "  <thead>\n",
       "    <tr style=\"text-align: right;\">\n",
       "      <th></th>\n",
       "      <th>movieId</th>\n",
       "      <th>imdbId</th>\n",
       "      <th>tmdbId</th>\n",
       "    </tr>\n",
       "  </thead>\n",
       "  <tbody>\n",
       "    <tr>\n",
       "      <th>62377</th>\n",
       "      <td>208945</td>\n",
       "      <td>11170942</td>\n",
       "      <td>568776.0</td>\n",
       "    </tr>\n",
       "  </tbody>\n",
       "</table>\n",
       "</div>"
      ],
      "text/plain": [
       "       movieId    imdbId    tmdbId\n",
       "62377   208945  11170942  568776.0"
      ]
     },
     "execution_count": 148,
     "metadata": {},
     "output_type": "execute_result"
    }
   ],
   "source": [
    "links_db[links_db.imdbId==11170942]"
   ]
  },
  {
   "cell_type": "code",
   "execution_count": 157,
   "id": "6e3b9b49",
   "metadata": {},
   "outputs": [
    {
     "data": {
      "text/html": [
       "<div>\n",
       "<style scoped>\n",
       "    .dataframe tbody tr th:only-of-type {\n",
       "        vertical-align: middle;\n",
       "    }\n",
       "\n",
       "    .dataframe tbody tr th {\n",
       "        vertical-align: top;\n",
       "    }\n",
       "\n",
       "    .dataframe thead th {\n",
       "        text-align: right;\n",
       "    }\n",
       "</style>\n",
       "<table border=\"1\" class=\"dataframe\">\n",
       "  <thead>\n",
       "    <tr style=\"text-align: right;\">\n",
       "      <th></th>\n",
       "      <th>movieId</th>\n",
       "      <th>title</th>\n",
       "      <th>genres</th>\n",
       "    </tr>\n",
       "  </thead>\n",
       "  <tbody>\n",
       "    <tr>\n",
       "      <th>62377</th>\n",
       "      <td>208945</td>\n",
       "      <td>Powder (2019)</td>\n",
       "      <td>Comedy|Drama</td>\n",
       "    </tr>\n",
       "  </tbody>\n",
       "</table>\n",
       "</div>"
      ],
      "text/plain": [
       "       movieId          title        genres\n",
       "62377   208945  Powder (2019)  Comedy|Drama"
      ]
     },
     "execution_count": 157,
     "metadata": {},
     "output_type": "execute_result"
    }
   ],
   "source": [
    "df[df.movieId==208945]"
   ]
  },
  {
   "cell_type": "code",
   "execution_count": 150,
   "id": "9cb01ad5",
   "metadata": {},
   "outputs": [
    {
     "data": {
      "text/plain": [
       "'string0000005'"
      ]
     },
     "execution_count": 150,
     "metadata": {},
     "output_type": "execute_result"
    }
   ],
   "source": [
    "\"string{0:07d}\".format(5)"
   ]
  },
  {
   "cell_type": "code",
   "execution_count": 194,
   "id": "3b11be6b",
   "metadata": {},
   "outputs": [
    {
     "name": "stdout",
     "output_type": "stream",
     "text": [
      "<Response [200]>\n"
     ]
    }
   ],
   "source": [
    "res = requests.get('https://www.imdb.com/title/tt0113283/', headers=headers)\n",
    "print(res)"
   ]
  },
  {
   "cell_type": "code",
   "execution_count": 195,
   "id": "c613d045",
   "metadata": {},
   "outputs": [],
   "source": [
    "soup = BeautifulSoup(res.text, 'html.parser')"
   ]
  },
  {
   "cell_type": "code",
   "execution_count": 196,
   "id": "dab1392e",
   "metadata": {},
   "outputs": [],
   "source": [
    "list = soup.find_all(\"li\", {\"data-testid\": \"title-pc-principal-credit\"})"
   ]
  },
  {
   "cell_type": "code",
   "execution_count": 197,
   "id": "159e7a14",
   "metadata": {},
   "outputs": [
    {
     "data": {
      "text/plain": [
       "4"
      ]
     },
     "execution_count": 197,
     "metadata": {},
     "output_type": "execute_result"
    }
   ],
   "source": [
    "len(list)"
   ]
  },
  {
   "cell_type": "code",
   "execution_count": 199,
   "id": "76fcc025",
   "metadata": {},
   "outputs": [
    {
     "data": {
      "text/plain": [
       "'Director'"
      ]
     },
     "execution_count": 199,
     "metadata": {},
     "output_type": "execute_result"
    }
   ],
   "source": [
    "\n",
    "list[0].span.getText()\n",
    "    "
   ]
  },
  {
   "cell_type": "code",
   "execution_count": 200,
   "id": "f94f7293",
   "metadata": {},
   "outputs": [
    {
     "data": {
      "text/plain": [
       "'Nick Broomfield'"
      ]
     },
     "execution_count": 200,
     "metadata": {},
     "output_type": "execute_result"
    }
   ],
   "source": [
    "list[0].div.ul.getText()"
   ]
  },
  {
   "cell_type": "code",
   "execution_count": 202,
   "id": "0179e239",
   "metadata": {},
   "outputs": [
    {
     "data": {
      "text/plain": [
       "'Stars'"
      ]
     },
     "execution_count": 202,
     "metadata": {},
     "output_type": "execute_result"
    }
   ],
   "source": [
    "list[1].a.getText()"
   ]
  },
  {
   "cell_type": "code",
   "execution_count": 203,
   "id": "d8c9daa4",
   "metadata": {},
   "outputs": [
    {
     "data": {
      "text/plain": [
       "'Nick BroomfieldNina Xining ZuoMadam Alex'"
      ]
     },
     "execution_count": 203,
     "metadata": {},
     "output_type": "execute_result"
    }
   ],
   "source": [
    "list[1].div.ul.getText()"
   ]
  },
  {
   "cell_type": "code",
   "execution_count": 208,
   "id": "e696fc0d",
   "metadata": {},
   "outputs": [
    {
     "name": "stdout",
     "output_type": "stream",
     "text": [
      "span\n",
      "a\n",
      "span\n",
      "a\n"
     ]
    }
   ],
   "source": [
    "for i in range(len(list)):\n",
    "    print(list[i].contents[0].name)\n",
    "    \n",
    "        "
   ]
  },
  {
   "cell_type": "code",
   "execution_count": 213,
   "id": "5e3658bb",
   "metadata": {},
   "outputs": [
    {
     "data": {
      "text/plain": [
       "'Director'"
      ]
     },
     "execution_count": 213,
     "metadata": {},
     "output_type": "execute_result"
    }
   ],
   "source": [
    "list[2].contents[0].getText()"
   ]
  },
  {
   "cell_type": "code",
   "execution_count": 210,
   "id": "9468c20a",
   "metadata": {},
   "outputs": [
    {
     "data": {
      "text/plain": [
       "<span aria-disabled=\"false\" aria-label=\"See full cast and crew\" class=\"ipc-metadata-list-item__label ipc-metadata-list-item__label--btn\">Director</span>"
      ]
     },
     "execution_count": 210,
     "metadata": {},
     "output_type": "execute_result"
    }
   ],
   "source": [
    "list[0].contents[0]"
   ]
  },
  {
   "cell_type": "code",
   "execution_count": 211,
   "id": "41fa6f3d",
   "metadata": {},
   "outputs": [
    {
     "data": {
      "text/plain": [
       "<a aria-disabled=\"false\" aria-label=\"See full cast and crew\" class=\"ipc-metadata-list-item__label ipc-metadata-list-item__label--link\" href=\"/title/tt0113283/fullcredits/cast?ref_=tt_ov_st_sm\" role=\"button\" tabindex=\"0\">Stars</a>"
      ]
     },
     "execution_count": 211,
     "metadata": {},
     "output_type": "execute_result"
    }
   ],
   "source": [
    "list[1].contents[0]"
   ]
  },
  {
   "cell_type": "code",
   "execution_count": 214,
   "id": "bbb3cdf0",
   "metadata": {},
   "outputs": [
    {
     "data": {
      "text/plain": [
       "'Stars'"
      ]
     },
     "execution_count": 214,
     "metadata": {},
     "output_type": "execute_result"
    }
   ],
   "source": [
    "list[3].contents[0].getText()"
   ]
  },
  {
   "cell_type": "code",
   "execution_count": 215,
   "id": "6f4f8529",
   "metadata": {},
   "outputs": [
    {
     "name": "stdout",
     "output_type": "stream",
     "text": [
      "director\n",
      "stars\n",
      "director\n",
      "stars\n"
     ]
    }
   ],
   "source": [
    "for i in range(len(list)):\n",
    "    if (list[i].contents[0].getText()=='Director'):\n",
    "        print('director')\n",
    "    if (list[i].contents[0].getText()=='Stars'):\n",
    "        print('stars')"
   ]
  },
  {
   "cell_type": "code",
   "execution_count": 218,
   "id": "0ce662f4",
   "metadata": {},
   "outputs": [
    {
     "data": {
      "text/plain": [
       "'Nick Broomfield'"
      ]
     },
     "execution_count": 218,
     "metadata": {},
     "output_type": "execute_result"
    }
   ],
   "source": [
    "list[0].contents[1].contents[0].getText()"
   ]
  },
  {
   "cell_type": "code",
   "execution_count": 220,
   "id": "e1f8efa8",
   "metadata": {},
   "outputs": [
    {
     "data": {
      "text/plain": [
       "'Nick BroomfieldNina Xining ZuoMadam Alex'"
      ]
     },
     "execution_count": 220,
     "metadata": {},
     "output_type": "execute_result"
    }
   ],
   "source": [
    "list[1].contents[1].contents[0].getText()"
   ]
  },
  {
   "cell_type": "code",
   "execution_count": 287,
   "id": "08349ac7",
   "metadata": {},
   "outputs": [],
   "source": [
    "def get_imdb_data2(imdb_id):\n",
    "    web_address = 'https://www.imdb.com/title/tt{0:07d}/'.format(imdb_id)\n",
    "    try:\n",
    "        res = requests.get(web_address, \n",
    "                       headers={'User-Agent': 'Mozilla/5.0'})\n",
    "    except requests.exceptions.RequestException as err:\n",
    "        print(f'request exception found {imbd_id}', err)\n",
    "    soup = BeautifulSoup(res.text, 'html.parser')\n",
    "    try:\n",
    "        description = soup.find(\"span\", {\"data-testid\": \"plot-xs_to_m\"}).getText()\n",
    "    except AttributeError:\n",
    "        description = ''\n",
    "    metadata = soup.find_all(\"li\", {\"data-testid\": \"title-pc-principal-credit\"})\n",
    "    if len(metadata) == 0:\n",
    "              print(f'{imdb_id} metadata not found')\n",
    "              \n",
    "    directors = []\n",
    "    lead_cast = []\n",
    "    for i in range(len(metadata)):\n",
    "        if ('Director' in metadata[i].contents[0].getText()):\n",
    "            for item in metadata[i].contents[1].contents[0]:\n",
    "                if item.getText() not in directors:\n",
    "                    directors.append(item.getText())\n",
    "        if ('Stars' in metadata[i].contents[0].getText()):\n",
    "            for item in metadata[i].contents[1].contents[0]:\n",
    "                lead_cast.append(item.getText())\n",
    "    \n",
    "    \n",
    "    return description, directors, lead_cast"
   ]
  },
  {
   "cell_type": "code",
   "execution_count": 288,
   "id": "7d32563a",
   "metadata": {},
   "outputs": [
    {
     "name": "stdout",
     "output_type": "stream",
     "text": [
      "118114 metadata not found\n"
     ]
    }
   ],
   "source": [
    "description = []\n",
    "directors = []\n",
    "lead_cast = []\n",
    "for i, row in small_df.iterrows():\n",
    "    imdb_id = links_db.loc[links_db.movieId == row.movieId].imdbId.values[0]\n",
    "    x, y, z = get_imdb_data2(imdb_id)\n",
    "    description.append(x)\n",
    "    directors.append(y)\n",
    "    lead_cast.append(z)\n"
   ]
  },
  {
   "cell_type": "code",
   "execution_count": 289,
   "id": "ea523404",
   "metadata": {},
   "outputs": [
    {
     "data": {
      "text/plain": [
       "705    720\n",
       "Name: movieId, dtype: int64"
      ]
     },
     "execution_count": 289,
     "metadata": {},
     "output_type": "execute_result"
    }
   ],
   "source": [
    "links_db[links_db.imdbId == 118114].movieId"
   ]
  },
  {
   "cell_type": "code",
   "execution_count": 290,
   "id": "9506cf27",
   "metadata": {},
   "outputs": [
    {
     "data": {
      "text/plain": [
       "'Wallace & Gromit: The Best of Aardman Animation (1996)'"
      ]
     },
     "execution_count": 290,
     "metadata": {},
     "output_type": "execute_result"
    }
   ],
   "source": [
    "small_df.title[705]"
   ]
  },
  {
   "cell_type": "code",
   "execution_count": 224,
   "id": "9ff275ff",
   "metadata": {},
   "outputs": [
    {
     "data": {
      "text/plain": [
       "'Four Rooms (1995)'"
      ]
     },
     "execution_count": 224,
     "metadata": {},
     "output_type": "execute_result"
    }
   ],
   "source": [
    "small_df.title[17]"
   ]
  },
  {
   "cell_type": "code",
   "execution_count": 265,
   "id": "e95b0f91",
   "metadata": {},
   "outputs": [],
   "source": [
    "xsmall_df = df.head(200)"
   ]
  },
  {
   "cell_type": "code",
   "execution_count": 235,
   "id": "509b8c47",
   "metadata": {},
   "outputs": [
    {
     "name": "stdout",
     "output_type": "stream",
     "text": [
      "0\n",
      "1\n",
      "2\n",
      "3\n",
      "4\n",
      "5\n",
      "6\n",
      "7\n",
      "8\n",
      "9\n",
      "10\n",
      "11\n",
      "12\n",
      "13\n",
      "14\n",
      "15\n",
      "16\n",
      "17\n",
      "18\n",
      "19\n",
      "20\n",
      "21\n",
      "22\n",
      "23\n",
      "24\n",
      "25\n",
      "26\n",
      "27\n",
      "28\n",
      "29\n",
      "30\n",
      "31\n",
      "32\n",
      "33\n",
      "34\n",
      "35\n",
      "36\n",
      "37\n",
      "38\n",
      "39\n",
      "40\n",
      "41\n",
      "42\n",
      "43\n",
      "44\n",
      "45\n",
      "46\n",
      "47\n",
      "48\n",
      "49\n",
      "50\n",
      "51\n",
      "52\n",
      "53\n",
      "54\n",
      "55\n",
      "56\n",
      "57\n",
      "58\n",
      "59\n",
      "60\n",
      "61\n",
      "62\n",
      "63\n",
      "64\n",
      "65\n",
      "66\n",
      "67\n",
      "68\n",
      "69\n",
      "70\n",
      "71\n",
      "72\n",
      "73\n",
      "74\n",
      "75\n",
      "76\n",
      "77\n",
      "78\n",
      "79\n",
      "80\n",
      "81\n",
      "82\n",
      "83\n",
      "84\n",
      "85\n",
      "86\n",
      "87\n",
      "88\n",
      "89\n",
      "90\n",
      "91\n",
      "92\n",
      "93\n",
      "94\n",
      "95\n",
      "96\n",
      "97\n",
      "98\n",
      "99\n",
      "100\n",
      "101\n",
      "102\n",
      "103\n",
      "104\n",
      "105\n",
      "106\n",
      "107\n",
      "108\n",
      "109\n",
      "110\n",
      "111\n",
      "112\n",
      "113\n",
      "114\n",
      "115\n",
      "116\n",
      "117\n",
      "118\n",
      "119\n",
      "120\n",
      "121\n",
      "122\n",
      "123\n",
      "124\n",
      "125\n",
      "126\n",
      "127\n",
      "128\n",
      "129\n",
      "130\n",
      "131\n",
      "132\n",
      "133\n",
      "134\n",
      "135\n",
      "136\n",
      "137\n",
      "138\n",
      "139\n",
      "140\n",
      "141\n",
      "142\n",
      "143\n",
      "144\n",
      "145\n",
      "146\n",
      "147\n",
      "148\n",
      "149\n",
      "150\n",
      "151\n",
      "152\n",
      "153\n",
      "154\n",
      "155\n",
      "156\n",
      "157\n",
      "158\n",
      "159\n",
      "160\n",
      "161\n",
      "162\n",
      "163\n",
      "164\n",
      "165\n",
      "166\n",
      "167\n",
      "168\n",
      "169\n",
      "170\n",
      "171\n",
      "172\n",
      "173\n",
      "174\n",
      "175\n",
      "176\n",
      "177\n",
      "178\n",
      "179\n",
      "180\n",
      "181\n",
      "182\n",
      "183\n",
      "184\n",
      "185\n",
      "186\n",
      "187\n",
      "188\n",
      "189\n",
      "190\n",
      "191\n",
      "192\n",
      "193\n",
      "194\n",
      "195\n",
      "196\n",
      "197\n",
      "198\n",
      "199\n"
     ]
    }
   ],
   "source": [
    "description = []\n",
    "directors = []\n",
    "lead_cast = []\n",
    "for i, row in xsmall_df.iterrows():\n",
    "    print(i)\n",
    "    imdb_id = links_db.loc[links_db.movieId == row.movieId].imdbId.values[0]\n",
    "    x, y, z = get_imdb_data2(imdb_id)\n",
    "    description.append(x)\n",
    "    directors.append(y)\n",
    "    lead_cast.append(z)\n",
    "   \n"
   ]
  },
  {
   "cell_type": "code",
   "execution_count": 252,
   "id": "b46600eb",
   "metadata": {},
   "outputs": [
    {
     "data": {
      "text/html": [
       "<div>\n",
       "<style scoped>\n",
       "    .dataframe tbody tr th:only-of-type {\n",
       "        vertical-align: middle;\n",
       "    }\n",
       "\n",
       "    .dataframe tbody tr th {\n",
       "        vertical-align: top;\n",
       "    }\n",
       "\n",
       "    .dataframe thead th {\n",
       "        text-align: right;\n",
       "    }\n",
       "</style>\n",
       "<table border=\"1\" class=\"dataframe\">\n",
       "  <thead>\n",
       "    <tr style=\"text-align: right;\">\n",
       "      <th></th>\n",
       "      <th>movieId</th>\n",
       "      <th>title</th>\n",
       "      <th>genres</th>\n",
       "    </tr>\n",
       "  </thead>\n",
       "  <tbody>\n",
       "    <tr>\n",
       "      <th>0</th>\n",
       "      <td>1</td>\n",
       "      <td>Toy Story (1995)</td>\n",
       "      <td>Adventure|Animation|Children|Comedy|Fantasy</td>\n",
       "    </tr>\n",
       "    <tr>\n",
       "      <th>1</th>\n",
       "      <td>2</td>\n",
       "      <td>Jumanji (1995)</td>\n",
       "      <td>Adventure|Children|Fantasy</td>\n",
       "    </tr>\n",
       "    <tr>\n",
       "      <th>2</th>\n",
       "      <td>3</td>\n",
       "      <td>Grumpier Old Men (1995)</td>\n",
       "      <td>Comedy|Romance</td>\n",
       "    </tr>\n",
       "    <tr>\n",
       "      <th>3</th>\n",
       "      <td>4</td>\n",
       "      <td>Waiting to Exhale (1995)</td>\n",
       "      <td>Comedy|Drama|Romance</td>\n",
       "    </tr>\n",
       "    <tr>\n",
       "      <th>4</th>\n",
       "      <td>5</td>\n",
       "      <td>Father of the Bride Part II (1995)</td>\n",
       "      <td>Comedy</td>\n",
       "    </tr>\n",
       "  </tbody>\n",
       "</table>\n",
       "</div>"
      ],
      "text/plain": [
       "   movieId                               title  \\\n",
       "0        1                    Toy Story (1995)   \n",
       "1        2                      Jumanji (1995)   \n",
       "2        3             Grumpier Old Men (1995)   \n",
       "3        4            Waiting to Exhale (1995)   \n",
       "4        5  Father of the Bride Part II (1995)   \n",
       "\n",
       "                                        genres  \n",
       "0  Adventure|Animation|Children|Comedy|Fantasy  \n",
       "1                   Adventure|Children|Fantasy  \n",
       "2                               Comedy|Romance  \n",
       "3                         Comedy|Drama|Romance  \n",
       "4                                       Comedy  "
      ]
     },
     "execution_count": 252,
     "metadata": {},
     "output_type": "execute_result"
    }
   ],
   "source": [
    "xsmall_df.head()"
   ]
  },
  {
   "cell_type": "code",
   "execution_count": null,
   "id": "af97b4f1",
   "metadata": {},
   "outputs": [],
   "source": []
  },
  {
   "cell_type": "code",
   "execution_count": 266,
   "id": "c306845a",
   "metadata": {},
   "outputs": [],
   "source": [
    "description = pd.Series(description)\n",
    "directors = pd.Series(directors)\n",
    "lead_cast = pd.Series(lead_cast)"
   ]
  },
  {
   "cell_type": "code",
   "execution_count": 267,
   "id": "411fe6be",
   "metadata": {},
   "outputs": [],
   "source": [
    "xsmall_df = pd.concat([xsmall_df, description, directors, lead_cast], axis=1)"
   ]
  },
  {
   "cell_type": "code",
   "execution_count": 268,
   "id": "fd474b31",
   "metadata": {},
   "outputs": [
    {
     "data": {
      "text/html": [
       "<div>\n",
       "<style scoped>\n",
       "    .dataframe tbody tr th:only-of-type {\n",
       "        vertical-align: middle;\n",
       "    }\n",
       "\n",
       "    .dataframe tbody tr th {\n",
       "        vertical-align: top;\n",
       "    }\n",
       "\n",
       "    .dataframe thead th {\n",
       "        text-align: right;\n",
       "    }\n",
       "</style>\n",
       "<table border=\"1\" class=\"dataframe\">\n",
       "  <thead>\n",
       "    <tr style=\"text-align: right;\">\n",
       "      <th></th>\n",
       "      <th>movieId</th>\n",
       "      <th>title</th>\n",
       "      <th>genres</th>\n",
       "      <th>0</th>\n",
       "      <th>1</th>\n",
       "      <th>2</th>\n",
       "    </tr>\n",
       "  </thead>\n",
       "  <tbody>\n",
       "    <tr>\n",
       "      <th>0</th>\n",
       "      <td>1</td>\n",
       "      <td>Toy Story (1995)</td>\n",
       "      <td>Adventure|Animation|Children|Comedy|Fantasy</td>\n",
       "      <td>A cowboy doll is profoundly threatened and jea...</td>\n",
       "      <td>[John Lasseter]</td>\n",
       "      <td>[Tom Hanks, Tim Allen, Don Rickles, Tom Hanks,...</td>\n",
       "    </tr>\n",
       "    <tr>\n",
       "      <th>1</th>\n",
       "      <td>2</td>\n",
       "      <td>Jumanji (1995)</td>\n",
       "      <td>Adventure|Children|Fantasy</td>\n",
       "      <td>When two kids find and play a magical board ga...</td>\n",
       "      <td>[Joe Johnston]</td>\n",
       "      <td>[Robin Williams, Kirsten Dunst, Bonnie Hunt, R...</td>\n",
       "    </tr>\n",
       "    <tr>\n",
       "      <th>2</th>\n",
       "      <td>3</td>\n",
       "      <td>Grumpier Old Men (1995)</td>\n",
       "      <td>Comedy|Romance</td>\n",
       "      <td>John and Max resolve to save their beloved bai...</td>\n",
       "      <td>[Howard Deutch]</td>\n",
       "      <td>[Walter Matthau, Jack Lemmon, Ann-Margret, Wal...</td>\n",
       "    </tr>\n",
       "    <tr>\n",
       "      <th>3</th>\n",
       "      <td>4</td>\n",
       "      <td>Waiting to Exhale (1995)</td>\n",
       "      <td>Comedy|Drama|Romance</td>\n",
       "      <td>Based on Terry McMillan's novel, this film fol...</td>\n",
       "      <td>[Forest Whitaker]</td>\n",
       "      <td>[Whitney Houston, Angela Bassett, Loretta Devi...</td>\n",
       "    </tr>\n",
       "    <tr>\n",
       "      <th>4</th>\n",
       "      <td>5</td>\n",
       "      <td>Father of the Bride Part II (1995)</td>\n",
       "      <td>Comedy</td>\n",
       "      <td>George Banks must deal not only with his daugh...</td>\n",
       "      <td>[Charles Shyer]</td>\n",
       "      <td>[Steve Martin, Diane Keaton, Martin Short, Ste...</td>\n",
       "    </tr>\n",
       "  </tbody>\n",
       "</table>\n",
       "</div>"
      ],
      "text/plain": [
       "   movieId                               title  \\\n",
       "0        1                    Toy Story (1995)   \n",
       "1        2                      Jumanji (1995)   \n",
       "2        3             Grumpier Old Men (1995)   \n",
       "3        4            Waiting to Exhale (1995)   \n",
       "4        5  Father of the Bride Part II (1995)   \n",
       "\n",
       "                                        genres  \\\n",
       "0  Adventure|Animation|Children|Comedy|Fantasy   \n",
       "1                   Adventure|Children|Fantasy   \n",
       "2                               Comedy|Romance   \n",
       "3                         Comedy|Drama|Romance   \n",
       "4                                       Comedy   \n",
       "\n",
       "                                                   0                  1  \\\n",
       "0  A cowboy doll is profoundly threatened and jea...    [John Lasseter]   \n",
       "1  When two kids find and play a magical board ga...     [Joe Johnston]   \n",
       "2  John and Max resolve to save their beloved bai...    [Howard Deutch]   \n",
       "3  Based on Terry McMillan's novel, this film fol...  [Forest Whitaker]   \n",
       "4  George Banks must deal not only with his daugh...    [Charles Shyer]   \n",
       "\n",
       "                                                   2  \n",
       "0  [Tom Hanks, Tim Allen, Don Rickles, Tom Hanks,...  \n",
       "1  [Robin Williams, Kirsten Dunst, Bonnie Hunt, R...  \n",
       "2  [Walter Matthau, Jack Lemmon, Ann-Margret, Wal...  \n",
       "3  [Whitney Houston, Angela Bassett, Loretta Devi...  \n",
       "4  [Steve Martin, Diane Keaton, Martin Short, Ste...  "
      ]
     },
     "execution_count": 268,
     "metadata": {},
     "output_type": "execute_result"
    }
   ],
   "source": [
    "xsmall_df.head()"
   ]
  },
  {
   "cell_type": "code",
   "execution_count": 263,
   "id": "f555653e",
   "metadata": {},
   "outputs": [
    {
     "name": "stdout",
     "output_type": "stream",
     "text": [
      "['movieId', 'title', 'genres', 0]\n"
     ]
    }
   ],
   "source": [
    "print([col for col in xsmall_df])"
   ]
  },
  {
   "cell_type": "code",
   "execution_count": 269,
   "id": "9bf17ff5",
   "metadata": {},
   "outputs": [
    {
     "data": {
      "text/html": [
       "<div>\n",
       "<style scoped>\n",
       "    .dataframe tbody tr th:only-of-type {\n",
       "        vertical-align: middle;\n",
       "    }\n",
       "\n",
       "    .dataframe tbody tr th {\n",
       "        vertical-align: top;\n",
       "    }\n",
       "\n",
       "    .dataframe thead th {\n",
       "        text-align: right;\n",
       "    }\n",
       "</style>\n",
       "<table border=\"1\" class=\"dataframe\">\n",
       "  <thead>\n",
       "    <tr style=\"text-align: right;\">\n",
       "      <th></th>\n",
       "      <th>movieId</th>\n",
       "      <th>title</th>\n",
       "      <th>genres</th>\n",
       "      <th>description</th>\n",
       "      <th>directors</th>\n",
       "      <th>leadCast</th>\n",
       "    </tr>\n",
       "  </thead>\n",
       "  <tbody>\n",
       "    <tr>\n",
       "      <th>0</th>\n",
       "      <td>1</td>\n",
       "      <td>Toy Story (1995)</td>\n",
       "      <td>Adventure|Animation|Children|Comedy|Fantasy</td>\n",
       "      <td>A cowboy doll is profoundly threatened and jea...</td>\n",
       "      <td>[John Lasseter]</td>\n",
       "      <td>[Tom Hanks, Tim Allen, Don Rickles, Tom Hanks,...</td>\n",
       "    </tr>\n",
       "    <tr>\n",
       "      <th>1</th>\n",
       "      <td>2</td>\n",
       "      <td>Jumanji (1995)</td>\n",
       "      <td>Adventure|Children|Fantasy</td>\n",
       "      <td>When two kids find and play a magical board ga...</td>\n",
       "      <td>[Joe Johnston]</td>\n",
       "      <td>[Robin Williams, Kirsten Dunst, Bonnie Hunt, R...</td>\n",
       "    </tr>\n",
       "    <tr>\n",
       "      <th>2</th>\n",
       "      <td>3</td>\n",
       "      <td>Grumpier Old Men (1995)</td>\n",
       "      <td>Comedy|Romance</td>\n",
       "      <td>John and Max resolve to save their beloved bai...</td>\n",
       "      <td>[Howard Deutch]</td>\n",
       "      <td>[Walter Matthau, Jack Lemmon, Ann-Margret, Wal...</td>\n",
       "    </tr>\n",
       "    <tr>\n",
       "      <th>3</th>\n",
       "      <td>4</td>\n",
       "      <td>Waiting to Exhale (1995)</td>\n",
       "      <td>Comedy|Drama|Romance</td>\n",
       "      <td>Based on Terry McMillan's novel, this film fol...</td>\n",
       "      <td>[Forest Whitaker]</td>\n",
       "      <td>[Whitney Houston, Angela Bassett, Loretta Devi...</td>\n",
       "    </tr>\n",
       "    <tr>\n",
       "      <th>4</th>\n",
       "      <td>5</td>\n",
       "      <td>Father of the Bride Part II (1995)</td>\n",
       "      <td>Comedy</td>\n",
       "      <td>George Banks must deal not only with his daugh...</td>\n",
       "      <td>[Charles Shyer]</td>\n",
       "      <td>[Steve Martin, Diane Keaton, Martin Short, Ste...</td>\n",
       "    </tr>\n",
       "  </tbody>\n",
       "</table>\n",
       "</div>"
      ],
      "text/plain": [
       "   movieId                               title  \\\n",
       "0        1                    Toy Story (1995)   \n",
       "1        2                      Jumanji (1995)   \n",
       "2        3             Grumpier Old Men (1995)   \n",
       "3        4            Waiting to Exhale (1995)   \n",
       "4        5  Father of the Bride Part II (1995)   \n",
       "\n",
       "                                        genres  \\\n",
       "0  Adventure|Animation|Children|Comedy|Fantasy   \n",
       "1                   Adventure|Children|Fantasy   \n",
       "2                               Comedy|Romance   \n",
       "3                         Comedy|Drama|Romance   \n",
       "4                                       Comedy   \n",
       "\n",
       "                                         description          directors  \\\n",
       "0  A cowboy doll is profoundly threatened and jea...    [John Lasseter]   \n",
       "1  When two kids find and play a magical board ga...     [Joe Johnston]   \n",
       "2  John and Max resolve to save their beloved bai...    [Howard Deutch]   \n",
       "3  Based on Terry McMillan's novel, this film fol...  [Forest Whitaker]   \n",
       "4  George Banks must deal not only with his daugh...    [Charles Shyer]   \n",
       "\n",
       "                                            leadCast  \n",
       "0  [Tom Hanks, Tim Allen, Don Rickles, Tom Hanks,...  \n",
       "1  [Robin Williams, Kirsten Dunst, Bonnie Hunt, R...  \n",
       "2  [Walter Matthau, Jack Lemmon, Ann-Margret, Wal...  \n",
       "3  [Whitney Houston, Angela Bassett, Loretta Devi...  \n",
       "4  [Steve Martin, Diane Keaton, Martin Short, Ste...  "
      ]
     },
     "execution_count": 269,
     "metadata": {},
     "output_type": "execute_result"
    }
   ],
   "source": [
    "xsmall_df.rename(columns={0: 'description', 1: 'directors', 2: 'leadCast'}, inplace=True)\n",
    "xsmall_df.head()\n"
   ]
  },
  {
   "cell_type": "code",
   "execution_count": 270,
   "id": "a398f3ce",
   "metadata": {},
   "outputs": [
    {
     "data": {
      "text/html": [
       "<div>\n",
       "<style scoped>\n",
       "    .dataframe tbody tr th:only-of-type {\n",
       "        vertical-align: middle;\n",
       "    }\n",
       "\n",
       "    .dataframe tbody tr th {\n",
       "        vertical-align: top;\n",
       "    }\n",
       "\n",
       "    .dataframe thead th {\n",
       "        text-align: right;\n",
       "    }\n",
       "</style>\n",
       "<table border=\"1\" class=\"dataframe\">\n",
       "  <thead>\n",
       "    <tr style=\"text-align: right;\">\n",
       "      <th></th>\n",
       "      <th>Unnamed: 0</th>\n",
       "      <th>movieId</th>\n",
       "      <th>title</th>\n",
       "      <th>genres</th>\n",
       "      <th>description</th>\n",
       "      <th>directors</th>\n",
       "      <th>leadCast</th>\n",
       "    </tr>\n",
       "  </thead>\n",
       "  <tbody>\n",
       "    <tr>\n",
       "      <th>0</th>\n",
       "      <td>0</td>\n",
       "      <td>1</td>\n",
       "      <td>Toy Story (1995)</td>\n",
       "      <td>Adventure|Animation|Children|Comedy|Fantasy</td>\n",
       "      <td>A cowboy doll is profoundly threatened and jea...</td>\n",
       "      <td>['John Lasseter']</td>\n",
       "      <td>['Tom Hanks', 'Tim Allen', 'Don Rickles', 'Tom...</td>\n",
       "    </tr>\n",
       "    <tr>\n",
       "      <th>1</th>\n",
       "      <td>1</td>\n",
       "      <td>2</td>\n",
       "      <td>Jumanji (1995)</td>\n",
       "      <td>Adventure|Children|Fantasy</td>\n",
       "      <td>When two kids find and play a magical board ga...</td>\n",
       "      <td>['Joe Johnston']</td>\n",
       "      <td>['Robin Williams', 'Kirsten Dunst', 'Bonnie Hu...</td>\n",
       "    </tr>\n",
       "    <tr>\n",
       "      <th>2</th>\n",
       "      <td>2</td>\n",
       "      <td>3</td>\n",
       "      <td>Grumpier Old Men (1995)</td>\n",
       "      <td>Comedy|Romance</td>\n",
       "      <td>John and Max resolve to save their beloved bai...</td>\n",
       "      <td>['Howard Deutch']</td>\n",
       "      <td>['Walter Matthau', 'Jack Lemmon', 'Ann-Margret...</td>\n",
       "    </tr>\n",
       "    <tr>\n",
       "      <th>3</th>\n",
       "      <td>3</td>\n",
       "      <td>4</td>\n",
       "      <td>Waiting to Exhale (1995)</td>\n",
       "      <td>Comedy|Drama|Romance</td>\n",
       "      <td>Based on Terry McMillan's novel, this film fol...</td>\n",
       "      <td>['Forest Whitaker']</td>\n",
       "      <td>['Whitney Houston', 'Angela Bassett', 'Loretta...</td>\n",
       "    </tr>\n",
       "    <tr>\n",
       "      <th>4</th>\n",
       "      <td>4</td>\n",
       "      <td>5</td>\n",
       "      <td>Father of the Bride Part II (1995)</td>\n",
       "      <td>Comedy</td>\n",
       "      <td>George Banks must deal not only with his daugh...</td>\n",
       "      <td>['Charles Shyer']</td>\n",
       "      <td>['Steve Martin', 'Diane Keaton', 'Martin Short...</td>\n",
       "    </tr>\n",
       "  </tbody>\n",
       "</table>\n",
       "</div>"
      ],
      "text/plain": [
       "   Unnamed: 0  movieId                               title  \\\n",
       "0           0        1                    Toy Story (1995)   \n",
       "1           1        2                      Jumanji (1995)   \n",
       "2           2        3             Grumpier Old Men (1995)   \n",
       "3           3        4            Waiting to Exhale (1995)   \n",
       "4           4        5  Father of the Bride Part II (1995)   \n",
       "\n",
       "                                        genres  \\\n",
       "0  Adventure|Animation|Children|Comedy|Fantasy   \n",
       "1                   Adventure|Children|Fantasy   \n",
       "2                               Comedy|Romance   \n",
       "3                         Comedy|Drama|Romance   \n",
       "4                                       Comedy   \n",
       "\n",
       "                                         description            directors  \\\n",
       "0  A cowboy doll is profoundly threatened and jea...    ['John Lasseter']   \n",
       "1  When two kids find and play a magical board ga...     ['Joe Johnston']   \n",
       "2  John and Max resolve to save their beloved bai...    ['Howard Deutch']   \n",
       "3  Based on Terry McMillan's novel, this film fol...  ['Forest Whitaker']   \n",
       "4  George Banks must deal not only with his daugh...    ['Charles Shyer']   \n",
       "\n",
       "                                            leadCast  \n",
       "0  ['Tom Hanks', 'Tim Allen', 'Don Rickles', 'Tom...  \n",
       "1  ['Robin Williams', 'Kirsten Dunst', 'Bonnie Hu...  \n",
       "2  ['Walter Matthau', 'Jack Lemmon', 'Ann-Margret...  \n",
       "3  ['Whitney Houston', 'Angela Bassett', 'Loretta...  \n",
       "4  ['Steve Martin', 'Diane Keaton', 'Martin Short...  "
      ]
     },
     "execution_count": 270,
     "metadata": {},
     "output_type": "execute_result"
    }
   ],
   "source": [
    "new_df = pd.read_csv('../Downloads/ml-25m/augmented_movies.csv')\n",
    "new_df.head()"
   ]
  },
  {
   "cell_type": "code",
   "execution_count": null,
   "id": "e3c51f3f",
   "metadata": {},
   "outputs": [],
   "source": []
  }
 ],
 "metadata": {
  "kernelspec": {
   "display_name": "Python 3 (ipykernel)",
   "language": "python",
   "name": "python3"
  },
  "language_info": {
   "codemirror_mode": {
    "name": "ipython",
    "version": 3
   },
   "file_extension": ".py",
   "mimetype": "text/x-python",
   "name": "python",
   "nbconvert_exporter": "python",
   "pygments_lexer": "ipython3",
   "version": "3.9.13"
  }
 },
 "nbformat": 4,
 "nbformat_minor": 5
}
