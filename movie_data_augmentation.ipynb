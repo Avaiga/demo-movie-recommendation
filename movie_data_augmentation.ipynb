{
 "cells": [
  {
   "cell_type": "code",
   "execution_count": 2,
   "id": "28b5edbe",
   "metadata": {},
   "outputs": [],
   "source": [
    "import numpy as np\n",
    "import pandas as pd"
   ]
  },
  {
   "cell_type": "code",
   "execution_count": 272,
   "id": "353c6a79",
   "metadata": {},
   "outputs": [
    {
     "data": {
      "text/html": [
       "<div>\n",
       "<style scoped>\n",
       "    .dataframe tbody tr th:only-of-type {\n",
       "        vertical-align: middle;\n",
       "    }\n",
       "\n",
       "    .dataframe tbody tr th {\n",
       "        vertical-align: top;\n",
       "    }\n",
       "\n",
       "    .dataframe thead th {\n",
       "        text-align: right;\n",
       "    }\n",
       "</style>\n",
       "<table border=\"1\" class=\"dataframe\">\n",
       "  <thead>\n",
       "    <tr style=\"text-align: right;\">\n",
       "      <th></th>\n",
       "      <th>movieId</th>\n",
       "      <th>title</th>\n",
       "      <th>genres</th>\n",
       "    </tr>\n",
       "  </thead>\n",
       "  <tbody>\n",
       "    <tr>\n",
       "      <th>0</th>\n",
       "      <td>1</td>\n",
       "      <td>Toy Story (1995)</td>\n",
       "      <td>Adventure|Animation|Children|Comedy|Fantasy</td>\n",
       "    </tr>\n",
       "    <tr>\n",
       "      <th>1</th>\n",
       "      <td>2</td>\n",
       "      <td>Jumanji (1995)</td>\n",
       "      <td>Adventure|Children|Fantasy</td>\n",
       "    </tr>\n",
       "    <tr>\n",
       "      <th>2</th>\n",
       "      <td>3</td>\n",
       "      <td>Grumpier Old Men (1995)</td>\n",
       "      <td>Comedy|Romance</td>\n",
       "    </tr>\n",
       "    <tr>\n",
       "      <th>3</th>\n",
       "      <td>4</td>\n",
       "      <td>Waiting to Exhale (1995)</td>\n",
       "      <td>Comedy|Drama|Romance</td>\n",
       "    </tr>\n",
       "    <tr>\n",
       "      <th>4</th>\n",
       "      <td>5</td>\n",
       "      <td>Father of the Bride Part II (1995)</td>\n",
       "      <td>Comedy</td>\n",
       "    </tr>\n",
       "  </tbody>\n",
       "</table>\n",
       "</div>"
      ],
      "text/plain": [
       "   movieId                               title  \\\n",
       "0        1                    Toy Story (1995)   \n",
       "1        2                      Jumanji (1995)   \n",
       "2        3             Grumpier Old Men (1995)   \n",
       "3        4            Waiting to Exhale (1995)   \n",
       "4        5  Father of the Bride Part II (1995)   \n",
       "\n",
       "                                        genres  \n",
       "0  Adventure|Animation|Children|Comedy|Fantasy  \n",
       "1                   Adventure|Children|Fantasy  \n",
       "2                               Comedy|Romance  \n",
       "3                         Comedy|Drama|Romance  \n",
       "4                                       Comedy  "
      ]
     },
     "execution_count": 272,
     "metadata": {},
     "output_type": "execute_result"
    }
   ],
   "source": [
    "movie_file = '../Downloads/ml-25m/movies.csv'\n",
    "df = pd.read_csv(movie_file)\n",
    "df.head()"
   ]
  },
  {
   "cell_type": "code",
   "execution_count": 23,
   "id": "5b6d973b",
   "metadata": {},
   "outputs": [
    {
     "name": "stdout",
     "output_type": "stream",
     "text": [
      "Requirement already satisfied: beautifulsoup4 in /Users/lucy/opt/anaconda3/lib/python3.9/site-packages (4.11.1)\r\n",
      "Requirement already satisfied: soupsieve>1.2 in /Users/lucy/opt/anaconda3/lib/python3.9/site-packages (from beautifulsoup4) (2.3.1)\r\n"
     ]
    }
   ],
   "source": [
    "!pip3 install beautifulsoup4"
   ]
  },
  {
   "cell_type": "code",
   "execution_count": 24,
   "id": "4f9b3072",
   "metadata": {},
   "outputs": [
    {
     "name": "stdout",
     "output_type": "stream",
     "text": [
      "Requirement already satisfied: requests in /Users/lucy/opt/anaconda3/lib/python3.9/site-packages (2.28.1)\r\n",
      "Requirement already satisfied: charset-normalizer<3,>=2 in /Users/lucy/opt/anaconda3/lib/python3.9/site-packages (from requests) (2.0.4)\r\n",
      "Requirement already satisfied: urllib3<1.27,>=1.21.1 in /Users/lucy/opt/anaconda3/lib/python3.9/site-packages (from requests) (1.26.11)\r\n",
      "Requirement already satisfied: idna<4,>=2.5 in /Users/lucy/opt/anaconda3/lib/python3.9/site-packages (from requests) (3.3)\r\n",
      "Requirement already satisfied: certifi>=2017.4.17 in /Users/lucy/opt/anaconda3/lib/python3.9/site-packages (from requests) (2022.9.24)\r\n"
     ]
    }
   ],
   "source": [
    "!pip3 install requests"
   ]
  },
  {
   "cell_type": "code",
   "execution_count": 273,
   "id": "1f7f1c84",
   "metadata": {},
   "outputs": [],
   "source": [
    "import requests\n",
    "from bs4 import BeautifulSoup"
   ]
  },
  {
   "cell_type": "code",
   "execution_count": 274,
   "id": "f6a01a66",
   "metadata": {},
   "outputs": [],
   "source": [
    "links_db = pd.read_csv('../Downloads/ml-25m/links.csv')"
   ]
  },
  {
   "cell_type": "code",
   "execution_count": 275,
   "id": "88d7ae3b",
   "metadata": {},
   "outputs": [
    {
     "data": {
      "text/html": [
       "<div>\n",
       "<style scoped>\n",
       "    .dataframe tbody tr th:only-of-type {\n",
       "        vertical-align: middle;\n",
       "    }\n",
       "\n",
       "    .dataframe tbody tr th {\n",
       "        vertical-align: top;\n",
       "    }\n",
       "\n",
       "    .dataframe thead th {\n",
       "        text-align: right;\n",
       "    }\n",
       "</style>\n",
       "<table border=\"1\" class=\"dataframe\">\n",
       "  <thead>\n",
       "    <tr style=\"text-align: right;\">\n",
       "      <th></th>\n",
       "      <th>movieId</th>\n",
       "      <th>imdbId</th>\n",
       "      <th>tmdbId</th>\n",
       "    </tr>\n",
       "  </thead>\n",
       "  <tbody>\n",
       "    <tr>\n",
       "      <th>0</th>\n",
       "      <td>1</td>\n",
       "      <td>114709</td>\n",
       "      <td>862.0</td>\n",
       "    </tr>\n",
       "    <tr>\n",
       "      <th>1</th>\n",
       "      <td>2</td>\n",
       "      <td>113497</td>\n",
       "      <td>8844.0</td>\n",
       "    </tr>\n",
       "    <tr>\n",
       "      <th>2</th>\n",
       "      <td>3</td>\n",
       "      <td>113228</td>\n",
       "      <td>15602.0</td>\n",
       "    </tr>\n",
       "    <tr>\n",
       "      <th>3</th>\n",
       "      <td>4</td>\n",
       "      <td>114885</td>\n",
       "      <td>31357.0</td>\n",
       "    </tr>\n",
       "    <tr>\n",
       "      <th>4</th>\n",
       "      <td>5</td>\n",
       "      <td>113041</td>\n",
       "      <td>11862.0</td>\n",
       "    </tr>\n",
       "  </tbody>\n",
       "</table>\n",
       "</div>"
      ],
      "text/plain": [
       "   movieId  imdbId   tmdbId\n",
       "0        1  114709    862.0\n",
       "1        2  113497   8844.0\n",
       "2        3  113228  15602.0\n",
       "3        4  114885  31357.0\n",
       "4        5  113041  11862.0"
      ]
     },
     "execution_count": 275,
     "metadata": {},
     "output_type": "execute_result"
    }
   ],
   "source": [
    "links_db.head()"
   ]
  },
  {
   "cell_type": "code",
   "execution_count": 28,
   "id": "84b16447",
   "metadata": {},
   "outputs": [
    {
     "name": "stdout",
     "output_type": "stream",
     "text": [
      "<Response [200]>\n"
     ]
    }
   ],
   "source": [
    "headers={'User-Agent': 'Mozilla/5.0'}\n",
    "res = requests.get('https://www.imdb.com/', headers=headers)\n",
    "print(res)"
   ]
  },
  {
   "cell_type": "code",
   "execution_count": 56,
   "id": "30171aa7",
   "metadata": {},
   "outputs": [
    {
     "name": "stdout",
     "output_type": "stream",
     "text": [
      "<Response [200]>\n",
      "[<span class=\"sc-5f699a2-0 kcphyk\" data-testid=\"plot-xs_to_m\" role=\"presentation\">A cowboy doll is profoundly threatened and jealous when a new spaceman action figure supplants him as top toy in a boy's bedroom.</span>]\n"
     ]
    }
   ],
   "source": [
    "res = requests.get('https://www.imdb.com/title/tt0114709/', headers=headers)\n",
    "print(res)\n",
    "soup = BeautifulSoup(res.text, 'html.parser')\n",
    "description = soup.select('span.sc-5f699a2-0.kcphyk')\n",
    "print(description)"
   ]
  },
  {
   "cell_type": "code",
   "execution_count": 50,
   "id": "b4769aa6",
   "metadata": {},
   "outputs": [
    {
     "name": "stdout",
     "output_type": "stream",
     "text": [
      "John Lasseter\n"
     ]
    }
   ],
   "source": [
    "director = soup.select('a.ipc-metadata-list-item__list-content-item.ipc-metadata-list-item__list-content-item--link')\n",
    "print(director[0].getText())"
   ]
  },
  {
   "cell_type": "code",
   "execution_count": 57,
   "id": "1a3c53d7",
   "metadata": {},
   "outputs": [
    {
     "name": "stdout",
     "output_type": "stream",
     "text": [
      "<Response [200]>\n"
     ]
    }
   ],
   "source": [
    "res = requests.get('https://www.imdb.com/title/tt16419074/', headers=headers)\n",
    "print(res)"
   ]
  },
  {
   "cell_type": "code",
   "execution_count": 58,
   "id": "4c0b0d66",
   "metadata": {},
   "outputs": [],
   "source": [
    "soup = BeautifulSoup(res.text, 'html.parser')"
   ]
  },
  {
   "cell_type": "code",
   "execution_count": 60,
   "id": "adf0618d",
   "metadata": {},
   "outputs": [
    {
     "data": {
      "text/plain": [
       "'Follows the history of shoe salesman Sonny Vaccaro, and how he led Nike in its pursuit of the greatest athlete in the history of basketball, Michael Jordan.'"
      ]
     },
     "execution_count": 60,
     "metadata": {},
     "output_type": "execute_result"
    }
   ],
   "source": [
    "soup.find(\"span\", {\"data-testid\": \"plot-xs_to_m\"}).getText()"
   ]
  },
  {
   "cell_type": "code",
   "execution_count": 62,
   "id": "fd10feb2",
   "metadata": {},
   "outputs": [
    {
     "data": {
      "text/plain": [
       "'Director'"
      ]
     },
     "execution_count": 62,
     "metadata": {},
     "output_type": "execute_result"
    }
   ],
   "source": [
    "soup.find(\"span\", {\"aria-label\": \"See full cast and crew\"}).getText()"
   ]
  },
  {
   "cell_type": "code",
   "execution_count": 68,
   "id": "906360bd",
   "metadata": {
    "scrolled": false
   },
   "outputs": [],
   "source": [
    "metadata = soup.find_all(\"div\", {\"class\": \"ipc-metadata-list-item__content-container\"})"
   ]
  },
  {
   "cell_type": "code",
   "execution_count": 69,
   "id": "f6a208df",
   "metadata": {},
   "outputs": [
    {
     "data": {
      "text/plain": [
       "31"
      ]
     },
     "execution_count": 69,
     "metadata": {},
     "output_type": "execute_result"
    }
   ],
   "source": [
    "len(metadata)"
   ]
  },
  {
   "cell_type": "code",
   "execution_count": 71,
   "id": "b5dfae2f",
   "metadata": {},
   "outputs": [
    {
     "data": {
      "text/plain": [
       "'Ben Affleck'"
      ]
     },
     "execution_count": 71,
     "metadata": {},
     "output_type": "execute_result"
    }
   ],
   "source": [
    "metadata[0].getText()"
   ]
  },
  {
   "cell_type": "code",
   "execution_count": 72,
   "id": "f8045f20",
   "metadata": {},
   "outputs": [
    {
     "data": {
      "text/plain": [
       "'Matt DamonJason BatemanBen Affleck'"
      ]
     },
     "execution_count": 72,
     "metadata": {},
     "output_type": "execute_result"
    }
   ],
   "source": [
    "metadata[2].getText()"
   ]
  },
  {
   "cell_type": "code",
   "execution_count": 181,
   "id": "a1339670",
   "metadata": {},
   "outputs": [
    {
     "name": "stdout",
     "output_type": "stream",
     "text": [
      "<Response [200]>\n"
     ]
    }
   ],
   "source": [
    "res = requests.get('https://www.imdb.com/title/tt6968614/', headers=headers)\n",
    "print(res)"
   ]
  },
  {
   "cell_type": "code",
   "execution_count": 182,
   "id": "812409f6",
   "metadata": {},
   "outputs": [],
   "source": [
    "soup = BeautifulSoup(res.text, 'html.parser')"
   ]
  },
  {
   "cell_type": "code",
   "execution_count": 183,
   "id": "1648a5b1",
   "metadata": {},
   "outputs": [
    {
     "data": {
      "text/plain": [
       "'While fleeing from dangerous assailants, an assassin comes out of hiding to protect the daughter she had left earlier in life.'"
      ]
     },
     "execution_count": 183,
     "metadata": {},
     "output_type": "execute_result"
    }
   ],
   "source": [
    "soup.find(\"span\", {\"data-testid\": \"plot-xs_to_m\"}).getText()"
   ]
  },
  {
   "cell_type": "code",
   "execution_count": 187,
   "id": "b92b2751",
   "metadata": {},
   "outputs": [],
   "source": [
    "list = soup.find_all(\"li\", {\"data-testid\": \"title-pc-principal-credit\"})"
   ]
  },
  {
   "cell_type": "code",
   "execution_count": 188,
   "id": "ae6107f8",
   "metadata": {},
   "outputs": [
    {
     "data": {
      "text/plain": [
       "6"
      ]
     },
     "execution_count": 188,
     "metadata": {},
     "output_type": "execute_result"
    }
   ],
   "source": [
    "len(list)"
   ]
  },
  {
   "cell_type": "code",
   "execution_count": 190,
   "id": "700fcc39",
   "metadata": {},
   "outputs": [
    {
     "data": {
      "text/plain": [
       "'Director'"
      ]
     },
     "execution_count": 190,
     "metadata": {},
     "output_type": "execute_result"
    }
   ],
   "source": [
    "list[0].span.getText()"
   ]
  },
  {
   "cell_type": "code",
   "execution_count": 193,
   "id": "a9fef69e",
   "metadata": {},
   "outputs": [
    {
     "data": {
      "text/plain": [
       "'Niki Caro'"
      ]
     },
     "execution_count": 193,
     "metadata": {},
     "output_type": "execute_result"
    }
   ],
   "source": [
    "list[0].div.ul.getText()"
   ]
  },
  {
   "cell_type": "code",
   "execution_count": 76,
   "id": "e245d4c8",
   "metadata": {},
   "outputs": [],
   "source": [
    "metadata = soup.find_all(\"div\", {\"class\": \"ipc-metadata-list-item__content-container\"})\n"
   ]
  },
  {
   "cell_type": "code",
   "execution_count": 86,
   "id": "010b2c5c",
   "metadata": {},
   "outputs": [
    {
     "data": {
      "text/plain": [
       "[<div class=\"ipc-metadata-list-item__content-container\"><ul class=\"ipc-inline-list ipc-inline-list--show-dividers ipc-inline-list--inline ipc-metadata-list-item__list-content baseAlt\" role=\"presentation\"><li class=\"ipc-inline-list__item\" role=\"presentation\"><a aria-disabled=\"false\" class=\"ipc-metadata-list-item__list-content-item ipc-metadata-list-item__list-content-item--link\" href=\"/name/nm0138927/?ref_=tt_ov_dr\" role=\"button\" tabindex=\"0\">Niki Caro</a></li></ul></div>,\n",
       " <div class=\"ipc-metadata-list-item__content-container\"><ul class=\"ipc-inline-list ipc-inline-list--show-dividers ipc-inline-list--inline ipc-metadata-list-item__list-content baseAlt\" role=\"presentation\"><li class=\"ipc-inline-list__item\" role=\"presentation\"><a aria-disabled=\"false\" class=\"ipc-metadata-list-item__list-content-item ipc-metadata-list-item__list-content-item--link\" href=\"/name/nm3207866/?ref_=tt_ov_wr\" role=\"button\" tabindex=\"0\">Misha Green</a></li><li class=\"ipc-inline-list__item\" role=\"presentation\"><a aria-disabled=\"false\" class=\"ipc-metadata-list-item__list-content-item ipc-metadata-list-item__list-content-item--link\" href=\"/name/nm0075696/?ref_=tt_ov_wr\" role=\"button\" tabindex=\"0\">Andrea Berloff</a></li><li class=\"ipc-inline-list__item\" role=\"presentation\"><a aria-disabled=\"false\" class=\"ipc-metadata-list-item__list-content-item ipc-metadata-list-item__list-content-item--link\" href=\"/name/nm0185976/?ref_=tt_ov_wr\" role=\"button\" tabindex=\"0\">Peter Craig</a></li></ul></div>,\n",
       " <div class=\"ipc-metadata-list-item__content-container\"><ul class=\"ipc-inline-list ipc-inline-list--show-dividers ipc-inline-list--inline ipc-metadata-list-item__list-content baseAlt\" role=\"presentation\"><li class=\"ipc-inline-list__item\" role=\"presentation\"><a aria-disabled=\"false\" class=\"ipc-metadata-list-item__list-content-item ipc-metadata-list-item__list-content-item--link\" href=\"/name/nm0000182/?ref_=tt_ov_st\" role=\"button\" tabindex=\"0\">Jennifer Lopez</a></li><li class=\"ipc-inline-list__item\" role=\"presentation\"><a aria-disabled=\"false\" class=\"ipc-metadata-list-item__list-content-item ipc-metadata-list-item__list-content-item--link\" href=\"/name/nm5515054/?ref_=tt_ov_st\" role=\"button\" tabindex=\"0\">Lucy Paez</a></li><li class=\"ipc-inline-list__item\" role=\"presentation\"><a aria-disabled=\"false\" class=\"ipc-metadata-list-item__list-content-item ipc-metadata-list-item__list-content-item--link\" href=\"/name/nm1165044/?ref_=tt_ov_st\" role=\"button\" tabindex=\"0\">Omari Hardwick</a></li></ul></div>,\n",
       " <div class=\"ipc-metadata-list-item__content-container\"><script>if(typeof uet === 'function'){ uet('bb', 'StaticFeature_ProUpsellLink', {wb: 1}); }</script><a class=\"sc-2662c89-0 gYVhmf pro-upsell pro-upsell--dark celwidget\" data-testid=\"title-hero-proupsell\" href=\"https://pro.imdb.com/title/tt6968614/?rf=cons_tt_atf&amp;ref_=cons_tt_atf\" id=\"ProUpsellLink\" rel=\"noopener nofollow\" target=\"_blank\"><svg class=\"ipc-logo pro-upsell__logo\" height=\"14.538461538461538\" version=\"1.1\" viewbox=\"0 0 52 14\" width=\"54\" xmlns=\"http://www.w3.org/2000/svg\"><g fill=\"currentColor\"><rect height=\"12.34\" width=\"3.21\" x=\"0\" y=\"1\"></rect><path d=\"M10,1 L9.3,6.76 L8.84,3.63 C8.7,2.62 8.58,1.75 8.45,1 L4.3,1 L4.3,13.34 L7.11,13.34 L7.11,5.19 L8.3,13.34 L10.3,13.34 L11.42,5 L11.42,13.33 L14.22,13.33 L14.22,1 L10,1 Z\"></path><path d=\"M19.24,3.22 C19.3711159,3.29185219 19.4602235,3.42180078 19.48,3.57 C19.5340993,3.92393477 19.554191,4.28223587 19.54,4.64 L19.54,9.42 C19.578852,9.92887392 19.5246327,10.4405682 19.38,10.93 C19.27,11.12 18.99,11.21 18.53,11.21 L18.53,3.11 C18.7718735,3.09406934 19.0142863,3.13162626 19.24,3.22 Z M19.24,13.34 C19.8163127,13.3574057 20.3928505,13.3138302 20.96,13.21 C21.3245396,13.1481159 21.6680909,12.9969533 21.96,12.77 C22.2288287,12.5438006 22.4209712,12.2398661 22.51,11.9 C22.643288,11.1679419 22.6969338,10.4236056 22.67,9.68 L22.67,5.34 C22.6662002,4.55669241 22.6060449,3.77467335 22.49,3 C22.43037,2.59841431 22.260779,2.22116094 22,1.91 C21.6636187,1.56093667 21.2326608,1.317654 20.76,1.21 C19.7709421,1.02848785 18.7647002,0.958050915 17.76,1 L15.32,1 L15.32,13.34 L19.24,13.34 Z\"></path><path d=\"M27.86,10.34 C27.8769902,10.7218086 27.8501483,11.1043064 27.78,11.48 C27.72,11.63 27.46,11.71 27.26,11.71 C27.0954951,11.7299271 26.9386363,11.6349863 26.88,11.48 C26.7930212,11.1542289 26.7592527,10.8165437 26.78,10.48 L26.78,7.18 C26.7626076,6.84408875 26.7929089,6.50740774 26.87,6.18 C26.9317534,6.03447231 27.0833938,5.94840616 27.24,5.97 C27.43,5.97 27.7,6.05 27.76,6.21 C27.8468064,6.53580251 27.8805721,6.87345964 27.86,7.21 L27.86,10.34 Z M23.7,1 L23.7,13.34 L26.58,13.34 L26.78,12.55 C27.0112432,12.8467609 27.3048209,13.0891332 27.64,13.26 C28.0022345,13.4198442 28.394069,13.5016184 28.79,13.5 C29.2588971,13.515288 29.7196211,13.3746089 30.1,13.1 C30.4399329,12.8800058 30.6913549,12.5471372 30.81,12.16 C30.9423503,11.6167622 31.0061799,11.0590937 31,10.5 L31,7 C31.0087531,6.51279482 30.9920637,6.02546488 30.95,5.54 C30.904474,5.28996521 30.801805,5.05382649 30.65,4.85 C30.4742549,4.59691259 30.2270668,4.40194735 29.94,4.29 C29.5869438,4.15031408 29.2096076,4.08232558 28.83,4.09 C28.4361722,4.08961884 28.0458787,4.16428368 27.68,4.31 C27.3513666,4.46911893 27.0587137,4.693713 26.82,4.97 L26.82,1 L23.7,1 Z\"></path></g><g fill=\"#33C5F3\"><path d=\"M32.13,1 L35.32,1 C35.9925574,0.978531332 36.6650118,1.04577677 37.32,1.2 C37.717112,1.29759578 38.0801182,1.50157071 38.37,1.79 C38.6060895,2.05302496 38.7682605,2.37391646 38.84,2.72 C38.935586,3.27463823 38.9757837,3.8374068 38.96,4.4 L38.96,5.46 C38.9916226,6.03689533 38.9100917,6.61440551 38.72,7.16 C38.5402933,7.53432344 38.2260614,7.82713037 37.84,7.98 C37.3049997,8.18709035 36.7332458,8.28238268 36.16,8.26 L35.31,8.26 L35.31,13.16 L32.13,13.16 L32.13,1 Z M35.29,3.08 L35.29,6.18 L35.53,6.18 C35.7515781,6.20532753 35.9725786,6.12797738 36.13,5.97 C36.2717869,5.69610033 36.3308522,5.38687568 36.3,5.08 L36.3,4.08 C36.3390022,3.79579475 36.2713114,3.5072181 36.11,3.27 C35.8671804,3.11299554 35.5771259,3.04578777 35.29,3.08 Z\"></path><path d=\"M42,4.36 L41.89,5.52 C42.28,4.69 43.67,4.42 44.41,4.37 L43.6,7.3 C43.2290559,7.27725357 42.8582004,7.34593052 42.52,7.5 C42.3057075,7.61238438 42.1519927,7.81367763 42.1,8.05 C42.0178205,8.59259006 41.9843538,9.14144496 42,9.69 L42,13.16 L39.34,13.16 L39.34,4.36 L42,4.36 Z\"></path><path d=\"M51.63,9.71 C51.6472876,10.3265292 51.6003682,10.9431837 51.49,11.55 C51.376862,11.9620426 51.1639158,12.3398504 50.87,12.65 C50.5352227,13.001529 50.1148049,13.2599826 49.65,13.4 C49.0994264,13.5686585 48.5257464,13.6496486 47.95,13.64 C47.3333389,13.6524659 46.7178074,13.5818311 46.12,13.43 C45.6996896,13.322764 45.3140099,13.1092627 45,12.81 C44.7275808,12.5275876 44.5254637,12.1850161 44.41,11.81 C44.2627681,11.2181509 44.1921903,10.6098373 44.2,10 L44.2,7.64 C44.1691064,6.9584837 44.2780071,6.27785447 44.52,5.64 C44.7547114,5.12751365 45.1616363,4.71351186 45.67,4.47 C46.3337168,4.13941646 47.0688388,3.97796445 47.81,4 C48.4454888,3.98667568 49.0783958,4.08482705 49.68,4.29 C50.1352004,4.42444561 50.5506052,4.66819552 50.89,5 C51.1535526,5.26601188 51.3550281,5.58700663 51.48,5.94 C51.6001358,6.42708696 51.6506379,6.92874119 51.63,7.43 L51.63,9.71 Z M48.39,6.73 C48.412199,6.42705368 48.3817488,6.12255154 48.3,5.83 C48.2091142,5.71223121 48.0687606,5.64325757 47.92,5.64325757 C47.7712394,5.64325757 47.6308858,5.71223121 47.54,5.83 C47.447616,6.12046452 47.4136298,6.42634058 47.44,6.73 L47.44,10.93 C47.4168299,11.2204468 47.4508034,11.5126191 47.54,11.79 C47.609766,11.9270995 47.7570827,12.0067302 47.91,11.99 C48.0639216,12.0108082 48.2159732,11.9406305 48.3,11.81 C48.3790864,11.5546009 48.4096133,11.2866434 48.39,11.02 L48.39,6.73 Z\"></path></g></svg><span class=\"pro-upsell__label\">See production, box office &amp; company info<svg class=\"ipc-icon ipc-icon--launch-inline ipc-icon--inline pro-upsell__icon\" fill=\"currentColor\" height=\"24\" id=\"iconContext-launch-inline\" role=\"presentation\" viewbox=\"0 0 24 24\" width=\"24\" xmlns=\"http://www.w3.org/2000/svg\"><path d=\"M21.6 21.6H2.4V2.4h7.2V0H0v24h24v-9.6h-2.4v7.2zM14.4 0v2.4h4.8L7.195 14.49l2.4 2.4L21.6 4.8v4.8H24V0h-9.6z\"></path></svg></span></a><script>if(typeof uet === 'function'){ uet('be', 'StaticFeature_ProUpsellLink', {wb: 1}); }</script><script>if(typeof uex === 'function'){ uex('ld', 'StaticFeature_ProUpsellLink', {wb: 1}); }</script></div>,\n",
       " <div class=\"ipc-metadata-list-item__content-container\"><ul class=\"ipc-inline-list ipc-inline-list--show-dividers ipc-inline-list--inline ipc-metadata-list-item__list-content baseAlt\" role=\"presentation\"><li class=\"ipc-inline-list__item\" role=\"presentation\"><a aria-disabled=\"false\" class=\"ipc-metadata-list-item__list-content-item ipc-metadata-list-item__list-content-item--link\" href=\"/name/nm0138927/?ref_=tt_ov_dr\" role=\"button\" tabindex=\"0\">Niki Caro</a></li></ul></div>,\n",
       " <div class=\"ipc-metadata-list-item__content-container\"><ul class=\"ipc-inline-list ipc-inline-list--show-dividers ipc-inline-list--inline ipc-metadata-list-item__list-content baseAlt\" role=\"presentation\"><li class=\"ipc-inline-list__item\" role=\"presentation\"><a aria-disabled=\"false\" class=\"ipc-metadata-list-item__list-content-item ipc-metadata-list-item__list-content-item--link\" href=\"/name/nm3207866/?ref_=tt_ov_wr\" role=\"button\" tabindex=\"0\">Misha Green</a></li><li class=\"ipc-inline-list__item\" role=\"presentation\"><a aria-disabled=\"false\" class=\"ipc-metadata-list-item__list-content-item ipc-metadata-list-item__list-content-item--link\" href=\"/name/nm0075696/?ref_=tt_ov_wr\" role=\"button\" tabindex=\"0\">Andrea Berloff</a></li><li class=\"ipc-inline-list__item\" role=\"presentation\"><a aria-disabled=\"false\" class=\"ipc-metadata-list-item__list-content-item ipc-metadata-list-item__list-content-item--link\" href=\"/name/nm0185976/?ref_=tt_ov_wr\" role=\"button\" tabindex=\"0\">Peter Craig</a></li></ul></div>,\n",
       " <div class=\"ipc-metadata-list-item__content-container\"><ul class=\"ipc-inline-list ipc-inline-list--show-dividers ipc-inline-list--inline ipc-metadata-list-item__list-content baseAlt\" role=\"presentation\"><li class=\"ipc-inline-list__item\" role=\"presentation\"><a aria-disabled=\"false\" class=\"ipc-metadata-list-item__list-content-item ipc-metadata-list-item__list-content-item--link\" href=\"/name/nm0000182/?ref_=tt_ov_st\" role=\"button\" tabindex=\"0\">Jennifer Lopez</a></li><li class=\"ipc-inline-list__item\" role=\"presentation\"><a aria-disabled=\"false\" class=\"ipc-metadata-list-item__list-content-item ipc-metadata-list-item__list-content-item--link\" href=\"/name/nm5515054/?ref_=tt_ov_st\" role=\"button\" tabindex=\"0\">Lucy Paez</a></li><li class=\"ipc-inline-list__item\" role=\"presentation\"><a aria-disabled=\"false\" class=\"ipc-metadata-list-item__list-content-item ipc-metadata-list-item__list-content-item--link\" href=\"/name/nm1165044/?ref_=tt_ov_st\" role=\"button\" tabindex=\"0\">Omari Hardwick</a></li></ul></div>,\n",
       " <div class=\"ipc-metadata-list-item__content-container\"><a aria-disabled=\"false\" class=\"ipc-link ipc-link--baseAlt sc-2ac7f049-1 gnJkMW\" data-testid=\"title-hero-proupsell\" href=\"https://pro.imdb.com/title/tt6968614/?rf=cons_tt_atf&amp;ref_=cons_tt_atf\" rel=\"nofollow noopener\" role=\"button\" tabindex=\"0\" target=\"_blank\">See more at IMDbPro<svg class=\"ipc-icon ipc-icon--launch-inline ipc-icon--inline ipc-link__launch-icon\" fill=\"currentColor\" height=\"24\" id=\"iconContext-launch-inline\" role=\"presentation\" viewbox=\"0 0 24 24\" width=\"24\" xmlns=\"http://www.w3.org/2000/svg\"><path d=\"M21.6 21.6H2.4V2.4h7.2V0H0v24h24v-9.6h-2.4v7.2zM14.4 0v2.4h4.8L7.195 14.49l2.4 2.4L21.6 4.8v4.8H24V0h-9.6z\"></path></svg></a></div>,\n",
       " <div class=\"ipc-metadata-list-item__content-container\"><ul class=\"ipc-inline-list ipc-inline-list--show-dividers ipc-inline-list--inline ipc-metadata-list-item__list-content base\" role=\"presentation\"><li class=\"ipc-inline-list__item\" role=\"presentation\"><a aria-disabled=\"false\" class=\"ipc-metadata-list-item__list-content-item ipc-metadata-list-item__list-content-item--link\" href=\"/name/nm0138927/?ref_=tt_cl_dr_1\" role=\"button\" tabindex=\"0\">Niki Caro</a></li></ul></div>,\n",
       " <div class=\"ipc-metadata-list-item__content-container\"><ul class=\"ipc-inline-list ipc-inline-list--show-dividers ipc-inline-list--inline ipc-metadata-list-item__list-content base\" role=\"presentation\"><li class=\"ipc-inline-list__item\" role=\"presentation\"><a aria-disabled=\"false\" class=\"ipc-metadata-list-item__list-content-item ipc-metadata-list-item__list-content-item--link\" href=\"/name/nm3207866/?ref_=tt_cl_wr_1\" role=\"button\" tabindex=\"0\">Misha Green</a><span class=\"ipc-metadata-list-item__list-content-item--subText\">(screenplay by) (story by)</span></li><li class=\"ipc-inline-list__item\" role=\"presentation\"><a aria-disabled=\"false\" class=\"ipc-metadata-list-item__list-content-item ipc-metadata-list-item__list-content-item--link\" href=\"/name/nm0075696/?ref_=tt_cl_wr_2\" role=\"button\" tabindex=\"0\">Andrea Berloff</a><span class=\"ipc-metadata-list-item__list-content-item--subText\">(screenplay by)</span></li><li class=\"ipc-inline-list__item\" role=\"presentation\"><a aria-disabled=\"false\" class=\"ipc-metadata-list-item__list-content-item ipc-metadata-list-item__list-content-item--link\" href=\"/name/nm0185976/?ref_=tt_cl_wr_3\" role=\"button\" tabindex=\"0\">Peter Craig</a><span class=\"ipc-metadata-list-item__list-content-item--subText\">(screenplay by)</span></li></ul></div>,\n",
       " <div class=\"ipc-metadata-list-item__content-container\"><div class=\"ipc-overflowText ipc-overflowText--listCard ipc-overflowText--height-short ipc-overflowText--short ipc-overflowText--click ipc-overflowText--base\" role=\"button\"><button aria-disabled=\"false\" aria-label=\"See more\" class=\"ipc-overflowText-overlay\" role=\"button\" tabindex=\"0\"><svg class=\"ipc-icon ipc-icon--more-horiz ipc-overflowText-overlay__affordance\" fill=\"currentColor\" height=\"24\" id=\"iconContext-more-horiz\" role=\"presentation\" viewbox=\"0 0 24 24\" width=\"24\" xmlns=\"http://www.w3.org/2000/svg\"><path d=\"M0 0h24v24H0V0z\" fill=\"none\"></path><path d=\"M6 10c-1.1 0-2 .9-2 2s.9 2 2 2 2-.9 2-2-.9-2-2-2zm12 0c-1.1 0-2 .9-2 2s.9 2 2 2 2-.9 2-2-.9-2-2-2zm-6 0c-1.1 0-2 .9-2 2s.9 2 2 2 2-.9 2-2-.9-2-2-2z\"></path></svg></button><div class=\"ipc-html-content ipc-html-content--base sc-74d1a1fd-0 gvGiJ\" role=\"presentation\"><div class=\"ipc-html-content-inner-div\">The pull up scene and the scene where Jennifer Lopez is walking at the stairs in orange backless dress (as shown in the trailer) was excluded on the final cut of the movie.</div></div></div></div>,\n",
       " <div class=\"ipc-metadata-list-item__content-container\"><div class=\"ipc-overflowText ipc-overflowText--listCard ipc-overflowText--height-short ipc-overflowText--short ipc-overflowText--click ipc-overflowText--base\" role=\"button\"><button aria-disabled=\"false\" aria-label=\"See more\" class=\"ipc-overflowText-overlay\" role=\"button\" tabindex=\"0\"><svg class=\"ipc-icon ipc-icon--more-horiz ipc-overflowText-overlay__affordance\" fill=\"currentColor\" height=\"24\" id=\"iconContext-more-horiz\" role=\"presentation\" viewbox=\"0 0 24 24\" width=\"24\" xmlns=\"http://www.w3.org/2000/svg\"><path d=\"M0 0h24v24H0V0z\" fill=\"none\"></path><path d=\"M6 10c-1.1 0-2 .9-2 2s.9 2 2 2 2-.9 2-2-.9-2-2-2zm12 0c-1.1 0-2 .9-2 2s.9 2 2 2 2-.9 2-2-.9-2-2-2zm-6 0c-1.1 0-2 .9-2 2s.9 2 2 2 2-.9 2-2-.9-2-2-2z\"></path></svg></button><div class=\"ipc-html-content ipc-html-content--base sc-74d1a1fd-0 gvGiJ\" role=\"presentation\"><div class=\"ipc-html-content-inner-div\">J Lo said Joseph Fiennes' character, \"Lovell\" , was S.A.S training the unit she was serving with. If that was true, why was he wearing a Parachute Regiment beret? Did they not have a military advisor on set either? I'm ex UK military and that is NOT how you wear a beret! He looked more like Frank Spencer.</div></div></div></div>,\n",
       " <div class=\"ipc-metadata-list-item__content-container\"><div class=\"ipc-overflowText ipc-overflowText--listCard ipc-overflowText--height-short ipc-overflowText--short ipc-overflowText--click ipc-overflowText--base\" role=\"button\"><button aria-disabled=\"false\" aria-label=\"See more\" class=\"ipc-overflowText-overlay\" role=\"button\" tabindex=\"0\"><svg class=\"ipc-icon ipc-icon--more-horiz ipc-overflowText-overlay__affordance\" fill=\"currentColor\" height=\"24\" id=\"iconContext-more-horiz\" role=\"presentation\" viewbox=\"0 0 24 24\" width=\"24\" xmlns=\"http://www.w3.org/2000/svg\"><path d=\"M0 0h24v24H0V0z\" fill=\"none\"></path><path d=\"M6 10c-1.1 0-2 .9-2 2s.9 2 2 2 2-.9 2-2-.9-2-2-2zm12 0c-1.1 0-2 .9-2 2s.9 2 2 2 2-.9 2-2-.9-2-2-2zm-6 0c-1.1 0-2 .9-2 2s.9 2 2 2 2-.9 2-2-.9-2-2-2z\"></path></svg></button><div class=\"ipc-html-content ipc-html-content--base sc-9cfefc48-1 oslxs\" role=\"presentation\"><div class=\"ipc-html-content-inner-div\"><p><a aria-disabled=\"false\" class=\"ipc-link ipc-link--base\" data-reactroot=\"\" href=\"/name/nm0305558/?ref_=tt_trv_qu\" role=\"button\" tabindex=\"0\">Hector</a>: You sold your soul to the devil. How come you still look so good?</p></div></div></div></div>,\n",
       " <div class=\"ipc-metadata-list-item__content-container\"><div class=\"ipc-overflowText ipc-overflowText--listCard ipc-overflowText--height-short ipc-overflowText--short ipc-overflowText--click ipc-overflowText--base\" role=\"button\"><button aria-disabled=\"false\" aria-label=\"See more\" class=\"ipc-overflowText-overlay\" role=\"button\" tabindex=\"0\"><svg class=\"ipc-icon ipc-icon--more-horiz ipc-overflowText-overlay__affordance\" fill=\"currentColor\" height=\"24\" id=\"iconContext-more-horiz\" role=\"presentation\" viewbox=\"0 0 24 24\" width=\"24\" xmlns=\"http://www.w3.org/2000/svg\"><path d=\"M0 0h24v24H0V0z\" fill=\"none\"></path><path d=\"M6 10c-1.1 0-2 .9-2 2s.9 2 2 2 2-.9 2-2-.9-2-2-2zm12 0c-1.1 0-2 .9-2 2s.9 2 2 2 2-.9 2-2-.9-2-2-2zm-6 0c-1.1 0-2 .9-2 2s.9 2 2 2 2-.9 2-2-.9-2-2-2z\"></path></svg></button><div class=\"ipc-html-content ipc-html-content--base sc-74d1a1fd-0 gvGiJ\" role=\"presentation\"><div class=\"ipc-html-content-inner-div\">Referenced in <a aria-disabled=\"false\" class=\"ipc-link ipc-link--base\" data-reactroot=\"\" href=\"/title/tt27763550/?ref_=tt_trv_cnn\" role=\"button\" tabindex=\"0\">Toxic Femininity: Netflix' Cleopatra worst ever on Rotten Tomatoes, \"Hold my beer\" says Miller</a> (2023)</div></div></div></div>,\n",
       " <div class=\"ipc-metadata-list-item__content-container\"><div class=\"ipc-overflowText ipc-overflowText--listCard ipc-overflowText--height-short ipc-overflowText--short ipc-overflowText--click ipc-overflowText--base\" role=\"button\"><button aria-disabled=\"false\" aria-label=\"See more\" class=\"ipc-overflowText-overlay\" role=\"button\" tabindex=\"0\"><svg class=\"ipc-icon ipc-icon--more-horiz ipc-overflowText-overlay__affordance\" fill=\"currentColor\" height=\"24\" id=\"iconContext-more-horiz\" role=\"presentation\" viewbox=\"0 0 24 24\" width=\"24\" xmlns=\"http://www.w3.org/2000/svg\"><path d=\"M0 0h24v24H0V0z\" fill=\"none\"></path><path d=\"M6 10c-1.1 0-2 .9-2 2s.9 2 2 2 2-.9 2-2-.9-2-2-2zm12 0c-1.1 0-2 .9-2 2s.9 2 2 2 2-.9 2-2-.9-2-2-2zm-6 0c-1.1 0-2 .9-2 2s.9 2 2 2 2-.9 2-2-.9-2-2-2z\"></path></svg></button><div class=\"ipc-html-content ipc-html-content--base sc-74d1a1fd-0 gvGiJ\" role=\"presentation\"><div class=\"ipc-html-content-inner-div\"><span class=\"soundtrack-trackname\">Mala Mia</span><span class=\"soundtrack-comment-1\"><br/>Written by <a class=\"ipc-md-link ipc-md-link--entity\" href=\"/name/nm9778210/?ref_=tt_trv_snd\">Miky La Sensa</a> (as Stiven Rojas Escobar), <a class=\"ipc-md-link ipc-md-link--entity\" href=\"/name/nm8957807/?ref_=tt_trv_snd\">Chan El Genio</a> (as Bryan Chaverra), <a class=\"ipc-md-link ipc-md-link--entity\" href=\"/name/nm8636567/?ref_=tt_trv_snd\">Edgar Barrera</a>, <a class=\"ipc-md-link ipc-md-link--entity\" href=\"/name/nm10378553/?ref_=tt_trv_snd\">Nyal Beats</a> (as Johany Alejandro Correa Moreno), <a class=\"ipc-md-link ipc-md-link--entity\" href=\"/name/nm8349062/?ref_=tt_trv_snd\">Maluma</a> (as Juan Luis Londono Arias), <a class=\"ipc-md-link ipc-md-link--entity\" href=\"/name/nm8957805/?ref_=tt_trv_snd\">Kevin Adg</a> (as Kevin Mauricio Jimenez Londono)</span><span class=\"soundtrack-comment-2\"><br/>Performed by <a class=\"ipc-md-link ipc-md-link--entity\" href=\"/name/nm8349062/?ref_=tt_trv_snd\">Maluma</a></span><span class=\"soundtrack-comment-3\"><br/>Courtesy of Sony Music Entertainment US Latin, LLC</span></div></div></div></div>,\n",
       " <div class=\"ipc-metadata-list-item__content-container\"><ul class=\"ipc-inline-list ipc-inline-list--show-dividers ipc-inline-list--inline ipc-metadata-list-item__list-content base\" role=\"presentation\"><li class=\"ipc-inline-list__item\" role=\"presentation\"><a aria-disabled=\"false\" class=\"ipc-metadata-list-item__list-content-item ipc-metadata-list-item__list-content-item--link\" href=\"/title/tt6968614/releaseinfo?ref_=tt_dt_rdat\" role=\"button\" tabindex=\"0\">May 12, 2023 (United States)</a></li></ul></div>,\n",
       " <div class=\"ipc-metadata-list-item__content-container\"><ul class=\"ipc-inline-list ipc-inline-list--show-dividers ipc-inline-list--inline ipc-metadata-list-item__list-content base\" role=\"presentation\"><li class=\"ipc-inline-list__item\" role=\"presentation\"><a aria-disabled=\"false\" class=\"ipc-metadata-list-item__list-content-item ipc-metadata-list-item__list-content-item--link\" href=\"/search/title/?country_of_origin=US&amp;ref_=tt_dt_cn\" role=\"button\" tabindex=\"0\">United States</a></li></ul></div>,\n",
       " <div class=\"ipc-metadata-list-item__content-container\"><ul class=\"ipc-inline-list ipc-inline-list--show-dividers ipc-inline-list--inline ipc-metadata-list-item__list-content base\" role=\"presentation\"><li class=\"ipc-inline-list__item\" role=\"presentation\"><a aria-disabled=\"false\" class=\"ipc-metadata-list-item__list-content-item ipc-metadata-list-item__list-content-item--link\" href=\"https://www.netflix.com/title/80210920/\" rel=\"nofollow noopener\" role=\"button\" tabindex=\"0\" target=\"_blank\">Official Netflix<svg class=\"ipc-icon ipc-icon--launch-inline ipc-icon--inline ipc-link__launch-icon\" fill=\"currentColor\" height=\"24\" id=\"iconContext-launch-inline\" role=\"presentation\" viewbox=\"0 0 24 24\" width=\"24\" xmlns=\"http://www.w3.org/2000/svg\"><path d=\"M21.6 21.6H2.4V2.4h7.2V0H0v24h24v-9.6h-2.4v7.2zM14.4 0v2.4h4.8L7.195 14.49l2.4 2.4L21.6 4.8v4.8H24V0h-9.6z\"></path></svg></a></li></ul></div>,\n",
       " <div class=\"ipc-metadata-list-item__content-container\"><ul class=\"ipc-inline-list ipc-inline-list--show-dividers ipc-inline-list--inline ipc-metadata-list-item__list-content base\" role=\"presentation\"><li class=\"ipc-inline-list__item\" role=\"presentation\"><a aria-disabled=\"false\" class=\"ipc-metadata-list-item__list-content-item ipc-metadata-list-item__list-content-item--link\" href=\"/search/title?title_type=feature&amp;primary_language=en&amp;sort=moviemeter,asc&amp;ref_=tt_dt_ln\" role=\"button\" tabindex=\"0\">English</a></li></ul></div>,\n",
       " <div class=\"ipc-metadata-list-item__content-container\"><ul class=\"ipc-inline-list ipc-inline-list--show-dividers ipc-inline-list--inline ipc-metadata-list-item__list-content base\" role=\"presentation\"><li class=\"ipc-inline-list__item\" role=\"presentation\"><span aria-disabled=\"false\" class=\"ipc-metadata-list-item__list-content-item\">Мати</span></li></ul></div>,\n",
       " <div class=\"ipc-metadata-list-item__content-container\"><ul class=\"ipc-inline-list ipc-inline-list--show-dividers ipc-inline-list--inline ipc-metadata-list-item__list-content base\" role=\"presentation\"><li class=\"ipc-inline-list__item\" role=\"presentation\"><a aria-disabled=\"false\" class=\"ipc-metadata-list-item__list-content-item ipc-metadata-list-item__list-content-item--link\" href=\"/search/title?locations=Vancouver%2C%20British%20Columbia%2C%20Canada&amp;ref_=tt_dt_loc\" role=\"button\" tabindex=\"0\">Vancouver, British Columbia, Canada</a></li></ul></div>,\n",
       " <div class=\"ipc-metadata-list-item__content-container\"><ul class=\"ipc-inline-list ipc-inline-list--show-dividers ipc-inline-list--inline ipc-metadata-list-item__list-content base\" role=\"presentation\"><li class=\"ipc-inline-list__item\" role=\"presentation\"><a aria-disabled=\"false\" class=\"ipc-metadata-list-item__list-content-item ipc-metadata-list-item__list-content-item--link\" href=\"/company/co0021149?ref_=tt_dt_co_1\" role=\"button\" tabindex=\"0\">Nuyorican Productions</a></li><li class=\"ipc-inline-list__item\" role=\"presentation\"><a aria-disabled=\"false\" class=\"ipc-metadata-list-item__list-content-item ipc-metadata-list-item__list-content-item--link\" href=\"/company/co0084207?ref_=tt_dt_co_2\" role=\"button\" tabindex=\"0\">Vertigo Entertainment</a></li></ul></div>,\n",
       " <div class=\"ipc-metadata-list-item__content-container\">1<!-- --> <!-- -->hour<!-- --> <!-- -->55<!-- --> <!-- -->minutes</div>,\n",
       " <div class=\"ipc-metadata-list-item__content-container\"><ul class=\"ipc-inline-list ipc-inline-list--show-dividers ipc-inline-list--inline ipc-metadata-list-item__list-content base\" role=\"presentation\"><li class=\"ipc-inline-list__item\" role=\"presentation\"><a aria-disabled=\"false\" class=\"ipc-metadata-list-item__list-content-item ipc-metadata-list-item__list-content-item--link\" href=\"/search/title/?colors=color&amp;ref_=tt_spec_att\" role=\"button\" tabindex=\"0\">Color</a></li></ul></div>,\n",
       " <div class=\"ipc-metadata-list-item__content-container\"><ul class=\"ipc-inline-list ipc-inline-list--show-dividers ipc-inline-list--inline ipc-metadata-list-item__list-content base\" role=\"presentation\"><li class=\"ipc-inline-list__item\" role=\"presentation\"><a aria-disabled=\"false\" class=\"ipc-metadata-list-item__list-content-item ipc-metadata-list-item__list-content-item--link\" href=\"/search/title/?sound_mixes=dolby_atmos&amp;ref_=tt_spec_att\" role=\"button\" tabindex=\"0\">Dolby Atmos</a></li></ul></div>,\n",
       " <div class=\"ipc-metadata-list-item__content-container\"><ul class=\"ipc-inline-list ipc-inline-list--show-dividers ipc-inline-list--inline ipc-metadata-list-item__list-content base\" role=\"presentation\"><li class=\"ipc-inline-list__item\" role=\"presentation\"><span aria-disabled=\"false\" class=\"ipc-metadata-list-item__list-content-item\">2.39 : 1</span></li></ul></div>]"
      ]
     },
     "execution_count": 86,
     "metadata": {},
     "output_type": "execute_result"
    }
   ],
   "source": [
    "metadata"
   ]
  },
  {
   "cell_type": "code",
   "execution_count": 77,
   "id": "9171139d",
   "metadata": {},
   "outputs": [
    {
     "data": {
      "text/plain": [
       "'Niki Caro'"
      ]
     },
     "execution_count": 77,
     "metadata": {},
     "output_type": "execute_result"
    }
   ],
   "source": [
    "metadata[0].getText()"
   ]
  },
  {
   "cell_type": "code",
   "execution_count": 78,
   "id": "e6de2cfa",
   "metadata": {},
   "outputs": [
    {
     "data": {
      "text/plain": [
       "'Jennifer LopezLucy PaezOmari Hardwick'"
      ]
     },
     "execution_count": 78,
     "metadata": {},
     "output_type": "execute_result"
    }
   ],
   "source": [
    "metadata[2].getText()"
   ]
  },
  {
   "cell_type": "code",
   "execution_count": 79,
   "id": "eae0db6e",
   "metadata": {},
   "outputs": [
    {
     "data": {
      "text/plain": [
       "'5'"
      ]
     },
     "execution_count": 79,
     "metadata": {},
     "output_type": "execute_result"
    }
   ],
   "source": [
    "str(5)"
   ]
  },
  {
   "cell_type": "code",
   "execution_count": 81,
   "id": "49f548e0",
   "metadata": {},
   "outputs": [
    {
     "data": {
      "text/plain": [
       "'https://www.imdb.com/title/tt5/'"
      ]
     },
     "execution_count": 81,
     "metadata": {},
     "output_type": "execute_result"
    }
   ],
   "source": [
    "'https://www.imdb.com/title/tt{0}/'.format(5)"
   ]
  },
  {
   "cell_type": "code",
   "execution_count": 152,
   "id": "162553e3",
   "metadata": {},
   "outputs": [],
   "source": [
    "def get_imdb_data(imdb_id):\n",
    "    web_address = 'https://www.imdb.com/title/tt{0:07d}/'.format(imdb_id)\n",
    "    try:\n",
    "    res = requests.get(web_address, \n",
    "                       headers={'User-Agent': 'Mozilla/5.0'})\n",
    "    except requests.exceptions.RequestException as err:\n",
    "        print(f'request exception found {imdb_id}')\n",
    "    soup = BeautifulSoup(res.text, 'html.parser')\n",
    "    description = soup.find(\"span\", {\"data-testid\": \"plot-xs_to_m\"}).getText()\n",
    "    metadata = soup.find_all(\"div\", {\"class\": \"ipc-metadata-list-item__content-container\"})\n",
    "    director = metadata[0].getText()\n",
    "    lead_cast = []\n",
    "    for item in metadata[2].ul.contents:\n",
    "        lead_cast.append(item.getText())\n",
    "    \n",
    "    \n",
    "    return description, director, lead_cast"
   ]
  },
  {
   "cell_type": "code",
   "execution_count": 155,
   "id": "c79b7b64",
   "metadata": {},
   "outputs": [
    {
     "data": {
      "text/plain": [
       "('After a ten year absence, \"El Chato\" returns to San Ignacio, his hometown, in order to retrieve a shipment of cocaine that was dropped there by a cartel pilot.',\n",
       " 'José María Yazpik',\n",
       " ['José María Yazpik', 'Mariana Treviño', 'Adrian Vazquez'])"
      ]
     },
     "execution_count": 155,
     "metadata": {},
     "output_type": "execute_result"
    }
   ],
   "source": [
    "get_imdb_data(11170942)"
   ]
  },
  {
   "cell_type": "code",
   "execution_count": 88,
   "id": "6d4dab6e",
   "metadata": {},
   "outputs": [
    {
     "data": {
      "text/plain": [
       "[<ul class=\"ipc-inline-list ipc-inline-list--show-dividers ipc-inline-list--inline ipc-metadata-list-item__list-content baseAlt\" role=\"presentation\"><li class=\"ipc-inline-list__item\" role=\"presentation\"><a aria-disabled=\"false\" class=\"ipc-metadata-list-item__list-content-item ipc-metadata-list-item__list-content-item--link\" href=\"/name/nm0000182/?ref_=tt_ov_st\" role=\"button\" tabindex=\"0\">Jennifer Lopez</a></li><li class=\"ipc-inline-list__item\" role=\"presentation\"><a aria-disabled=\"false\" class=\"ipc-metadata-list-item__list-content-item ipc-metadata-list-item__list-content-item--link\" href=\"/name/nm5515054/?ref_=tt_ov_st\" role=\"button\" tabindex=\"0\">Lucy Paez</a></li><li class=\"ipc-inline-list__item\" role=\"presentation\"><a aria-disabled=\"false\" class=\"ipc-metadata-list-item__list-content-item ipc-metadata-list-item__list-content-item--link\" href=\"/name/nm1165044/?ref_=tt_ov_st\" role=\"button\" tabindex=\"0\">Omari Hardwick</a></li></ul>]"
      ]
     },
     "execution_count": 88,
     "metadata": {},
     "output_type": "execute_result"
    }
   ],
   "source": [
    "metadata[2].contents"
   ]
  },
  {
   "cell_type": "code",
   "execution_count": 93,
   "id": "7f00b6c9",
   "metadata": {},
   "outputs": [
    {
     "data": {
      "text/plain": [
       "[<li class=\"ipc-inline-list__item\" role=\"presentation\"><a aria-disabled=\"false\" class=\"ipc-metadata-list-item__list-content-item ipc-metadata-list-item__list-content-item--link\" href=\"/name/nm0000182/?ref_=tt_ov_st\" role=\"button\" tabindex=\"0\">Jennifer Lopez</a></li>,\n",
       " <li class=\"ipc-inline-list__item\" role=\"presentation\"><a aria-disabled=\"false\" class=\"ipc-metadata-list-item__list-content-item ipc-metadata-list-item__list-content-item--link\" href=\"/name/nm5515054/?ref_=tt_ov_st\" role=\"button\" tabindex=\"0\">Lucy Paez</a></li>,\n",
       " <li class=\"ipc-inline-list__item\" role=\"presentation\"><a aria-disabled=\"false\" class=\"ipc-metadata-list-item__list-content-item ipc-metadata-list-item__list-content-item--link\" href=\"/name/nm1165044/?ref_=tt_ov_st\" role=\"button\" tabindex=\"0\">Omari Hardwick</a></li>]"
      ]
     },
     "execution_count": 93,
     "metadata": {},
     "output_type": "execute_result"
    }
   ],
   "source": [
    "metadata[2].ul.contents\n"
   ]
  },
  {
   "cell_type": "code",
   "execution_count": 95,
   "id": "b7bf91d3",
   "metadata": {},
   "outputs": [
    {
     "name": "stdout",
     "output_type": "stream",
     "text": [
      "Jennifer Lopez\n",
      "Lucy Paez\n",
      "Omari Hardwick\n"
     ]
    }
   ],
   "source": [
    "for item in metadata[2].ul.contents:\n",
    "    print(item.getText())"
   ]
  },
  {
   "cell_type": "code",
   "execution_count": 276,
   "id": "e17be704",
   "metadata": {},
   "outputs": [],
   "source": [
    "small_df = df.head(1000)"
   ]
  },
  {
   "cell_type": "code",
   "execution_count": 277,
   "id": "523fce14",
   "metadata": {},
   "outputs": [
    {
     "data": {
      "text/html": [
       "<div>\n",
       "<style scoped>\n",
       "    .dataframe tbody tr th:only-of-type {\n",
       "        vertical-align: middle;\n",
       "    }\n",
       "\n",
       "    .dataframe tbody tr th {\n",
       "        vertical-align: top;\n",
       "    }\n",
       "\n",
       "    .dataframe thead th {\n",
       "        text-align: right;\n",
       "    }\n",
       "</style>\n",
       "<table border=\"1\" class=\"dataframe\">\n",
       "  <thead>\n",
       "    <tr style=\"text-align: right;\">\n",
       "      <th></th>\n",
       "      <th>movieId</th>\n",
       "      <th>title</th>\n",
       "      <th>genres</th>\n",
       "    </tr>\n",
       "  </thead>\n",
       "  <tbody>\n",
       "    <tr>\n",
       "      <th>0</th>\n",
       "      <td>1</td>\n",
       "      <td>Toy Story (1995)</td>\n",
       "      <td>Adventure|Animation|Children|Comedy|Fantasy</td>\n",
       "    </tr>\n",
       "    <tr>\n",
       "      <th>1</th>\n",
       "      <td>2</td>\n",
       "      <td>Jumanji (1995)</td>\n",
       "      <td>Adventure|Children|Fantasy</td>\n",
       "    </tr>\n",
       "    <tr>\n",
       "      <th>2</th>\n",
       "      <td>3</td>\n",
       "      <td>Grumpier Old Men (1995)</td>\n",
       "      <td>Comedy|Romance</td>\n",
       "    </tr>\n",
       "    <tr>\n",
       "      <th>3</th>\n",
       "      <td>4</td>\n",
       "      <td>Waiting to Exhale (1995)</td>\n",
       "      <td>Comedy|Drama|Romance</td>\n",
       "    </tr>\n",
       "    <tr>\n",
       "      <th>4</th>\n",
       "      <td>5</td>\n",
       "      <td>Father of the Bride Part II (1995)</td>\n",
       "      <td>Comedy</td>\n",
       "    </tr>\n",
       "  </tbody>\n",
       "</table>\n",
       "</div>"
      ],
      "text/plain": [
       "   movieId                               title  \\\n",
       "0        1                    Toy Story (1995)   \n",
       "1        2                      Jumanji (1995)   \n",
       "2        3             Grumpier Old Men (1995)   \n",
       "3        4            Waiting to Exhale (1995)   \n",
       "4        5  Father of the Bride Part II (1995)   \n",
       "\n",
       "                                        genres  \n",
       "0  Adventure|Animation|Children|Comedy|Fantasy  \n",
       "1                   Adventure|Children|Fantasy  \n",
       "2                               Comedy|Romance  \n",
       "3                         Comedy|Drama|Romance  \n",
       "4                                       Comedy  "
      ]
     },
     "execution_count": 277,
     "metadata": {},
     "output_type": "execute_result"
    }
   ],
   "source": [
    "small_df.head()"
   ]
  },
  {
   "cell_type": "code",
   "execution_count": 278,
   "id": "936e7a8e",
   "metadata": {},
   "outputs": [
    {
     "data": {
      "text/plain": [
       "1000"
      ]
     },
     "execution_count": 278,
     "metadata": {},
     "output_type": "execute_result"
    }
   ],
   "source": [
    "len(small_df)"
   ]
  },
  {
   "cell_type": "code",
   "execution_count": 179,
   "id": "cc2801a2",
   "metadata": {},
   "outputs": [
    {
     "name": "stdout",
     "output_type": "stream",
     "text": [
      "0\n",
      "1\n",
      "2\n",
      "3\n",
      "4\n",
      "5\n",
      "6\n",
      "7\n",
      "8\n",
      "9\n",
      "10\n",
      "11\n",
      "12\n",
      "13\n",
      "14\n",
      "15\n",
      "16\n",
      "17\n",
      "18\n",
      "19\n",
      "20\n",
      "21\n",
      "22\n",
      "23\n",
      "24\n",
      "25\n",
      "26\n",
      "27\n",
      "28\n",
      "29\n",
      "30\n",
      "31\n",
      "32\n",
      "33\n",
      "34\n",
      "35\n",
      "36\n",
      "37\n",
      "38\n",
      "39\n",
      "40\n",
      "41\n",
      "42\n",
      "43\n",
      "44\n",
      "45\n",
      "46\n",
      "47\n",
      "48\n",
      "49\n",
      "50\n",
      "51\n",
      "52\n",
      "53\n",
      "54\n",
      "55\n",
      "56\n",
      "57\n",
      "58\n",
      "59\n",
      "60\n",
      "61\n",
      "62\n",
      "63\n",
      "64\n",
      "65\n",
      "66\n",
      "67\n",
      "68\n",
      "69\n",
      "70\n",
      "71\n",
      "72\n",
      "73\n",
      "74\n",
      "75\n",
      "76\n",
      "77\n",
      "78\n",
      "79\n",
      "80\n",
      "81\n",
      "82\n",
      "83\n",
      "84\n",
      "85\n",
      "86\n",
      "87\n",
      "88\n",
      "89\n",
      "90\n",
      "91\n",
      "92\n",
      "93\n",
      "94\n",
      "95\n",
      "96\n",
      "97\n"
     ]
    },
    {
     "ename": "AttributeError",
     "evalue": "'NoneType' object has no attribute 'contents'",
     "output_type": "error",
     "traceback": [
      "\u001b[0;31m---------------------------------------------------------------------------\u001b[0m",
      "\u001b[0;31mAttributeError\u001b[0m                            Traceback (most recent call last)",
      "\u001b[0;32m/var/folders/pl/20832w516ndbmml1sf0r8rdh0000gn/T/ipykernel_52719/445630936.py\u001b[0m in \u001b[0;36m<module>\u001b[0;34m\u001b[0m\n\u001b[1;32m      5\u001b[0m     \u001b[0mprint\u001b[0m\u001b[0;34m(\u001b[0m\u001b[0mi\u001b[0m\u001b[0;34m)\u001b[0m\u001b[0;34m\u001b[0m\u001b[0;34m\u001b[0m\u001b[0m\n\u001b[1;32m      6\u001b[0m     \u001b[0mimdb_id\u001b[0m \u001b[0;34m=\u001b[0m \u001b[0mlinks_db\u001b[0m\u001b[0;34m.\u001b[0m\u001b[0mloc\u001b[0m\u001b[0;34m[\u001b[0m\u001b[0mlinks_db\u001b[0m\u001b[0;34m.\u001b[0m\u001b[0mmovieId\u001b[0m \u001b[0;34m==\u001b[0m \u001b[0mrow\u001b[0m\u001b[0;34m.\u001b[0m\u001b[0mmovieId\u001b[0m\u001b[0;34m]\u001b[0m\u001b[0;34m.\u001b[0m\u001b[0mimdbId\u001b[0m\u001b[0;34m.\u001b[0m\u001b[0mvalues\u001b[0m\u001b[0;34m[\u001b[0m\u001b[0;36m0\u001b[0m\u001b[0;34m]\u001b[0m\u001b[0;34m\u001b[0m\u001b[0;34m\u001b[0m\u001b[0m\n\u001b[0;32m----> 7\u001b[0;31m     \u001b[0mx\u001b[0m\u001b[0;34m,\u001b[0m \u001b[0my\u001b[0m\u001b[0;34m,\u001b[0m \u001b[0mz\u001b[0m \u001b[0;34m=\u001b[0m \u001b[0mget_imdb_data\u001b[0m\u001b[0;34m(\u001b[0m\u001b[0mimdb_id\u001b[0m\u001b[0;34m)\u001b[0m\u001b[0;34m\u001b[0m\u001b[0;34m\u001b[0m\u001b[0m\n\u001b[0m\u001b[1;32m      8\u001b[0m     \u001b[0mdescription\u001b[0m\u001b[0;34m.\u001b[0m\u001b[0mappend\u001b[0m\u001b[0;34m(\u001b[0m\u001b[0mx\u001b[0m\u001b[0;34m)\u001b[0m\u001b[0;34m\u001b[0m\u001b[0;34m\u001b[0m\u001b[0m\n\u001b[1;32m      9\u001b[0m     \u001b[0mdirector\u001b[0m\u001b[0;34m.\u001b[0m\u001b[0mappend\u001b[0m\u001b[0;34m(\u001b[0m\u001b[0my\u001b[0m\u001b[0;34m)\u001b[0m\u001b[0;34m\u001b[0m\u001b[0;34m\u001b[0m\u001b[0m\n",
      "\u001b[0;32m/var/folders/pl/20832w516ndbmml1sf0r8rdh0000gn/T/ipykernel_52719/91702821.py\u001b[0m in \u001b[0;36mget_imdb_data\u001b[0;34m(imdb_id)\u001b[0m\n\u001b[1;32m      8\u001b[0m     \u001b[0mdirector\u001b[0m \u001b[0;34m=\u001b[0m \u001b[0mmetadata\u001b[0m\u001b[0;34m[\u001b[0m\u001b[0;36m0\u001b[0m\u001b[0;34m]\u001b[0m\u001b[0;34m.\u001b[0m\u001b[0mgetText\u001b[0m\u001b[0;34m(\u001b[0m\u001b[0;34m)\u001b[0m\u001b[0;34m\u001b[0m\u001b[0;34m\u001b[0m\u001b[0m\n\u001b[1;32m      9\u001b[0m     \u001b[0mlead_cast\u001b[0m \u001b[0;34m=\u001b[0m \u001b[0;34m[\u001b[0m\u001b[0;34m]\u001b[0m\u001b[0;34m\u001b[0m\u001b[0;34m\u001b[0m\u001b[0m\n\u001b[0;32m---> 10\u001b[0;31m     \u001b[0;32mfor\u001b[0m \u001b[0mitem\u001b[0m \u001b[0;32min\u001b[0m \u001b[0mmetadata\u001b[0m\u001b[0;34m[\u001b[0m\u001b[0;36m2\u001b[0m\u001b[0;34m]\u001b[0m\u001b[0;34m.\u001b[0m\u001b[0mul\u001b[0m\u001b[0;34m.\u001b[0m\u001b[0mcontents\u001b[0m\u001b[0;34m:\u001b[0m\u001b[0;34m\u001b[0m\u001b[0;34m\u001b[0m\u001b[0m\n\u001b[0m\u001b[1;32m     11\u001b[0m         \u001b[0mlead_cast\u001b[0m\u001b[0;34m.\u001b[0m\u001b[0mappend\u001b[0m\u001b[0;34m(\u001b[0m\u001b[0mitem\u001b[0m\u001b[0;34m.\u001b[0m\u001b[0mgetText\u001b[0m\u001b[0;34m(\u001b[0m\u001b[0;34m)\u001b[0m\u001b[0;34m)\u001b[0m\u001b[0;34m\u001b[0m\u001b[0;34m\u001b[0m\u001b[0m\n\u001b[1;32m     12\u001b[0m \u001b[0;34m\u001b[0m\u001b[0m\n",
      "\u001b[0;31mAttributeError\u001b[0m: 'NoneType' object has no attribute 'contents'"
     ]
    }
   ],
   "source": [
    "description = []\n",
    "director = []\n",
    "lead_cast = []\n",
    "for i, row in small_df.iterrows():\n",
    "    print(i)\n",
    "    imdb_id = links_db.loc[links_db.movieId == row.movieId].imdbId.values[0]\n",
    "    x, y, z = get_imdb_data(imdb_id)\n",
    "    description.append(x)\n",
    "    director.append(y)\n",
    "    lead_cast.append(z)\n",
    "    if i > 100:\n",
    "        break\n",
    "print(director)"
   ]
  },
  {
   "cell_type": "code",
   "execution_count": 180,
   "id": "049ac66f",
   "metadata": {},
   "outputs": [
    {
     "data": {
      "text/plain": [
       "'Heidi Fleiss: Hollywood Madam (1995)'"
      ]
     },
     "execution_count": 180,
     "metadata": {},
     "output_type": "execute_result"
    }
   ],
   "source": [
    "small_df.title[97]"
   ]
  },
  {
   "cell_type": "code",
   "execution_count": 131,
   "id": "27d9eecc",
   "metadata": {},
   "outputs": [
    {
     "data": {
      "text/html": [
       "<div>\n",
       "<style scoped>\n",
       "    .dataframe tbody tr th:only-of-type {\n",
       "        vertical-align: middle;\n",
       "    }\n",
       "\n",
       "    .dataframe tbody tr th {\n",
       "        vertical-align: top;\n",
       "    }\n",
       "\n",
       "    .dataframe thead th {\n",
       "        text-align: right;\n",
       "    }\n",
       "</style>\n",
       "<table border=\"1\" class=\"dataframe\">\n",
       "  <thead>\n",
       "    <tr style=\"text-align: right;\">\n",
       "      <th></th>\n",
       "      <th>movieId</th>\n",
       "      <th>title</th>\n",
       "      <th>genres</th>\n",
       "    </tr>\n",
       "  </thead>\n",
       "  <tbody>\n",
       "    <tr>\n",
       "      <th>0</th>\n",
       "      <td>1</td>\n",
       "      <td>Toy Story (1995)</td>\n",
       "      <td>Adventure|Animation|Children|Comedy|Fantasy</td>\n",
       "    </tr>\n",
       "  </tbody>\n",
       "</table>\n",
       "</div>"
      ],
      "text/plain": [
       "   movieId             title                                       genres\n",
       "0        1  Toy Story (1995)  Adventure|Animation|Children|Comedy|Fantasy"
      ]
     },
     "execution_count": 131,
     "metadata": {},
     "output_type": "execute_result"
    }
   ],
   "source": [
    "small_df.head(1)"
   ]
  },
  {
   "cell_type": "code",
   "execution_count": 139,
   "id": "be729811",
   "metadata": {},
   "outputs": [
    {
     "data": {
      "text/html": [
       "<div>\n",
       "<style scoped>\n",
       "    .dataframe tbody tr th:only-of-type {\n",
       "        vertical-align: middle;\n",
       "    }\n",
       "\n",
       "    .dataframe tbody tr th {\n",
       "        vertical-align: top;\n",
       "    }\n",
       "\n",
       "    .dataframe thead th {\n",
       "        text-align: right;\n",
       "    }\n",
       "</style>\n",
       "<table border=\"1\" class=\"dataframe\">\n",
       "  <thead>\n",
       "    <tr style=\"text-align: right;\">\n",
       "      <th></th>\n",
       "      <th>movieId</th>\n",
       "      <th>imdbId</th>\n",
       "      <th>tmdbId</th>\n",
       "    </tr>\n",
       "  </thead>\n",
       "  <tbody>\n",
       "    <tr>\n",
       "      <th>0</th>\n",
       "      <td>1</td>\n",
       "      <td>114709</td>\n",
       "      <td>862.0</td>\n",
       "    </tr>\n",
       "  </tbody>\n",
       "</table>\n",
       "</div>"
      ],
      "text/plain": [
       "   movieId  imdbId  tmdbId\n",
       "0        1  114709   862.0"
      ]
     },
     "execution_count": 139,
     "metadata": {},
     "output_type": "execute_result"
    }
   ],
   "source": [
    "links_db.head(1)"
   ]
  },
  {
   "cell_type": "code",
   "execution_count": 145,
   "id": "5d2d77e2",
   "metadata": {},
   "outputs": [
    {
     "data": {
      "text/plain": [
       "11170942"
      ]
     },
     "execution_count": 145,
     "metadata": {},
     "output_type": "execute_result"
    }
   ],
   "source": [
    "links_db.imdbId.max()"
   ]
  },
  {
   "cell_type": "code",
   "execution_count": 148,
   "id": "9e85eeec",
   "metadata": {},
   "outputs": [
    {
     "data": {
      "text/html": [
       "<div>\n",
       "<style scoped>\n",
       "    .dataframe tbody tr th:only-of-type {\n",
       "        vertical-align: middle;\n",
       "    }\n",
       "\n",
       "    .dataframe tbody tr th {\n",
       "        vertical-align: top;\n",
       "    }\n",
       "\n",
       "    .dataframe thead th {\n",
       "        text-align: right;\n",
       "    }\n",
       "</style>\n",
       "<table border=\"1\" class=\"dataframe\">\n",
       "  <thead>\n",
       "    <tr style=\"text-align: right;\">\n",
       "      <th></th>\n",
       "      <th>movieId</th>\n",
       "      <th>imdbId</th>\n",
       "      <th>tmdbId</th>\n",
       "    </tr>\n",
       "  </thead>\n",
       "  <tbody>\n",
       "    <tr>\n",
       "      <th>62377</th>\n",
       "      <td>208945</td>\n",
       "      <td>11170942</td>\n",
       "      <td>568776.0</td>\n",
       "    </tr>\n",
       "  </tbody>\n",
       "</table>\n",
       "</div>"
      ],
      "text/plain": [
       "       movieId    imdbId    tmdbId\n",
       "62377   208945  11170942  568776.0"
      ]
     },
     "execution_count": 148,
     "metadata": {},
     "output_type": "execute_result"
    }
   ],
   "source": [
    "links_db[links_db.imdbId==11170942]"
   ]
  },
  {
   "cell_type": "code",
   "execution_count": 157,
   "id": "2256cc33",
   "metadata": {},
   "outputs": [
    {
     "data": {
      "text/html": [
       "<div>\n",
       "<style scoped>\n",
       "    .dataframe tbody tr th:only-of-type {\n",
       "        vertical-align: middle;\n",
       "    }\n",
       "\n",
       "    .dataframe tbody tr th {\n",
       "        vertical-align: top;\n",
       "    }\n",
       "\n",
       "    .dataframe thead th {\n",
       "        text-align: right;\n",
       "    }\n",
       "</style>\n",
       "<table border=\"1\" class=\"dataframe\">\n",
       "  <thead>\n",
       "    <tr style=\"text-align: right;\">\n",
       "      <th></th>\n",
       "      <th>movieId</th>\n",
       "      <th>title</th>\n",
       "      <th>genres</th>\n",
       "    </tr>\n",
       "  </thead>\n",
       "  <tbody>\n",
       "    <tr>\n",
       "      <th>62377</th>\n",
       "      <td>208945</td>\n",
       "      <td>Powder (2019)</td>\n",
       "      <td>Comedy|Drama</td>\n",
       "    </tr>\n",
       "  </tbody>\n",
       "</table>\n",
       "</div>"
      ],
      "text/plain": [
       "       movieId          title        genres\n",
       "62377   208945  Powder (2019)  Comedy|Drama"
      ]
     },
     "execution_count": 157,
     "metadata": {},
     "output_type": "execute_result"
    }
   ],
   "source": [
    "df[df.movieId==208945]"
   ]
  },
  {
   "cell_type": "code",
   "execution_count": 150,
   "id": "806cec65",
   "metadata": {},
   "outputs": [
    {
     "data": {
      "text/plain": [
       "'string0000005'"
      ]
     },
     "execution_count": 150,
     "metadata": {},
     "output_type": "execute_result"
    }
   ],
   "source": [
    "\"string{0:07d}\".format(5)"
   ]
  },
  {
   "cell_type": "code",
   "execution_count": 194,
   "id": "71a49b2f",
   "metadata": {},
   "outputs": [
    {
     "name": "stdout",
     "output_type": "stream",
     "text": [
      "<Response [200]>\n"
     ]
    }
   ],
   "source": [
    "res = requests.get('https://www.imdb.com/title/tt0113283/', headers=headers)\n",
    "print(res)"
   ]
  },
  {
   "cell_type": "code",
   "execution_count": 195,
   "id": "106f0594",
   "metadata": {},
   "outputs": [],
   "source": [
    "soup = BeautifulSoup(res.text, 'html.parser')"
   ]
  },
  {
   "cell_type": "code",
   "execution_count": 196,
   "id": "6eebd37f",
   "metadata": {},
   "outputs": [],
   "source": [
    "list = soup.find_all(\"li\", {\"data-testid\": \"title-pc-principal-credit\"})"
   ]
  },
  {
   "cell_type": "code",
   "execution_count": 197,
   "id": "05f5a49e",
   "metadata": {},
   "outputs": [
    {
     "data": {
      "text/plain": [
       "4"
      ]
     },
     "execution_count": 197,
     "metadata": {},
     "output_type": "execute_result"
    }
   ],
   "source": [
    "len(list)"
   ]
  },
  {
   "cell_type": "code",
   "execution_count": 199,
   "id": "1d7e5bfd",
   "metadata": {},
   "outputs": [
    {
     "data": {
      "text/plain": [
       "'Director'"
      ]
     },
     "execution_count": 199,
     "metadata": {},
     "output_type": "execute_result"
    }
   ],
   "source": [
    "\n",
    "list[0].span.getText()\n",
    "    "
   ]
  },
  {
   "cell_type": "code",
   "execution_count": 200,
   "id": "9ec74b48",
   "metadata": {},
   "outputs": [
    {
     "data": {
      "text/plain": [
       "'Nick Broomfield'"
      ]
     },
     "execution_count": 200,
     "metadata": {},
     "output_type": "execute_result"
    }
   ],
   "source": [
    "list[0].div.ul.getText()"
   ]
  },
  {
   "cell_type": "code",
   "execution_count": 202,
   "id": "f15597e9",
   "metadata": {},
   "outputs": [
    {
     "data": {
      "text/plain": [
       "'Stars'"
      ]
     },
     "execution_count": 202,
     "metadata": {},
     "output_type": "execute_result"
    }
   ],
   "source": [
    "list[1].a.getText()"
   ]
  },
  {
   "cell_type": "code",
   "execution_count": 203,
   "id": "54c9ced5",
   "metadata": {},
   "outputs": [
    {
     "data": {
      "text/plain": [
       "'Nick BroomfieldNina Xining ZuoMadam Alex'"
      ]
     },
     "execution_count": 203,
     "metadata": {},
     "output_type": "execute_result"
    }
   ],
   "source": [
    "list[1].div.ul.getText()"
   ]
  },
  {
   "cell_type": "code",
   "execution_count": 208,
   "id": "e33d93ac",
   "metadata": {},
   "outputs": [
    {
     "name": "stdout",
     "output_type": "stream",
     "text": [
      "span\n",
      "a\n",
      "span\n",
      "a\n"
     ]
    }
   ],
   "source": [
    "for i in range(len(list)):\n",
    "    print(list[i].contents[0].name)\n",
    "    \n",
    "        "
   ]
  },
  {
   "cell_type": "code",
   "execution_count": 213,
   "id": "337cc151",
   "metadata": {},
   "outputs": [
    {
     "data": {
      "text/plain": [
       "'Director'"
      ]
     },
     "execution_count": 213,
     "metadata": {},
     "output_type": "execute_result"
    }
   ],
   "source": [
    "list[2].contents[0].getText()"
   ]
  },
  {
   "cell_type": "code",
   "execution_count": 210,
   "id": "531c2632",
   "metadata": {},
   "outputs": [
    {
     "data": {
      "text/plain": [
       "<span aria-disabled=\"false\" aria-label=\"See full cast and crew\" class=\"ipc-metadata-list-item__label ipc-metadata-list-item__label--btn\">Director</span>"
      ]
     },
     "execution_count": 210,
     "metadata": {},
     "output_type": "execute_result"
    }
   ],
   "source": [
    "list[0].contents[0]"
   ]
  },
  {
   "cell_type": "code",
   "execution_count": 211,
   "id": "8faa3b43",
   "metadata": {},
   "outputs": [
    {
     "data": {
      "text/plain": [
       "<a aria-disabled=\"false\" aria-label=\"See full cast and crew\" class=\"ipc-metadata-list-item__label ipc-metadata-list-item__label--link\" href=\"/title/tt0113283/fullcredits/cast?ref_=tt_ov_st_sm\" role=\"button\" tabindex=\"0\">Stars</a>"
      ]
     },
     "execution_count": 211,
     "metadata": {},
     "output_type": "execute_result"
    }
   ],
   "source": [
    "list[1].contents[0]"
   ]
  },
  {
   "cell_type": "code",
   "execution_count": 214,
   "id": "99de282e",
   "metadata": {},
   "outputs": [
    {
     "data": {
      "text/plain": [
       "'Stars'"
      ]
     },
     "execution_count": 214,
     "metadata": {},
     "output_type": "execute_result"
    }
   ],
   "source": [
    "list[3].contents[0].getText()"
   ]
  },
  {
   "cell_type": "code",
   "execution_count": 215,
   "id": "456af307",
   "metadata": {},
   "outputs": [
    {
     "name": "stdout",
     "output_type": "stream",
     "text": [
      "director\n",
      "stars\n",
      "director\n",
      "stars\n"
     ]
    }
   ],
   "source": [
    "for i in range(len(list)):\n",
    "    if (list[i].contents[0].getText()=='Director'):\n",
    "        print('director')\n",
    "    if (list[i].contents[0].getText()=='Stars'):\n",
    "        print('stars')"
   ]
  },
  {
   "cell_type": "code",
   "execution_count": 218,
   "id": "c9e5401a",
   "metadata": {},
   "outputs": [
    {
     "data": {
      "text/plain": [
       "'Nick Broomfield'"
      ]
     },
     "execution_count": 218,
     "metadata": {},
     "output_type": "execute_result"
    }
   ],
   "source": [
    "list[0].contents[1].contents[0].getText()"
   ]
  },
  {
   "cell_type": "code",
   "execution_count": 220,
   "id": "4f17fa36",
   "metadata": {},
   "outputs": [
    {
     "data": {
      "text/plain": [
       "'Nick BroomfieldNina Xining ZuoMadam Alex'"
      ]
     },
     "execution_count": 220,
     "metadata": {},
     "output_type": "execute_result"
    }
   ],
   "source": [
    "list[1].contents[1].contents[0].getText()"
   ]
  },
  {
   "cell_type": "code",
   "execution_count": 287,
   "id": "de855882",
   "metadata": {},
   "outputs": [],
   "source": [
    "def get_imdb_data2(imdb_id):\n",
    "    web_address = 'https://www.imdb.com/title/tt{0:07d}/'.format(imdb_id)\n",
    "    try:\n",
    "        res = requests.get(web_address, \n",
    "                       headers={'User-Agent': 'Mozilla/5.0'})\n",
    "    except requests.exceptions.RequestException as err:\n",
    "        print(f'request exception found {imbd_id}', err)\n",
    "    soup = BeautifulSoup(res.text, 'html.parser')\n",
    "    try:\n",
    "        description = soup.find(\"span\", {\"data-testid\": \"plot-xs_to_m\"}).getText()\n",
    "    except AttributeError:\n",
    "        description = ''\n",
    "    metadata = soup.find_all(\"li\", {\"data-testid\": \"title-pc-principal-credit\"})\n",
    "    if len(metadata) == 0:\n",
    "              print(f'{imdb_id} metadata not found')\n",
    "              \n",
    "    directors = []\n",
    "    lead_cast = []\n",
    "    for i in range(len(metadata)):\n",
    "        if ('Director' in metadata[i].contents[0].getText()):\n",
    "            for item in metadata[i].contents[1].contents[0]:\n",
    "                if item.getText() not in directors:\n",
    "                    directors.append(item.getText())\n",
    "        if ('Stars' in metadata[i].contents[0].getText()):\n",
    "            for item in metadata[i].contents[1].contents[0]:\n",
    "                lead_cast.append(item.getText())\n",
    "    \n",
    "    \n",
    "    return description, directors, lead_cast"
   ]
  },
  {
   "cell_type": "code",
   "execution_count": 288,
   "id": "abae45eb",
   "metadata": {},
   "outputs": [
    {
     "name": "stdout",
     "output_type": "stream",
     "text": [
      "118114 metadata not found\n"
     ]
    }
   ],
   "source": [
    "description = []\n",
    "directors = []\n",
    "lead_cast = []\n",
    "for i, row in small_df.iterrows():\n",
    "    imdb_id = links_db.loc[links_db.movieId == row.movieId].imdbId.values[0]\n",
    "    x, y, z = get_imdb_data2(imdb_id)\n",
    "    description.append(x)\n",
    "    directors.append(y)\n",
    "    lead_cast.append(z)\n"
   ]
  },
  {
   "cell_type": "code",
   "execution_count": 289,
   "id": "c6b49b00",
   "metadata": {},
   "outputs": [
    {
     "data": {
      "text/plain": [
       "705    720\n",
       "Name: movieId, dtype: int64"
      ]
     },
     "execution_count": 289,
     "metadata": {},
     "output_type": "execute_result"
    }
   ],
   "source": [
    "links_db[links_db.imdbId == 118114].movieId"
   ]
  },
  {
   "cell_type": "code",
   "execution_count": 290,
   "id": "00b31896",
   "metadata": {},
   "outputs": [
    {
     "data": {
      "text/plain": [
       "'Wallace & Gromit: The Best of Aardman Animation (1996)'"
      ]
     },
     "execution_count": 290,
     "metadata": {},
     "output_type": "execute_result"
    }
   ],
   "source": [
    "small_df.title[705]"
   ]
  },
  {
   "cell_type": "code",
   "execution_count": 224,
   "id": "3bd4bc1a",
   "metadata": {},
   "outputs": [
    {
     "data": {
      "text/plain": [
       "'Four Rooms (1995)'"
      ]
     },
     "execution_count": 224,
     "metadata": {},
     "output_type": "execute_result"
    }
   ],
   "source": [
    "small_df.title[17]"
   ]
  },
  {
   "cell_type": "code",
   "execution_count": 265,
   "id": "8b9ae9eb",
   "metadata": {},
   "outputs": [],
   "source": [
    "xsmall_df = df.head(200)"
   ]
  },
  {
   "cell_type": "code",
   "execution_count": 235,
   "id": "6a709fbb",
   "metadata": {},
   "outputs": [
    {
     "name": "stdout",
     "output_type": "stream",
     "text": [
      "0\n",
      "1\n",
      "2\n",
      "3\n",
      "4\n",
      "5\n",
      "6\n",
      "7\n",
      "8\n",
      "9\n",
      "10\n",
      "11\n",
      "12\n",
      "13\n",
      "14\n",
      "15\n",
      "16\n",
      "17\n",
      "18\n",
      "19\n",
      "20\n",
      "21\n",
      "22\n",
      "23\n",
      "24\n",
      "25\n",
      "26\n",
      "27\n",
      "28\n",
      "29\n",
      "30\n",
      "31\n",
      "32\n",
      "33\n",
      "34\n",
      "35\n",
      "36\n",
      "37\n",
      "38\n",
      "39\n",
      "40\n",
      "41\n",
      "42\n",
      "43\n",
      "44\n",
      "45\n",
      "46\n",
      "47\n",
      "48\n",
      "49\n",
      "50\n",
      "51\n",
      "52\n",
      "53\n",
      "54\n",
      "55\n",
      "56\n",
      "57\n",
      "58\n",
      "59\n",
      "60\n",
      "61\n",
      "62\n",
      "63\n",
      "64\n",
      "65\n",
      "66\n",
      "67\n",
      "68\n",
      "69\n",
      "70\n",
      "71\n",
      "72\n",
      "73\n",
      "74\n",
      "75\n",
      "76\n",
      "77\n",
      "78\n",
      "79\n",
      "80\n",
      "81\n",
      "82\n",
      "83\n",
      "84\n",
      "85\n",
      "86\n",
      "87\n",
      "88\n",
      "89\n",
      "90\n",
      "91\n",
      "92\n",
      "93\n",
      "94\n",
      "95\n",
      "96\n",
      "97\n",
      "98\n",
      "99\n",
      "100\n",
      "101\n",
      "102\n",
      "103\n",
      "104\n",
      "105\n",
      "106\n",
      "107\n",
      "108\n",
      "109\n",
      "110\n",
      "111\n",
      "112\n",
      "113\n",
      "114\n",
      "115\n",
      "116\n",
      "117\n",
      "118\n",
      "119\n",
      "120\n",
      "121\n",
      "122\n",
      "123\n",
      "124\n",
      "125\n",
      "126\n",
      "127\n",
      "128\n",
      "129\n",
      "130\n",
      "131\n",
      "132\n",
      "133\n",
      "134\n",
      "135\n",
      "136\n",
      "137\n",
      "138\n",
      "139\n",
      "140\n",
      "141\n",
      "142\n",
      "143\n",
      "144\n",
      "145\n",
      "146\n",
      "147\n",
      "148\n",
      "149\n",
      "150\n",
      "151\n",
      "152\n",
      "153\n",
      "154\n",
      "155\n",
      "156\n",
      "157\n",
      "158\n",
      "159\n",
      "160\n",
      "161\n",
      "162\n",
      "163\n",
      "164\n",
      "165\n",
      "166\n",
      "167\n",
      "168\n",
      "169\n",
      "170\n",
      "171\n",
      "172\n",
      "173\n",
      "174\n",
      "175\n",
      "176\n",
      "177\n",
      "178\n",
      "179\n",
      "180\n",
      "181\n",
      "182\n",
      "183\n",
      "184\n",
      "185\n",
      "186\n",
      "187\n",
      "188\n",
      "189\n",
      "190\n",
      "191\n",
      "192\n",
      "193\n",
      "194\n",
      "195\n",
      "196\n",
      "197\n",
      "198\n",
      "199\n"
     ]
    }
   ],
   "source": [
    "description = []\n",
    "directors = []\n",
    "lead_cast = []\n",
    "for i, row in xsmall_df.iterrows():\n",
    "    print(i)\n",
    "    imdb_id = links_db.loc[links_db.movieId == row.movieId].imdbId.values[0]\n",
    "    x, y, z = get_imdb_data2(imdb_id)\n",
    "    description.append(x)\n",
    "    directors.append(y)\n",
    "    lead_cast.append(z)\n",
    "   \n"
   ]
  },
  {
   "cell_type": "code",
   "execution_count": 252,
   "id": "89f4e315",
   "metadata": {},
   "outputs": [
    {
     "data": {
      "text/html": [
       "<div>\n",
       "<style scoped>\n",
       "    .dataframe tbody tr th:only-of-type {\n",
       "        vertical-align: middle;\n",
       "    }\n",
       "\n",
       "    .dataframe tbody tr th {\n",
       "        vertical-align: top;\n",
       "    }\n",
       "\n",
       "    .dataframe thead th {\n",
       "        text-align: right;\n",
       "    }\n",
       "</style>\n",
       "<table border=\"1\" class=\"dataframe\">\n",
       "  <thead>\n",
       "    <tr style=\"text-align: right;\">\n",
       "      <th></th>\n",
       "      <th>movieId</th>\n",
       "      <th>title</th>\n",
       "      <th>genres</th>\n",
       "    </tr>\n",
       "  </thead>\n",
       "  <tbody>\n",
       "    <tr>\n",
       "      <th>0</th>\n",
       "      <td>1</td>\n",
       "      <td>Toy Story (1995)</td>\n",
       "      <td>Adventure|Animation|Children|Comedy|Fantasy</td>\n",
       "    </tr>\n",
       "    <tr>\n",
       "      <th>1</th>\n",
       "      <td>2</td>\n",
       "      <td>Jumanji (1995)</td>\n",
       "      <td>Adventure|Children|Fantasy</td>\n",
       "    </tr>\n",
       "    <tr>\n",
       "      <th>2</th>\n",
       "      <td>3</td>\n",
       "      <td>Grumpier Old Men (1995)</td>\n",
       "      <td>Comedy|Romance</td>\n",
       "    </tr>\n",
       "    <tr>\n",
       "      <th>3</th>\n",
       "      <td>4</td>\n",
       "      <td>Waiting to Exhale (1995)</td>\n",
       "      <td>Comedy|Drama|Romance</td>\n",
       "    </tr>\n",
       "    <tr>\n",
       "      <th>4</th>\n",
       "      <td>5</td>\n",
       "      <td>Father of the Bride Part II (1995)</td>\n",
       "      <td>Comedy</td>\n",
       "    </tr>\n",
       "  </tbody>\n",
       "</table>\n",
       "</div>"
      ],
      "text/plain": [
       "   movieId                               title  \\\n",
       "0        1                    Toy Story (1995)   \n",
       "1        2                      Jumanji (1995)   \n",
       "2        3             Grumpier Old Men (1995)   \n",
       "3        4            Waiting to Exhale (1995)   \n",
       "4        5  Father of the Bride Part II (1995)   \n",
       "\n",
       "                                        genres  \n",
       "0  Adventure|Animation|Children|Comedy|Fantasy  \n",
       "1                   Adventure|Children|Fantasy  \n",
       "2                               Comedy|Romance  \n",
       "3                         Comedy|Drama|Romance  \n",
       "4                                       Comedy  "
      ]
     },
     "execution_count": 252,
     "metadata": {},
     "output_type": "execute_result"
    }
   ],
   "source": [
    "xsmall_df.head()"
   ]
  },
  {
   "cell_type": "code",
   "execution_count": 291,
   "id": "3b8ec44e",
   "metadata": {},
   "outputs": [
    {
     "data": {
      "text/html": [
       "<div>\n",
       "<style scoped>\n",
       "    .dataframe tbody tr th:only-of-type {\n",
       "        vertical-align: middle;\n",
       "    }\n",
       "\n",
       "    .dataframe tbody tr th {\n",
       "        vertical-align: top;\n",
       "    }\n",
       "\n",
       "    .dataframe thead th {\n",
       "        text-align: right;\n",
       "    }\n",
       "</style>\n",
       "<table border=\"1\" class=\"dataframe\">\n",
       "  <thead>\n",
       "    <tr style=\"text-align: right;\">\n",
       "      <th></th>\n",
       "      <th>movieId</th>\n",
       "      <th>title</th>\n",
       "      <th>genres</th>\n",
       "    </tr>\n",
       "  </thead>\n",
       "  <tbody>\n",
       "    <tr>\n",
       "      <th>0</th>\n",
       "      <td>1</td>\n",
       "      <td>Toy Story (1995)</td>\n",
       "      <td>Adventure|Animation|Children|Comedy|Fantasy</td>\n",
       "    </tr>\n",
       "    <tr>\n",
       "      <th>1</th>\n",
       "      <td>2</td>\n",
       "      <td>Jumanji (1995)</td>\n",
       "      <td>Adventure|Children|Fantasy</td>\n",
       "    </tr>\n",
       "    <tr>\n",
       "      <th>2</th>\n",
       "      <td>3</td>\n",
       "      <td>Grumpier Old Men (1995)</td>\n",
       "      <td>Comedy|Romance</td>\n",
       "    </tr>\n",
       "    <tr>\n",
       "      <th>3</th>\n",
       "      <td>4</td>\n",
       "      <td>Waiting to Exhale (1995)</td>\n",
       "      <td>Comedy|Drama|Romance</td>\n",
       "    </tr>\n",
       "    <tr>\n",
       "      <th>4</th>\n",
       "      <td>5</td>\n",
       "      <td>Father of the Bride Part II (1995)</td>\n",
       "      <td>Comedy</td>\n",
       "    </tr>\n",
       "  </tbody>\n",
       "</table>\n",
       "</div>"
      ],
      "text/plain": [
       "   movieId                               title  \\\n",
       "0        1                    Toy Story (1995)   \n",
       "1        2                      Jumanji (1995)   \n",
       "2        3             Grumpier Old Men (1995)   \n",
       "3        4            Waiting to Exhale (1995)   \n",
       "4        5  Father of the Bride Part II (1995)   \n",
       "\n",
       "                                        genres  \n",
       "0  Adventure|Animation|Children|Comedy|Fantasy  \n",
       "1                   Adventure|Children|Fantasy  \n",
       "2                               Comedy|Romance  \n",
       "3                         Comedy|Drama|Romance  \n",
       "4                                       Comedy  "
      ]
     },
     "execution_count": 291,
     "metadata": {},
     "output_type": "execute_result"
    }
   ],
   "source": [
    "small_df.head()"
   ]
  },
  {
   "cell_type": "code",
   "execution_count": 292,
   "id": "e7ba30d6",
   "metadata": {},
   "outputs": [],
   "source": [
    "description = pd.Series(description)\n",
    "directors = pd.Series(directors)\n",
    "lead_cast = pd.Series(lead_cast)"
   ]
  },
  {
   "cell_type": "code",
   "execution_count": 293,
   "id": "7938607f",
   "metadata": {},
   "outputs": [],
   "source": [
    "small_df = pd.concat([small_df, description, directors, lead_cast], axis=1)"
   ]
  },
  {
   "cell_type": "code",
   "execution_count": 294,
   "id": "dc0889b3",
   "metadata": {},
   "outputs": [
    {
     "data": {
      "text/html": [
       "<div>\n",
       "<style scoped>\n",
       "    .dataframe tbody tr th:only-of-type {\n",
       "        vertical-align: middle;\n",
       "    }\n",
       "\n",
       "    .dataframe tbody tr th {\n",
       "        vertical-align: top;\n",
       "    }\n",
       "\n",
       "    .dataframe thead th {\n",
       "        text-align: right;\n",
       "    }\n",
       "</style>\n",
       "<table border=\"1\" class=\"dataframe\">\n",
       "  <thead>\n",
       "    <tr style=\"text-align: right;\">\n",
       "      <th></th>\n",
       "      <th>movieId</th>\n",
       "      <th>title</th>\n",
       "      <th>genres</th>\n",
       "      <th>0</th>\n",
       "      <th>1</th>\n",
       "      <th>2</th>\n",
       "    </tr>\n",
       "  </thead>\n",
       "  <tbody>\n",
       "    <tr>\n",
       "      <th>0</th>\n",
       "      <td>1</td>\n",
       "      <td>Toy Story (1995)</td>\n",
       "      <td>Adventure|Animation|Children|Comedy|Fantasy</td>\n",
       "      <td>A cowboy doll is profoundly threatened and jea...</td>\n",
       "      <td>[John Lasseter]</td>\n",
       "      <td>[Tom Hanks, Tim Allen, Don Rickles, Tom Hanks,...</td>\n",
       "    </tr>\n",
       "    <tr>\n",
       "      <th>1</th>\n",
       "      <td>2</td>\n",
       "      <td>Jumanji (1995)</td>\n",
       "      <td>Adventure|Children|Fantasy</td>\n",
       "      <td>When two kids find and play a magical board ga...</td>\n",
       "      <td>[Joe Johnston]</td>\n",
       "      <td>[Robin Williams, Kirsten Dunst, Bonnie Hunt, R...</td>\n",
       "    </tr>\n",
       "    <tr>\n",
       "      <th>2</th>\n",
       "      <td>3</td>\n",
       "      <td>Grumpier Old Men (1995)</td>\n",
       "      <td>Comedy|Romance</td>\n",
       "      <td>John and Max resolve to save their beloved bai...</td>\n",
       "      <td>[Howard Deutch]</td>\n",
       "      <td>[Walter Matthau, Jack Lemmon, Ann-Margret, Wal...</td>\n",
       "    </tr>\n",
       "    <tr>\n",
       "      <th>3</th>\n",
       "      <td>4</td>\n",
       "      <td>Waiting to Exhale (1995)</td>\n",
       "      <td>Comedy|Drama|Romance</td>\n",
       "      <td>Based on Terry McMillan's novel, this film fol...</td>\n",
       "      <td>[Forest Whitaker]</td>\n",
       "      <td>[Whitney Houston, Angela Bassett, Loretta Devi...</td>\n",
       "    </tr>\n",
       "    <tr>\n",
       "      <th>4</th>\n",
       "      <td>5</td>\n",
       "      <td>Father of the Bride Part II (1995)</td>\n",
       "      <td>Comedy</td>\n",
       "      <td>George Banks must deal not only with his daugh...</td>\n",
       "      <td>[Charles Shyer]</td>\n",
       "      <td>[Steve Martin, Diane Keaton, Martin Short, Ste...</td>\n",
       "    </tr>\n",
       "  </tbody>\n",
       "</table>\n",
       "</div>"
      ],
      "text/plain": [
       "   movieId                               title  \\\n",
       "0        1                    Toy Story (1995)   \n",
       "1        2                      Jumanji (1995)   \n",
       "2        3             Grumpier Old Men (1995)   \n",
       "3        4            Waiting to Exhale (1995)   \n",
       "4        5  Father of the Bride Part II (1995)   \n",
       "\n",
       "                                        genres  \\\n",
       "0  Adventure|Animation|Children|Comedy|Fantasy   \n",
       "1                   Adventure|Children|Fantasy   \n",
       "2                               Comedy|Romance   \n",
       "3                         Comedy|Drama|Romance   \n",
       "4                                       Comedy   \n",
       "\n",
       "                                                   0                  1  \\\n",
       "0  A cowboy doll is profoundly threatened and jea...    [John Lasseter]   \n",
       "1  When two kids find and play a magical board ga...     [Joe Johnston]   \n",
       "2  John and Max resolve to save their beloved bai...    [Howard Deutch]   \n",
       "3  Based on Terry McMillan's novel, this film fol...  [Forest Whitaker]   \n",
       "4  George Banks must deal not only with his daugh...    [Charles Shyer]   \n",
       "\n",
       "                                                   2  \n",
       "0  [Tom Hanks, Tim Allen, Don Rickles, Tom Hanks,...  \n",
       "1  [Robin Williams, Kirsten Dunst, Bonnie Hunt, R...  \n",
       "2  [Walter Matthau, Jack Lemmon, Ann-Margret, Wal...  \n",
       "3  [Whitney Houston, Angela Bassett, Loretta Devi...  \n",
       "4  [Steve Martin, Diane Keaton, Martin Short, Ste...  "
      ]
     },
     "execution_count": 294,
     "metadata": {},
     "output_type": "execute_result"
    }
   ],
   "source": [
    "small_df.head()"
   ]
  },
  {
   "cell_type": "code",
   "execution_count": 267,
   "id": "0146db5a",
   "metadata": {},
   "outputs": [],
   "source": [
    "xsmall_df = pd.concat([xsmall_df, description, directors, lead_cast], axis=1)"
   ]
  },
  {
   "cell_type": "code",
   "execution_count": 268,
   "id": "6438d210",
   "metadata": {},
   "outputs": [
    {
     "data": {
      "text/html": [
       "<div>\n",
       "<style scoped>\n",
       "    .dataframe tbody tr th:only-of-type {\n",
       "        vertical-align: middle;\n",
       "    }\n",
       "\n",
       "    .dataframe tbody tr th {\n",
       "        vertical-align: top;\n",
       "    }\n",
       "\n",
       "    .dataframe thead th {\n",
       "        text-align: right;\n",
       "    }\n",
       "</style>\n",
       "<table border=\"1\" class=\"dataframe\">\n",
       "  <thead>\n",
       "    <tr style=\"text-align: right;\">\n",
       "      <th></th>\n",
       "      <th>movieId</th>\n",
       "      <th>title</th>\n",
       "      <th>genres</th>\n",
       "      <th>0</th>\n",
       "      <th>1</th>\n",
       "      <th>2</th>\n",
       "    </tr>\n",
       "  </thead>\n",
       "  <tbody>\n",
       "    <tr>\n",
       "      <th>0</th>\n",
       "      <td>1</td>\n",
       "      <td>Toy Story (1995)</td>\n",
       "      <td>Adventure|Animation|Children|Comedy|Fantasy</td>\n",
       "      <td>A cowboy doll is profoundly threatened and jea...</td>\n",
       "      <td>[John Lasseter]</td>\n",
       "      <td>[Tom Hanks, Tim Allen, Don Rickles, Tom Hanks,...</td>\n",
       "    </tr>\n",
       "    <tr>\n",
       "      <th>1</th>\n",
       "      <td>2</td>\n",
       "      <td>Jumanji (1995)</td>\n",
       "      <td>Adventure|Children|Fantasy</td>\n",
       "      <td>When two kids find and play a magical board ga...</td>\n",
       "      <td>[Joe Johnston]</td>\n",
       "      <td>[Robin Williams, Kirsten Dunst, Bonnie Hunt, R...</td>\n",
       "    </tr>\n",
       "    <tr>\n",
       "      <th>2</th>\n",
       "      <td>3</td>\n",
       "      <td>Grumpier Old Men (1995)</td>\n",
       "      <td>Comedy|Romance</td>\n",
       "      <td>John and Max resolve to save their beloved bai...</td>\n",
       "      <td>[Howard Deutch]</td>\n",
       "      <td>[Walter Matthau, Jack Lemmon, Ann-Margret, Wal...</td>\n",
       "    </tr>\n",
       "    <tr>\n",
       "      <th>3</th>\n",
       "      <td>4</td>\n",
       "      <td>Waiting to Exhale (1995)</td>\n",
       "      <td>Comedy|Drama|Romance</td>\n",
       "      <td>Based on Terry McMillan's novel, this film fol...</td>\n",
       "      <td>[Forest Whitaker]</td>\n",
       "      <td>[Whitney Houston, Angela Bassett, Loretta Devi...</td>\n",
       "    </tr>\n",
       "    <tr>\n",
       "      <th>4</th>\n",
       "      <td>5</td>\n",
       "      <td>Father of the Bride Part II (1995)</td>\n",
       "      <td>Comedy</td>\n",
       "      <td>George Banks must deal not only with his daugh...</td>\n",
       "      <td>[Charles Shyer]</td>\n",
       "      <td>[Steve Martin, Diane Keaton, Martin Short, Ste...</td>\n",
       "    </tr>\n",
       "  </tbody>\n",
       "</table>\n",
       "</div>"
      ],
      "text/plain": [
       "   movieId                               title  \\\n",
       "0        1                    Toy Story (1995)   \n",
       "1        2                      Jumanji (1995)   \n",
       "2        3             Grumpier Old Men (1995)   \n",
       "3        4            Waiting to Exhale (1995)   \n",
       "4        5  Father of the Bride Part II (1995)   \n",
       "\n",
       "                                        genres  \\\n",
       "0  Adventure|Animation|Children|Comedy|Fantasy   \n",
       "1                   Adventure|Children|Fantasy   \n",
       "2                               Comedy|Romance   \n",
       "3                         Comedy|Drama|Romance   \n",
       "4                                       Comedy   \n",
       "\n",
       "                                                   0                  1  \\\n",
       "0  A cowboy doll is profoundly threatened and jea...    [John Lasseter]   \n",
       "1  When two kids find and play a magical board ga...     [Joe Johnston]   \n",
       "2  John and Max resolve to save their beloved bai...    [Howard Deutch]   \n",
       "3  Based on Terry McMillan's novel, this film fol...  [Forest Whitaker]   \n",
       "4  George Banks must deal not only with his daugh...    [Charles Shyer]   \n",
       "\n",
       "                                                   2  \n",
       "0  [Tom Hanks, Tim Allen, Don Rickles, Tom Hanks,...  \n",
       "1  [Robin Williams, Kirsten Dunst, Bonnie Hunt, R...  \n",
       "2  [Walter Matthau, Jack Lemmon, Ann-Margret, Wal...  \n",
       "3  [Whitney Houston, Angela Bassett, Loretta Devi...  \n",
       "4  [Steve Martin, Diane Keaton, Martin Short, Ste...  "
      ]
     },
     "execution_count": 268,
     "metadata": {},
     "output_type": "execute_result"
    }
   ],
   "source": [
    "xsmall_df.head()"
   ]
  },
  {
   "cell_type": "code",
   "execution_count": 263,
   "id": "5ef64a07",
   "metadata": {},
   "outputs": [
    {
     "name": "stdout",
     "output_type": "stream",
     "text": [
      "['movieId', 'title', 'genres', 0]\n"
     ]
    }
   ],
   "source": [
    "print([col for col in xsmall_df])"
   ]
  },
  {
   "cell_type": "code",
   "execution_count": 295,
   "id": "255705b3",
   "metadata": {},
   "outputs": [
    {
     "data": {
      "text/html": [
       "<div>\n",
       "<style scoped>\n",
       "    .dataframe tbody tr th:only-of-type {\n",
       "        vertical-align: middle;\n",
       "    }\n",
       "\n",
       "    .dataframe tbody tr th {\n",
       "        vertical-align: top;\n",
       "    }\n",
       "\n",
       "    .dataframe thead th {\n",
       "        text-align: right;\n",
       "    }\n",
       "</style>\n",
       "<table border=\"1\" class=\"dataframe\">\n",
       "  <thead>\n",
       "    <tr style=\"text-align: right;\">\n",
       "      <th></th>\n",
       "      <th>movieId</th>\n",
       "      <th>title</th>\n",
       "      <th>genres</th>\n",
       "      <th>description</th>\n",
       "      <th>directors</th>\n",
       "      <th>leadCast</th>\n",
       "    </tr>\n",
       "  </thead>\n",
       "  <tbody>\n",
       "    <tr>\n",
       "      <th>0</th>\n",
       "      <td>1</td>\n",
       "      <td>Toy Story (1995)</td>\n",
       "      <td>Adventure|Animation|Children|Comedy|Fantasy</td>\n",
       "      <td>A cowboy doll is profoundly threatened and jea...</td>\n",
       "      <td>[John Lasseter]</td>\n",
       "      <td>[Tom Hanks, Tim Allen, Don Rickles, Tom Hanks,...</td>\n",
       "    </tr>\n",
       "    <tr>\n",
       "      <th>1</th>\n",
       "      <td>2</td>\n",
       "      <td>Jumanji (1995)</td>\n",
       "      <td>Adventure|Children|Fantasy</td>\n",
       "      <td>When two kids find and play a magical board ga...</td>\n",
       "      <td>[Joe Johnston]</td>\n",
       "      <td>[Robin Williams, Kirsten Dunst, Bonnie Hunt, R...</td>\n",
       "    </tr>\n",
       "    <tr>\n",
       "      <th>2</th>\n",
       "      <td>3</td>\n",
       "      <td>Grumpier Old Men (1995)</td>\n",
       "      <td>Comedy|Romance</td>\n",
       "      <td>John and Max resolve to save their beloved bai...</td>\n",
       "      <td>[Howard Deutch]</td>\n",
       "      <td>[Walter Matthau, Jack Lemmon, Ann-Margret, Wal...</td>\n",
       "    </tr>\n",
       "    <tr>\n",
       "      <th>3</th>\n",
       "      <td>4</td>\n",
       "      <td>Waiting to Exhale (1995)</td>\n",
       "      <td>Comedy|Drama|Romance</td>\n",
       "      <td>Based on Terry McMillan's novel, this film fol...</td>\n",
       "      <td>[Forest Whitaker]</td>\n",
       "      <td>[Whitney Houston, Angela Bassett, Loretta Devi...</td>\n",
       "    </tr>\n",
       "    <tr>\n",
       "      <th>4</th>\n",
       "      <td>5</td>\n",
       "      <td>Father of the Bride Part II (1995)</td>\n",
       "      <td>Comedy</td>\n",
       "      <td>George Banks must deal not only with his daugh...</td>\n",
       "      <td>[Charles Shyer]</td>\n",
       "      <td>[Steve Martin, Diane Keaton, Martin Short, Ste...</td>\n",
       "    </tr>\n",
       "  </tbody>\n",
       "</table>\n",
       "</div>"
      ],
      "text/plain": [
       "   movieId                               title  \\\n",
       "0        1                    Toy Story (1995)   \n",
       "1        2                      Jumanji (1995)   \n",
       "2        3             Grumpier Old Men (1995)   \n",
       "3        4            Waiting to Exhale (1995)   \n",
       "4        5  Father of the Bride Part II (1995)   \n",
       "\n",
       "                                        genres  \\\n",
       "0  Adventure|Animation|Children|Comedy|Fantasy   \n",
       "1                   Adventure|Children|Fantasy   \n",
       "2                               Comedy|Romance   \n",
       "3                         Comedy|Drama|Romance   \n",
       "4                                       Comedy   \n",
       "\n",
       "                                         description          directors  \\\n",
       "0  A cowboy doll is profoundly threatened and jea...    [John Lasseter]   \n",
       "1  When two kids find and play a magical board ga...     [Joe Johnston]   \n",
       "2  John and Max resolve to save their beloved bai...    [Howard Deutch]   \n",
       "3  Based on Terry McMillan's novel, this film fol...  [Forest Whitaker]   \n",
       "4  George Banks must deal not only with his daugh...    [Charles Shyer]   \n",
       "\n",
       "                                            leadCast  \n",
       "0  [Tom Hanks, Tim Allen, Don Rickles, Tom Hanks,...  \n",
       "1  [Robin Williams, Kirsten Dunst, Bonnie Hunt, R...  \n",
       "2  [Walter Matthau, Jack Lemmon, Ann-Margret, Wal...  \n",
       "3  [Whitney Houston, Angela Bassett, Loretta Devi...  \n",
       "4  [Steve Martin, Diane Keaton, Martin Short, Ste...  "
      ]
     },
     "execution_count": 295,
     "metadata": {},
     "output_type": "execute_result"
    }
   ],
   "source": [
    "small_df.rename(columns={0: 'description', 1: 'directors', 2: 'leadCast'}, inplace=True)\n",
    "small_df.head()"
   ]
  },
  {
   "cell_type": "code",
   "execution_count": 296,
   "id": "b472aff3",
   "metadata": {},
   "outputs": [],
   "source": [
    "small_df.to_csv('../Downloads/ml-25m/augmented_small_movies.csv', index=False)"
   ]
  },
  {
   "cell_type": "code",
   "execution_count": 297,
   "id": "156353ca",
   "metadata": {},
   "outputs": [
    {
     "data": {
      "text/html": [
       "<div>\n",
       "<style scoped>\n",
       "    .dataframe tbody tr th:only-of-type {\n",
       "        vertical-align: middle;\n",
       "    }\n",
       "\n",
       "    .dataframe tbody tr th {\n",
       "        vertical-align: top;\n",
       "    }\n",
       "\n",
       "    .dataframe thead th {\n",
       "        text-align: right;\n",
       "    }\n",
       "</style>\n",
       "<table border=\"1\" class=\"dataframe\">\n",
       "  <thead>\n",
       "    <tr style=\"text-align: right;\">\n",
       "      <th></th>\n",
       "      <th>movieId</th>\n",
       "      <th>title</th>\n",
       "      <th>genres</th>\n",
       "      <th>description</th>\n",
       "      <th>directors</th>\n",
       "      <th>leadCast</th>\n",
       "    </tr>\n",
       "  </thead>\n",
       "  <tbody>\n",
       "    <tr>\n",
       "      <th>0</th>\n",
       "      <td>1</td>\n",
       "      <td>Toy Story (1995)</td>\n",
       "      <td>Adventure|Animation|Children|Comedy|Fantasy</td>\n",
       "      <td>A cowboy doll is profoundly threatened and jea...</td>\n",
       "      <td>['John Lasseter']</td>\n",
       "      <td>['Tom Hanks', 'Tim Allen', 'Don Rickles', 'Tom...</td>\n",
       "    </tr>\n",
       "    <tr>\n",
       "      <th>1</th>\n",
       "      <td>2</td>\n",
       "      <td>Jumanji (1995)</td>\n",
       "      <td>Adventure|Children|Fantasy</td>\n",
       "      <td>When two kids find and play a magical board ga...</td>\n",
       "      <td>['Joe Johnston']</td>\n",
       "      <td>['Robin Williams', 'Kirsten Dunst', 'Bonnie Hu...</td>\n",
       "    </tr>\n",
       "    <tr>\n",
       "      <th>2</th>\n",
       "      <td>3</td>\n",
       "      <td>Grumpier Old Men (1995)</td>\n",
       "      <td>Comedy|Romance</td>\n",
       "      <td>John and Max resolve to save their beloved bai...</td>\n",
       "      <td>['Howard Deutch']</td>\n",
       "      <td>['Walter Matthau', 'Jack Lemmon', 'Ann-Margret...</td>\n",
       "    </tr>\n",
       "    <tr>\n",
       "      <th>3</th>\n",
       "      <td>4</td>\n",
       "      <td>Waiting to Exhale (1995)</td>\n",
       "      <td>Comedy|Drama|Romance</td>\n",
       "      <td>Based on Terry McMillan's novel, this film fol...</td>\n",
       "      <td>['Forest Whitaker']</td>\n",
       "      <td>['Whitney Houston', 'Angela Bassett', 'Loretta...</td>\n",
       "    </tr>\n",
       "    <tr>\n",
       "      <th>4</th>\n",
       "      <td>5</td>\n",
       "      <td>Father of the Bride Part II (1995)</td>\n",
       "      <td>Comedy</td>\n",
       "      <td>George Banks must deal not only with his daugh...</td>\n",
       "      <td>['Charles Shyer']</td>\n",
       "      <td>['Steve Martin', 'Diane Keaton', 'Martin Short...</td>\n",
       "    </tr>\n",
       "  </tbody>\n",
       "</table>\n",
       "</div>"
      ],
      "text/plain": [
       "   movieId                               title  \\\n",
       "0        1                    Toy Story (1995)   \n",
       "1        2                      Jumanji (1995)   \n",
       "2        3             Grumpier Old Men (1995)   \n",
       "3        4            Waiting to Exhale (1995)   \n",
       "4        5  Father of the Bride Part II (1995)   \n",
       "\n",
       "                                        genres  \\\n",
       "0  Adventure|Animation|Children|Comedy|Fantasy   \n",
       "1                   Adventure|Children|Fantasy   \n",
       "2                               Comedy|Romance   \n",
       "3                         Comedy|Drama|Romance   \n",
       "4                                       Comedy   \n",
       "\n",
       "                                         description            directors  \\\n",
       "0  A cowboy doll is profoundly threatened and jea...    ['John Lasseter']   \n",
       "1  When two kids find and play a magical board ga...     ['Joe Johnston']   \n",
       "2  John and Max resolve to save their beloved bai...    ['Howard Deutch']   \n",
       "3  Based on Terry McMillan's novel, this film fol...  ['Forest Whitaker']   \n",
       "4  George Banks must deal not only with his daugh...    ['Charles Shyer']   \n",
       "\n",
       "                                            leadCast  \n",
       "0  ['Tom Hanks', 'Tim Allen', 'Don Rickles', 'Tom...  \n",
       "1  ['Robin Williams', 'Kirsten Dunst', 'Bonnie Hu...  \n",
       "2  ['Walter Matthau', 'Jack Lemmon', 'Ann-Margret...  \n",
       "3  ['Whitney Houston', 'Angela Bassett', 'Loretta...  \n",
       "4  ['Steve Martin', 'Diane Keaton', 'Martin Short...  "
      ]
     },
     "execution_count": 297,
     "metadata": {},
     "output_type": "execute_result"
    }
   ],
   "source": [
    "new_small_df = pd.read_csv('../Downloads/ml-25m/augmented_small_movies.csv')\n",
    "new_small_df.head()"
   ]
  },
  {
   "cell_type": "code",
   "execution_count": 270,
   "id": "401034be",
   "metadata": {},
   "outputs": [
    {
     "data": {
      "text/html": [
       "<div>\n",
       "<style scoped>\n",
       "    .dataframe tbody tr th:only-of-type {\n",
       "        vertical-align: middle;\n",
       "    }\n",
       "\n",
       "    .dataframe tbody tr th {\n",
       "        vertical-align: top;\n",
       "    }\n",
       "\n",
       "    .dataframe thead th {\n",
       "        text-align: right;\n",
       "    }\n",
       "</style>\n",
       "<table border=\"1\" class=\"dataframe\">\n",
       "  <thead>\n",
       "    <tr style=\"text-align: right;\">\n",
       "      <th></th>\n",
       "      <th>Unnamed: 0</th>\n",
       "      <th>movieId</th>\n",
       "      <th>title</th>\n",
       "      <th>genres</th>\n",
       "      <th>description</th>\n",
       "      <th>directors</th>\n",
       "      <th>leadCast</th>\n",
       "    </tr>\n",
       "  </thead>\n",
       "  <tbody>\n",
       "    <tr>\n",
       "      <th>0</th>\n",
       "      <td>0</td>\n",
       "      <td>1</td>\n",
       "      <td>Toy Story (1995)</td>\n",
       "      <td>Adventure|Animation|Children|Comedy|Fantasy</td>\n",
       "      <td>A cowboy doll is profoundly threatened and jea...</td>\n",
       "      <td>['John Lasseter']</td>\n",
       "      <td>['Tom Hanks', 'Tim Allen', 'Don Rickles', 'Tom...</td>\n",
       "    </tr>\n",
       "    <tr>\n",
       "      <th>1</th>\n",
       "      <td>1</td>\n",
       "      <td>2</td>\n",
       "      <td>Jumanji (1995)</td>\n",
       "      <td>Adventure|Children|Fantasy</td>\n",
       "      <td>When two kids find and play a magical board ga...</td>\n",
       "      <td>['Joe Johnston']</td>\n",
       "      <td>['Robin Williams', 'Kirsten Dunst', 'Bonnie Hu...</td>\n",
       "    </tr>\n",
       "    <tr>\n",
       "      <th>2</th>\n",
       "      <td>2</td>\n",
       "      <td>3</td>\n",
       "      <td>Grumpier Old Men (1995)</td>\n",
       "      <td>Comedy|Romance</td>\n",
       "      <td>John and Max resolve to save their beloved bai...</td>\n",
       "      <td>['Howard Deutch']</td>\n",
       "      <td>['Walter Matthau', 'Jack Lemmon', 'Ann-Margret...</td>\n",
       "    </tr>\n",
       "    <tr>\n",
       "      <th>3</th>\n",
       "      <td>3</td>\n",
       "      <td>4</td>\n",
       "      <td>Waiting to Exhale (1995)</td>\n",
       "      <td>Comedy|Drama|Romance</td>\n",
       "      <td>Based on Terry McMillan's novel, this film fol...</td>\n",
       "      <td>['Forest Whitaker']</td>\n",
       "      <td>['Whitney Houston', 'Angela Bassett', 'Loretta...</td>\n",
       "    </tr>\n",
       "    <tr>\n",
       "      <th>4</th>\n",
       "      <td>4</td>\n",
       "      <td>5</td>\n",
       "      <td>Father of the Bride Part II (1995)</td>\n",
       "      <td>Comedy</td>\n",
       "      <td>George Banks must deal not only with his daugh...</td>\n",
       "      <td>['Charles Shyer']</td>\n",
       "      <td>['Steve Martin', 'Diane Keaton', 'Martin Short...</td>\n",
       "    </tr>\n",
       "  </tbody>\n",
       "</table>\n",
       "</div>"
      ],
      "text/plain": [
       "   Unnamed: 0  movieId                               title  \\\n",
       "0           0        1                    Toy Story (1995)   \n",
       "1           1        2                      Jumanji (1995)   \n",
       "2           2        3             Grumpier Old Men (1995)   \n",
       "3           3        4            Waiting to Exhale (1995)   \n",
       "4           4        5  Father of the Bride Part II (1995)   \n",
       "\n",
       "                                        genres  \\\n",
       "0  Adventure|Animation|Children|Comedy|Fantasy   \n",
       "1                   Adventure|Children|Fantasy   \n",
       "2                               Comedy|Romance   \n",
       "3                         Comedy|Drama|Romance   \n",
       "4                                       Comedy   \n",
       "\n",
       "                                         description            directors  \\\n",
       "0  A cowboy doll is profoundly threatened and jea...    ['John Lasseter']   \n",
       "1  When two kids find and play a magical board ga...     ['Joe Johnston']   \n",
       "2  John and Max resolve to save their beloved bai...    ['Howard Deutch']   \n",
       "3  Based on Terry McMillan's novel, this film fol...  ['Forest Whitaker']   \n",
       "4  George Banks must deal not only with his daugh...    ['Charles Shyer']   \n",
       "\n",
       "                                            leadCast  \n",
       "0  ['Tom Hanks', 'Tim Allen', 'Don Rickles', 'Tom...  \n",
       "1  ['Robin Williams', 'Kirsten Dunst', 'Bonnie Hu...  \n",
       "2  ['Walter Matthau', 'Jack Lemmon', 'Ann-Margret...  \n",
       "3  ['Whitney Houston', 'Angela Bassett', 'Loretta...  \n",
       "4  ['Steve Martin', 'Diane Keaton', 'Martin Short...  "
      ]
     },
     "execution_count": 270,
     "metadata": {},
     "output_type": "execute_result"
    }
   ],
   "source": [
    "new_df = pd.read_csv('../Downloads/ml-25m/augmented_movies.csv')\n",
    "new_df.head()"
   ]
  },
  {
   "cell_type": "code",
   "execution_count": 3,
   "id": "adc7f0e2",
   "metadata": {},
   "outputs": [
    {
     "data": {
      "text/html": [
       "<div>\n",
       "<style scoped>\n",
       "    .dataframe tbody tr th:only-of-type {\n",
       "        vertical-align: middle;\n",
       "    }\n",
       "\n",
       "    .dataframe tbody tr th {\n",
       "        vertical-align: top;\n",
       "    }\n",
       "\n",
       "    .dataframe thead th {\n",
       "        text-align: right;\n",
       "    }\n",
       "</style>\n",
       "<table border=\"1\" class=\"dataframe\">\n",
       "  <thead>\n",
       "    <tr style=\"text-align: right;\">\n",
       "      <th></th>\n",
       "      <th>movieId</th>\n",
       "      <th>title</th>\n",
       "      <th>genres</th>\n",
       "      <th>description</th>\n",
       "      <th>directors</th>\n",
       "      <th>leadCast</th>\n",
       "    </tr>\n",
       "  </thead>\n",
       "  <tbody>\n",
       "    <tr>\n",
       "      <th>0</th>\n",
       "      <td>1</td>\n",
       "      <td>Toy Story (1995)</td>\n",
       "      <td>Adventure|Animation|Children|Comedy|Fantasy</td>\n",
       "      <td>A cowboy doll is profoundly threatened and jea...</td>\n",
       "      <td>['John Lasseter']</td>\n",
       "      <td>['Tom Hanks', 'Tim Allen', 'Don Rickles', 'Tom...</td>\n",
       "    </tr>\n",
       "    <tr>\n",
       "      <th>1</th>\n",
       "      <td>2</td>\n",
       "      <td>Jumanji (1995)</td>\n",
       "      <td>Adventure|Children|Fantasy</td>\n",
       "      <td>When two kids find and play a magical board ga...</td>\n",
       "      <td>['Joe Johnston']</td>\n",
       "      <td>['Robin Williams', 'Kirsten Dunst', 'Bonnie Hu...</td>\n",
       "    </tr>\n",
       "    <tr>\n",
       "      <th>2</th>\n",
       "      <td>3</td>\n",
       "      <td>Grumpier Old Men (1995)</td>\n",
       "      <td>Comedy|Romance</td>\n",
       "      <td>John and Max resolve to save their beloved bai...</td>\n",
       "      <td>['Howard Deutch']</td>\n",
       "      <td>['Walter Matthau', 'Jack Lemmon', 'Ann-Margret...</td>\n",
       "    </tr>\n",
       "    <tr>\n",
       "      <th>3</th>\n",
       "      <td>4</td>\n",
       "      <td>Waiting to Exhale (1995)</td>\n",
       "      <td>Comedy|Drama|Romance</td>\n",
       "      <td>Based on Terry McMillan's novel, this film fol...</td>\n",
       "      <td>['Forest Whitaker']</td>\n",
       "      <td>['Whitney Houston', 'Angela Bassett', 'Loretta...</td>\n",
       "    </tr>\n",
       "    <tr>\n",
       "      <th>4</th>\n",
       "      <td>5</td>\n",
       "      <td>Father of the Bride Part II (1995)</td>\n",
       "      <td>Comedy</td>\n",
       "      <td>George Banks must deal not only with his daugh...</td>\n",
       "      <td>['Charles Shyer']</td>\n",
       "      <td>['Steve Martin', 'Diane Keaton', 'Martin Short...</td>\n",
       "    </tr>\n",
       "  </tbody>\n",
       "</table>\n",
       "</div>"
      ],
      "text/plain": [
       "   movieId                               title  \\\n",
       "0        1                    Toy Story (1995)   \n",
       "1        2                      Jumanji (1995)   \n",
       "2        3             Grumpier Old Men (1995)   \n",
       "3        4            Waiting to Exhale (1995)   \n",
       "4        5  Father of the Bride Part II (1995)   \n",
       "\n",
       "                                        genres  \\\n",
       "0  Adventure|Animation|Children|Comedy|Fantasy   \n",
       "1                   Adventure|Children|Fantasy   \n",
       "2                               Comedy|Romance   \n",
       "3                         Comedy|Drama|Romance   \n",
       "4                                       Comedy   \n",
       "\n",
       "                                         description            directors  \\\n",
       "0  A cowboy doll is profoundly threatened and jea...    ['John Lasseter']   \n",
       "1  When two kids find and play a magical board ga...     ['Joe Johnston']   \n",
       "2  John and Max resolve to save their beloved bai...    ['Howard Deutch']   \n",
       "3  Based on Terry McMillan's novel, this film fol...  ['Forest Whitaker']   \n",
       "4  George Banks must deal not only with his daugh...    ['Charles Shyer']   \n",
       "\n",
       "                                            leadCast  \n",
       "0  ['Tom Hanks', 'Tim Allen', 'Don Rickles', 'Tom...  \n",
       "1  ['Robin Williams', 'Kirsten Dunst', 'Bonnie Hu...  \n",
       "2  ['Walter Matthau', 'Jack Lemmon', 'Ann-Margret...  \n",
       "3  ['Whitney Houston', 'Angela Bassett', 'Loretta...  \n",
       "4  ['Steve Martin', 'Diane Keaton', 'Martin Short...  "
      ]
     },
     "execution_count": 3,
     "metadata": {},
     "output_type": "execute_result"
    }
   ],
   "source": [
    "df = pd.read_csv('../Downloads/ml-25m/augmented_small_movies.csv')\n",
    "df.head()"
   ]
  },
  {
   "cell_type": "code",
   "execution_count": 8,
   "id": "9f917578",
   "metadata": {},
   "outputs": [
    {
     "data": {
      "text/plain": [
       "str"
      ]
     },
     "execution_count": 8,
     "metadata": {},
     "output_type": "execute_result"
    }
   ],
   "source": [
    "type(df.leadCast[0])"
   ]
  },
  {
   "cell_type": "code",
   "execution_count": 29,
   "id": "ccb164f2",
   "metadata": {},
   "outputs": [],
   "source": [
    "import re"
   ]
  },
  {
   "cell_type": "code",
   "execution_count": 59,
   "id": "11ec6fd1",
   "metadata": {},
   "outputs": [
    {
     "data": {
      "text/plain": [
       "'whitneyhouston angelabassett lorettadevine whitneyhouston angelabassett lorettadevine'"
      ]
     },
     "execution_count": 59,
     "metadata": {},
     "output_type": "execute_result"
    }
   ],
   "source": [
    "movie_title = 'Waiting to Exhale (1995)'\n",
    "cast = df[df.title == movie_title]['leadCast'].values[0].replace('[','').replace(']', '').lower()\n",
    "cast = cast.split(',')\n",
    "new_cast = []\n",
    "for el in cast:\n",
    "    el = el.replace(\"'\", '')\n",
    "    el = el.replace(' ','')\n",
    "    new_cast.append(el)\n",
    "cast = ' '.join(new_cast)\n",
    "\n",
    "cast"
   ]
  },
  {
   "cell_type": "code",
   "execution_count": 61,
   "id": "34b66537",
   "metadata": {},
   "outputs": [
    {
     "data": {
      "text/plain": [
       "'forestwhitaker'"
      ]
     },
     "execution_count": 61,
     "metadata": {},
     "output_type": "execute_result"
    }
   ],
   "source": [
    "director = df[df.title == movie_title]['directors'].values[0].replace('[', '').replace(']', '').lower()\n",
    "director = director.split(',')\n",
    "new_dir = []\n",
    "for el in director:\n",
    "    el = el.replace(\"'\", '')\n",
    "    el = el.replace(' ', '')\n",
    "    new_dir.append(el)\n",
    "director = ' '.join(new_dir)\n",
    "director"
   ]
  },
  {
   "cell_type": "code",
   "execution_count": 72,
   "id": "de21c508",
   "metadata": {},
   "outputs": [
    {
     "data": {
      "text/plain": [
       "pandas.core.series.Series"
      ]
     },
     "execution_count": 72,
     "metadata": {},
     "output_type": "execute_result"
    }
   ],
   "source": [
    "type(df['title'].map(lambda x: x.lower()))"
   ]
  },
  {
   "cell_type": "code",
   "execution_count": 74,
   "id": "dbb55b72",
   "metadata": {},
   "outputs": [
    {
     "data": {
      "text/plain": [
       "\"Toy Story (1995)Jumanji (1995)Grumpier Old Men (1995)Waiting to Exhale (1995)Father of the Bride Part II (1995)Heat (1995)Sabrina (1995)Tom and Huck (1995)Sudden Death (1995)GoldenEye (1995)American President, The (1995)Dracula: Dead and Loving It (1995)Balto (1995)Nixon (1995)Cutthroat Island (1995)Casino (1995)Sense and Sensibility (1995)Four Rooms (1995)Ace Ventura: When Nature Calls (1995)Money Train (1995)Get Shorty (1995)Copycat (1995)Assassins (1995)Powder (1995)Leaving Las Vegas (1995)Othello (1995)Now and Then (1995)Persuasion (1995)City of Lost Children, The (Cité des enfants perdus, La) (1995)Shanghai Triad (Yao a yao yao dao waipo qiao) (1995)Dangerous Minds (1995)Twelve Monkeys (a.k.a. 12 Monkeys) (1995)Wings of Courage (1995)Babe (1995)Carrington (1995)Dead Man Walking (1995)Across the Sea of Time (1995)It Takes Two (1995)Clueless (1995)Cry, the Beloved Country (1995)Richard III (1995)Dead Presidents (1995)Restoration (1995)Mortal Kombat (1995)To Die For (1995)How to Make an American Quilt (1995)Seven (a.k.a. Se7en) (1995)Pocahontas (1995)When Night Is Falling (1995)Usual Suspects, The (1995)Guardian Angel (1994)Mighty Aphrodite (1995)Lamerica (1994)Big Green, The (1995)Georgia (1995)Kids of the Round Table (1995)Home for the Holidays (1995)Postman, The (Postino, Il) (1994)Confessional, The (Confessionnal, Le) (1995)Indian in the Cupboard, The (1995)Eye for an Eye (1996)Mr. Holland's Opus (1995)Don't Be a Menace to South Central While Drinking Your Juice in the Hood (1996)Two if by Sea (1996)Bio-Dome (1996)Lawnmower Man 2: Beyond Cyberspace (1996)Two Bits (1995)French Twist (Gazon maudit) (1995)Friday (1995)From Dusk Till Dawn (1996)Fair Game (1995)Kicking and Screaming (1995)Misérables, Les (1995)Bed of Roses (1996)Big Bully (1996)Screamers (1995)Nico Icon (1995)Crossing Guard, The (1995)Juror, The (1996)White Balloon, The (Badkonake sefid) (1995)Things to Do in Denver When You're Dead (1995)Antonia's Line (Antonia) (1995)Once Upon a Time... When We Were Colored (1995)Last Summer in the Hamptons (1995)Angels and Insects (1995)White Squall (1996)Dunston Checks In (1996)Black Sheep (1996)Nick of Time (1995)The Journey of August King (1995)Mary Reilly (1996)Vampire in Brooklyn (1995)Beautiful Girls (1996)Broken Arrow (1996)In the Bleak Midwinter (1995)Hate (Haine, La) (1995)Shopping (1994)Heidi Fleiss: Hollywood Madam (1995)City Hall (1996)Bottle Rocket (1996)Mr. Wrong (1996)Unforgettable (1996)Happy Gilmore (1996)Bridges of Madison County, The (1995)Nobody Loves Me (Keiner liebt mich) (1994)Muppet Treasure Island (1996)Catwalk (1996)Headless Body in Topless Bar (1995)Braveheart (1995)Taxi Driver (1976)Rumble in the Bronx (Hont faan kui) (1995)Before and After (1996)Margaret's Museum (1995)Happiness Is in the Field (Bonheur est dans le pré, Le) (1995)Anne Frank Remembered (1995)Young Poisoner's Handbook, The (1995)If Lucy Fell (1996)Steal Big, Steal Little (1995)Race the Sun (1996)Boys of St. Vincent, The (1992)Boomerang (1992)Chungking Express (Chung Hing sam lam) (1994)Star Maker, The (Uomo delle stelle, L') (1995)Flirting With Disaster (1996)NeverEnding Story III, The (1994)Silences of the Palace, The (Saimt el Qusur) (1994)Jupiter's Wife (1994)Pie in the Sky (1996)Angela (1995)Frankie Starlight (1995)Jade (1995)Nueba Yol (1995)Sonic Outlaws (1995)Down Periscope (1996)From the Journals of Jean Seberg (1995)Man of the Year (1995)Neon Bible, The (1995)Target (1995)Up Close and Personal (1996)Birdcage, The (1996)Shadows (Cienie) (1988)Gospa (1995)Brothers McMullen, The (1995)Bad Boys (1995)Amazing Panda Adventure, The (1995)Basketball Diaries, The (1995)Awfully Big Adventure, An (1995)Amateur (1994)Apollo 13 (1995)Rob Roy (1995)Addiction, The (1995)Batman Forever (1995)Beauty of the Day (Belle de jour) (1967)Beyond Rangoon (1995)Blue in the Face (1995)Canadian Bacon (1995)Casper (1995)Clockers (1995)Congo (1995)Crimson Tide (1995)Crumb (1994)Desperado (1995)Devil in a Blue Dress (1995)Die Hard: With a Vengeance (1995)Doom Generation, The (1995)Feast of July (1995)First Knight (1995)Free Willy 2: The Adventure Home (1995)Hackers (1995)Jeffrey (1995)Johnny Mnemonic (1995)Judge Dredd (1995)Jury Duty (1995)Kids (1995)Living in Oblivion (1995)Lord of Illusions (1995)Love & Human Remains (1993)Mad Love (1995)Mallrats (1995)Mighty Morphin Power Rangers: The Movie (1995)Moonlight and Valentino (1995)Mute Witness (1994)Nadja (1994)Net, The (1995)Nine Months (1995)Party Girl (1995)Prophecy, The (1995)Reckless (1995)Safe (1995)Scarlet Letter, The (1995)The Show (1995)Showgirls (1995)Smoke (1995)Something to Talk About (1995)Species (1995)Stars Fell on Henrietta, The (1995)Strange Days (1995)Umbrellas of Cherbourg, The (Parapluies de Cherbourg, Les) (1964)Tie That Binds, The (1995)Three Wishes (1995)Total Eclipse (1995)To Wong Foo, Thanks for Everything! Julie Newmar (1995)Under Siege 2: Dark Territory (1995)Unstrung Heroes (1995)Unzipped (1995)Walk in the Clouds, A (1995)Waterworld (1995)White Man's Burden (1995)Wild Bill (1995)Browning Version, The (1994)Bushwhacked (1995)Burnt by the Sun (Utomlyonnye solntsem) (1994)Before the Rain (Pred dozhdot) (1994)Before Sunrise (1995)Billy Madison (1995)Babysitter, The (1995)Boys on the Side (1995)Cure, The (1995)Castle Freak (1995)Circle of Friends (1995)Clerks (1994)Don Juan DeMarco (1995)Disclosure (1994)Dream Man (1995)Drop Zone (1994)Destiny Turns on the Radio (1995)Death and the Maiden (1994)Dolores Claiborne (1995)Dumb & Dumber (Dumb and Dumber) (1994)Eat Drink Man Woman (Yin shi nan nu) (1994)Exotica (1994)Exit to Eden (1994)Ed Wood (1994)French Kiss (1995)Forget Paris (1995)Far From Home: The Adventures of Yellow Dog (1995)Goofy Movie, A (1995)Hideaway (1995)Fluke (1995)Farinelli: il castrato (1994)Gordy (1995)Gumby: The Movie (1995)The Glass Shield (1994)Hoop Dreams (1994)Heavenly Creatures (1994)Houseguest (1994)Immortal Beloved (1994)Heavyweights (Heavy Weights) (1995)Hunted, The (1995)I.Q. (1994)Interview with the Vampire: The Vampire Chronicles (1994)Jefferson in Paris (1995)Jerky Boys, The (1995)Junior (1994)Just Cause (1995)Kid in King Arthur's Court, A (1995)Kiss of Death (1995)Star Wars: Episode IV - A New Hope (1977)Little Women (1994)Little Princess, A (1995)Ladybird Ladybird (1994)Enfer, L' (1994)Like Water for Chocolate (Como agua para chocolate) (1992)Legends of the Fall (1994)Major Payne (1995)Little Odessa (1994)My Crazy Life (Mi vida loca) (1993)Love Affair (1994)Losing Isaiah (1995)Madness of King George, The (1994)Mary Shelley's Frankenstein (Frankenstein) (1994)Man of the House (1995)Mixed Nuts (1994)Milk Money (1994)Miracle on 34th Street (1994)Miami Rhapsody (1995)My Family (1995)Murder in the First (1995)Nobody's Fool (1994)Nell (1994)New Jersey Drive (1995)New York Cop (Nyû Yôku no koppu) (1993)Beyond Bedlam (1993)Nemesis 2: Nebula (1995)Nina Takes a Lover (1994)Natural Born Killers (1994)Only You (1994)Once Were Warriors (1994)Outbreak (1995)Léon: The Professional (a.k.a. The Professional) (Léon) (1994)Perez Family, The (1995)Pyromaniac's Love Story, A (1995)Pulp Fiction (1994)Panther (1995)Pushing Hands (Tui shou) (1992)Priest (1994)Quiz Show (1994)Picture Bride (Bijo photo) (1994)Queen Margot (Reine Margot, La) (1994)Quick and the Dead, The (1995)Roommates (1995)Ready to Wear (Pret-A-Porter) (1994)Three Colors: Red (Trois couleurs: Rouge) (1994)Three Colors: Blue (Trois couleurs: Bleu) (1993)Three Colors: White (Trzy kolory: Bialy) (1994)Red Firecracker, Green Firecracker (Pao Da Shuang Deng) (1994)Rent-a-Kid (1995)Relative Fear (1994)Stuart Saves His Family (1995)Swan Princess, The (1994)Secret of Roan Inish, The (1994)Specialist, The (1994)Stargate (1994)Santa Clause, The (1994)Shawshank Redemption, The (1994)Shallow Grave (1994)Suture (1993)Strawberry and Chocolate (Fresa y chocolate) (1993)Swimming with Sharks (1995)Sum of Us, The (1994)National Lampoon's Senior Trip (1995)To Live (Huozhe) (1994)Tank Girl (1995)Tales from the Crypt Presents: Demon Knight (1995)Star Trek: Generations (1994)Tales from the Hood (1995)Tom & Viv (1994)Village of the Damned (1995)Tommy Boy (1995)Vanya on 42nd Street (1994)Underneath (1995)Walking Dead, The (1995)What's Eating Gilbert Grape (1993)Virtuosity (1995)While You Were Sleeping (1995)War, The (1994)Double Happiness (1994)Muriel's Wedding (1994)Baby-Sitters Club, The (1995)Ace Ventura: Pet Detective (1994)Adventures of Priscilla, Queen of the Desert, The (1994)Backbeat (1993)Bitter Moon (1992)Bullets Over Broadway (1994)Clear and Present Danger (1994)Client, The (1994)Corrina, Corrina (1994)Crooklyn (1994)Crow, The (1994)Cobb (1994)Flintstones, The (1994)Forrest Gump (1994)Four Weddings and a Funeral (1994)Higher Learning (1995)I Like It Like That (1994)I Love Trouble (1994)It Could Happen to You (1994)Jungle Book, The (1994)Wonderful, Horrible Life of Leni Riefenstahl, The (Macht der Bilder: Leni Riefenstahl, Die) (1993)Lion King, The (1994)Little Buddha (1993)Wes Craven's New Nightmare (Nightmare on Elm Street Part 7: Freddy's Finale, A) (1994)Mask, The (1994)Maverick (1994)Mrs. Parker and the Vicious Circle (1994)Naked Gun 33 1/3: The Final Insult (1994)Paper, The (1994)Reality Bites (1994)Red Rock West (1992)Richie Rich (1994)Safe Passage (1994)River Wild, The (1994)Speed (1994)Speechless (1994)Timecop (1994)True Lies (1994)When a Man Loves a Woman (1994)Wolf (1994)Wyatt Earp (1994)Bad Company (1995)Man of No Importance, A (1994)S.F.W. (1994)Low Down Dirty Shame, A (1994)Boys Life (1995)Colonel Chabert, Le (1994)Faster Pussycat! Kill! Kill! (1965)Jason's Lyric (1994)Secret Adventures of Tom Thumb, The (1993)Street Fighter (1994)Coldblooded (1995)Desert Winds (1995)Fall Time (1995)Fear, The (1995)Frank and Ollie (1995)Girl in the Cadillac (1995)Homage (1995)Mirage (1995)Open Season (1996)Two Crimes (Dos crímenes) (1995)Brother Minister: The Assassination of Malcolm X (1994)Highlander III: The Sorcerer (a.k.a. Highlander: The Final Dimension) (1994)Federal Hill (1994)In the Mouth of Madness (1995)8 Seconds (1994)Above the Rim (1994)Addams Family Values (1993)Martin Lawrence: You So Crazy (1994)Age of Innocence, The (1993)Airheads (1994)Air Up There, The (1994)Another Stakeout (1993)Bad Girls (1994)Barcelona (1994)Being Human (1993)Beverly Hillbillies, The (1993)Beverly Hills Cop III (1994)Black Beauty (1994)Blink (1994)Blown Away (1994)Blue Chips (1994)Blue Sky (1994)Body Snatchers (1993)Boxing Helena (1993)Bronx Tale, A (1993)Cabin Boy (1994)Calendar Girl (1993)Carlito's Way (1993)City Slickers II: The Legend of Curly's Gold (1994)Clean Slate (1994)Cliffhanger (1993)Coneheads (1993)Color of Night (1994)Cops and Robbersons (1994)Cowboy Way, The (1994)Dangerous Game (1993)Dave (1993)Dazed and Confused (1993)Demolition Man (1993)Endless Summer 2, The (1994)Even Cowgirls Get the Blues (1993)Fatal Instinct (1993)Farewell My Concubine (Ba wang bie ji) (1993)Favor, The (1994)Fearless (1993)Fear of a Black Hat (1994)With Honors (1994)Flesh and Bone (1993)Widows' Peak (1994)For Love or Money (1993)Firm, The (1993)Free Willy (1993)Fresh (1994)Fugitive, The (1993)Geronimo: An American Legend (1993)Getaway, The (1994)Getting Even with Dad (1994)Go Fish (1994)Good Man in Africa, A (1994)Guilty as Sin (1993)Hard Target (1993)Heaven & Earth (1993)Hot Shots! Part Deux (1993)Live Nude Girls (1995)Englishman Who Went Up a Hill But Came Down a Mountain, The (1995)House of the Spirits, The (1993)House Party 3 (1994)Hudsucker Proxy, The (1994)I'll Do Anything (1994)In the Army Now (1994)In the Line of Fire (1993)In the Name of the Father (1993)Inkwell, The (1994)What's Love Got to Do with It? (1993)Jimmy Hollywood (1994)Judgment Night (1993)Jurassic Park (1993)Kalifornia (1993)Killing Zoe (1994)King of the Hill (1993)Lassie (1994)Last Action Hero (1993)Life with Mikey (1993)Lightning Jack (1994)M. Butterfly (1993)Made in America (1993)Malice (1993)Man Without a Face, The (1993)Manhattan Murder Mystery (1993)Menace II Society (1993)Executive Decision (1996)In the Realm of the Senses (Ai no corrida) (1976)What Happened Was... (1994)Much Ado About Nothing (1993)Mr. Jones (1993)Mr. Wonderful (1993)Mrs. Doubtfire (1993)Naked (1993)Next Karate Kid, The (1994)New Age, The (1994)No Escape (1994)North (1994)Orlando (1992)Perfect World, A (1993)Philadelphia (1993)Piano, The (1993)Poetic Justice (1993)Program, The (1993)Puppet Masters, The (1994)Radioland Murders (1994)Ref, The (1994)Remains of the Day, The (1993)Renaissance Man (1994)Rising Sun (1993)Road to Wellville, The (1994)RoboCop 3 (1993)Robin Hood: Men in Tights (1993)Romeo Is Bleeding (1993)Romper Stomper (1992)Ruby in Paradise (1993)Rudy (1993)Saint of Fort Washington, The (1993)Savage Nights (Nuits fauves, Les) (1992)Schindler's List (1993)Scout, The (1994)Searching for Bobby Fischer (1993)Second Best (1994)Secret Garden, The (1993)Serial Mom (1994)Shadow, The (1994)Shadowlands (1993)Short Cuts (1993)Simple Twist of Fate, A (1994)Sirens (1994)Six Degrees of Separation (1993)Sleepless in Seattle (1993)Sliver (1993)Blade Runner (1982)Son in Law (1993)So I Married an Axe Murderer (1993)Striking Distance (1993)Super Mario Bros. (1993)Surviving the Game (1994)Terminal Velocity (1994)Thirty-Two Short Films About Glenn Gould (1993)Threesome (1994)Nightmare Before Christmas, The (1993)Three Musketeers, The (1993)Tombstone (1993)Trial by Jury (1994)True Romance (1993)War Room, The (1993)Pagemaster, The (1994)Paris, France (1993)Beans of Egypt, Maine, The (1994)Killer (Bulletproof Heart) (1994)Welcome to the Dollhouse (1995)Germinal (1993)Chasers (1994)Cronos (1993)Naked in New York (1994)Kika (1993)Bhaji on the Beach (1993)Little Big League (1994)Slingshot, The (Kådisbellan) (1993)Wedding Gift, The (1994)Foreign Student (1994)Ciao, Professore! (Io speriamo che me la cavo) (1992)Spanking the Monkey (1994)Little Rascals, The (1994)Fausto (1993)Andre (1994)Escort, The (Scorta, La) (1993)Princess Caraboo (1994)Celluloid Closet, The (1995)Métisse (Café au Lait) (1993)Dear Diary (Caro Diario) (1994)I Don't Want to Talk About It (De eso no se habla) (1993)Brady Bunch Movie, The (1995)Home Alone (1990)Ghost (1990)Aladdin (1992)Terminator 2: Judgment Day (1991)Dances with Wolves (1990)Tough and Deadly (1995)Batman (1989)Silence of the Lambs, The (1991)Snow White and the Seven Dwarfs (1937)Beauty and the Beast (1991)Pinocchio (1940)Pretty Woman (1990)Window to Paris (Okno v Parizh) (1994)Wild Bunch, The (1969)Love and a .45 (1994)Wooden Man's Bride, The (Yan shen) (1994)Great Day in Harlem, A (1994)Bye Bye, Love (1995)Criminals (1996)One Fine Day (1996)Candyman: Farewell to the Flesh (1995)Century (1993)Fargo (1996)Homeward Bound II: Lost in San Francisco (1996)Heavy Metal (1981)Hellraiser: Bloodline (1996)Pallbearer, The (1996)Jane Eyre (1996)Loaded (1994)Bread and Chocolate (Pane e cioccolata) (1973)Aristocats, The (1970)Flower of My Secret, The (La flor de mi secreto) (1995)Two Much (1995)Ed (1996)Scream of Stone (Cerro Torre: Schrei aus Stein) (1991)My Favorite Season (1993)Modern Affair, A (1995)Asfour Stah (1990)Thin Line Between Love and Hate, A (1996)Last Supper, The (1995)Primal Fear (1996)Rude (1995)Carried Away (1996)All Dogs Go to Heaven 2 (1996)Land and Freedom (Tierra y libertad) (1995)Denise Calls Up (1995)Theodore Rex (1995)Family Thing, A (1996)Frisk (1995)Sgt. Bilko (1996)Jack and Sarah (1995)Girl 6 (1996)Diabolique (1996)Little Indian, Big City (Un indien dans la ville) (1994)Roula (1995)Peanuts - Die Bank zahlt alles (1996)Happy Weekend (1996)Nelly & Monsieur Arnaud (1995)Courage Under Fire (1996)Mission: Impossible (1996)Cold Fever (Á köldum klaka) (1995)Moll Flanders (1996)Superweib, Das (1996)301, 302 (301/302) (1995)Dragonheart (1996)And Nobody Weeps for Me (Und keiner weint mir nach) (1996)My Mother's Courage (Mutters Courage) (1995)Eddie (1996)Yankee Zulu (1994)Billy's Holiday (1995)Purple Noon (Plein soleil) (1960)August (1996)James and the Giant Peach (1996)Fear (1996)Kids in the Hall: Brain Candy (1996)Faithful (1996)Underground (1995)All Things Fair (Lust och fägring stor) (1995)Bloodsport 2 (a.k.a. Bloodsport II: The Next Kumite) (1996)Song of the Little Road (Pather Panchali) (1955)World of Apu, The (Apur Sansar) (1959)Mystery Science Theater 3000: The Movie (1996)Tarantella (1995)Space Jam (1996)Barbarella (1968)Hostile Intentions (1994)They Bite (1996)Some Folks Call It a Sling Blade (1993)Run of the Country, The (1995)Alphaville (Alphaville, une étrange aventure de Lemmy Caution) (1965)Coup de torchon (Clean Slate) (1981)Tigrero: A Film That Was Never Made (1994)Eye of Vichy, The (Oeil de Vichy, L') (1993)Windows (1980)It's My Party (1996)Country Life (1994)Operation Dumbo Drop (1995)Promise, The (Versprechen, Das) (1995)Mrs. Winterbourne (1996)Solo (1996)Under the Domim Tree (Etz Hadomim Tafus) (1994)Substitute, The (1996)True Crime (1996)Butterfly Kiss (1995)Feeling Minnesota (1996)Delta of Venus (1995)To Cross the Rubicon (1991)Angus (1995)Daens (1992)Faces (1968)Boys (1996)Quest, The (1996)Cosi (1996)Sunset Park (1996)Mulholland Falls (1996)Truth About Cats & Dogs, The (1996)Oliver & Company (1988)Celtic Pride (1996)Flipper (1996)Captives (1994)Of Love and Shadows (1994)Dead Man (1995)Horseman on the Roof, The (Hussard sur le toit, Le) (1995)Switchblade Sisters (1975)Mouth to Mouth (Boca a boca) (1995)Visitors, The (Visiteurs, Les) (1993)Multiplicity (1996)Wallace & Gromit: The Best of Aardman Animation (1996)Halfmoon (Paul Bowles - Halbmond) (1995)Haunted World of Edward D. Wood Jr., The (1996)Two Friends (1986)Craft, The (1996)Great White Hype, The (1996)Last Dance (1996)War Stories (1995)Cold Comfort Farm (1995)Institute Benjamenta, or This Dream People Call Human Life (1995)Low Life (1994)Heaven's Prisoners (1996)Original Gangstas (1996)Rock, The (1996)Getting Away With Murder (1996)Cemetery Man (Dellamorte Dellamore) (1994)Twister (1996)Barb Wire (1996)Garçu, Le (1995)Honey Moon (Honigmond) (1996)Ghost in the Shell (Kôkaku kidôtai) (1995)Thinner (1996)Spy Hard (1996)Brothers in Trouble (1995)Wallace & Gromit: A Close Shave (1995)Force of Evil (1948)Stupids, The (1996)Arrival, The (1996)Man from Down Under, The (1943)Dr. Strangelove or: How I Learned to Stop Worrying and Love the Bomb (1964)Careful (1992)Vermont Is For Lovers (1992)Month by the Lake, A (1995)Gold Diggers: The Secret of Bear Mountain (1995)Kim (1950)Carmen Miranda: Bananas Is My Business (1994)Ashes of Time (Dung che sai duk) (1994)Jar, The (Khomreh) (1992)Maya Lin: A Strong Clear Vision (1994)Stalingrad (1993)Phantom, The (1996)Striptease (1996)Last of the High Kings, The (a.k.a. Summer Fling) (1996)Heavy (1995)Jack (1996)I Shot Andy Warhol (1996)Grass Harp, The (1995)Someone Else's America (1995)Marlene Dietrich: Shadow and Light (1996)Costa Brava (1946)Life Is Rosy (a.k.a. Life Is Beautiful) (Vie est belle, La) (1987)Quartier Mozart (1992)Touki Bouki (1973)Wend Kuuni (a.k.a. God's Gift) (1982)Spirits of the Dead (1968)Babyfever (1994)Pharaoh's Army (1995)Trainspotting (1996)'Til There Was You (1997)Independence Day (a.k.a. ID4) (1996)Stealing Beauty (1996)Fan, The (1996)Hunchback of Notre Dame, The (1996)Cable Guy, The (1996)Kingpin (1996)Eraser (1996)Gate of Heavenly Peace, The (1995)Nutty Professor, The (1996)I, the Worst of All (Yo, la peor de todas) (1990)Unforgettable Summer, An (Un été inoubliable) (1994)Last Klezmer: Leopold Kozlowski, His Life and Music, The (1994)Hungarian Fairy Tale, A (Hol volt, hol nem volt) (1987)My Life and Times With Antonin Artaud (En compagnie d'Antonin Artaud) (1993)Midnight Dancers (Sibak) (1994)Somebody to Love (1994)Very Natural Thing, A (1974)Old Lady Who Walked in the Sea, The (Vieille qui marchait dans la mer, La) (1991)Daylight (1996)Frighteners, The (1996)Lone Star (1996)Harriet the Spy (1996)Phenomenon (1996)Walking and Talking (1996)She's the One (1996)Time to Kill, A (1996)American Buffalo (1996)Rendezvous in Paris (Rendez-vous de Paris, Les) (1995)Alaska (1996)Fled (1996)Kazaam (1996)Magic Hunter (Büvös vadász) (1994)Larger Than Life (1996)Boy Called Hate, A (1995)Power 98 (1996)Two Deaths (1995)Very Brady Sequel, A (1996)Stefano Quantestorie (1993)Death in the Garden (Mort en ce jardin, La) (1956)Crude Oasis, The (1995)Hedd Wyn (1992)Collector, The (La collectionneuse) (1967)Kaspar Hauser (1993)Regular Guys (Echte Kerle) (1996)Women Robbers (Diebinnen) (1995)Convent, The (O Convento) (1995)Adventures of Pinocchio, The (1996)Joe's Apartment (1996)First Wives Club, The (1996)Stonewall (1995)Ransom (1996)High School High (1996)Phat Beach (1996)Foxfire (1996)Chain Reaction (1996)Matilda (1996)Emma (1996)Crow: City of Angels, The (1996)House Arrest (1996)Eyes Without a Face (Yeux sans visage, Les) (1959)Tales from the Crypt Presents: Bordello of Blood (1996)Lotto Land (1995)Story of Xinghua, The (Xinghua san yue tian) (1994)Day the Sun Turned Cold, The (Tianguo niezi) (1994)Flirt (1995)Big Squeeze, The (1996)Spitfire Grill, The (1996)Escape from L.A. (1996)Cyclo (Xich lo) (1995)Basquiat (1996)Tin Cup (1996)Dingo (1991)Ballad of Narayama, The (Narayama Bushiko) (1958)Every Other Weekend (Un week-end sur deux) (1990)Mille bolle blu (1993)Crows and Sparrows (Wuya yu maque) (1949)Godfather, The (1972)Hippie Revolution, The (1996)Maybe, Maybe Not (Bewegte Mann, Der) (1994)Supercop (Police Story 3: Supercop) (Jing cha gu shi III: Chao ji jing cha) (1992)Manny & Lo (1996)Wife, The (1995)Small Faces (1996)Bound (1996)Carpool (1996)Death in Brunswick (1991)Kansas City (1996)Gone Fishin' (1997)Lover's Knot (1996)Vive L'Amour (Ai qing wan sui) (1994)Shadow of Angels (Schatten der Engel) (1976)Killer: A Journal of Murder (1995)Nothing to Lose (1994)Supercop 2 (Project S) (Chao ji ji hua) (1993)Girls Town (1996)Bye-Bye (1995)Relic, The (1997)Island of Dr. Moreau, The (1996)First Kid (1996)Trigger Effect, The (1996)Sweet Nothing (1996)Bogus (1996)Bulletproof (1996)Talk of Angels (1998)1-900 (06) (1994)Baton Rouge (Bâton rouge) (1988)Halloween: The Curse of Michael Myers (Halloween 6: The Curse of Michael Myers) (1995)Twelfth Night (1996)Mother Night (1996)Liebelei (1933)Venice/Venice (1992)Wild Reeds (Les roseaux sauvages) (1994)For Whom the Bell Tolls (1943)Philadelphia Story, The (1940)Singin' in the Rain (1952)American in Paris, An (1951)Funny Face (1957)Breakfast at Tiffany's (1961)Vertigo (1958)Rear Window (1954)It Happened One Night (1934)Gaslight (1944)Gay Divorcee, The (1934)North by Northwest (1959)Apartment, The (1960)Some Like It Hot (1959)Charade (1963)Casablanca (1942)Maltese Falcon, The (1941)My Fair Lady (1964)Sabrina (1954)Roman Holiday (1953)Little Princess, The (1939)Meet Me in St. Louis (1944)Wizard of Oz, The (1939)Gone with the Wind (1939)My Favorite Year (1982)Sunset Blvd. (a.k.a. Sunset Boulevard) (1950)Citizen Kane (1941)2001: A Space Odyssey (1968)Golden Earrings (1947)All About Eve (1950)Women, The (1939)Rebecca (1940)Foreign Correspondent (1940)Notorious (1946)Spellbound (1945)Affair to Remember, An (1957)To Catch a Thief (1955)Father of the Bride (1950)Band Wagon, The (1953)Ninotchka (1939)Love in the Afternoon (1957)Gigi (1958)Reluctant Debutante, The (1958)Adventures of Robin Hood, The (1938)Mark of Zorro, The (1940)Laura (1944)Ghost and Mrs. Muir, The (1947)Lost Horizon (1937)Top Hat (1935)To Be or Not to Be (1942)My Man Godfrey (1936)Giant (1956)East of Eden (1955)Thin Man, The (1934)His Girl Friday (1940)Around the World in 80 Days (1956)It's a Wonderful Life (1946)Mr. Smith Goes to Washington (1939)Bringing Up Baby (1938)Penny Serenade (1941)Scarlet Letter, The (1926)Lady of Burlesque (1943)Of Human Bondage (1934)Angel on My Shoulder (1946)Little Lord Fauntleroy (1936)They Made Me a Criminal (1939)Inspector General, The (1949)Angel and the Badman (1947)39 Steps, The (1935)A Walk in the Sun (1945)Outlaw, The (1943)Night of the Living Dead (1968)African Queen, The (1951)Beat the Devil (1953)Cat on a Hot Tin Roof (1958)Last Time I Saw Paris, The (1954)Meet John Doe (1941)Algiers (1938)Something to Sing About (1937)Farewell to Arms, A (1932)Moonlight Murder (1936)Nothing Personal (1995)Yes, Madam (a.k.a. Police Assassins) (a.k.a. In the Line of Duty 2) (Huang gu shi jie) (1985)Dangerous Ground (1997)Picnic (1955)Madagascar Skin (1995)Pompatus of Love, The (1996)Small Wonders (1995)Fly Away Home (1996)Bliss (1997)Grace of My Heart (1996)Brother of Sleep (Schlafes Bruder) (1995)Maximum Risk (1996)Michael Collins (1996)Rich Man's Wife, The (1996)Infinity (1996)Big Night (1996)Last Man Standing (1996)Caught (1996)Set It Off (1996)2 Days in the Valley (1996)Curdled (1996)Associate, The (Associé, L') (1979)Ed's Next Move (1996)Extreme Measures (1996)Glimmer Man, The (1996)D3: The Mighty Ducks (1996)Chamber, The (1996)Apple Dumpling Gang, The (1975)Davy Crockett, King of the Wild Frontier (1955)Escape to Witch Mountain (1975)Love Bug, The (1969)Herbie Rides Again (1974)Old Yeller (1957)Parent Trap, The (1961)Pollyanna (1960)Homeward Bound: The Incredible Journey (1993)Shaggy Dog, The (1959)Swiss Family Robinson (1960)That Darn Cat! (1965)20,000 Leagues Under the Sea (1954)Cool Runnings (1993)Angels in the Outfield (1994)Cinderella (1950)\""
      ]
     },
     "execution_count": 74,
     "metadata": {},
     "output_type": "execute_result"
    }
   ],
   "source": [
    "df['title'].sum()"
   ]
  },
  {
   "cell_type": "code",
   "execution_count": 82,
   "id": "4d3febec",
   "metadata": {},
   "outputs": [
    {
     "data": {
      "text/plain": [
       "'Toy Story (1995)'"
      ]
     },
     "execution_count": 82,
     "metadata": {},
     "output_type": "execute_result"
    }
   ],
   "source": [
    "ts = df['title'].str.contains('toy story', case=False)\n",
    "\n",
    "df['title'][ts].values[0]"
   ]
  },
  {
   "cell_type": "code",
   "execution_count": 83,
   "id": "8c659952",
   "metadata": {},
   "outputs": [
    {
     "data": {
      "text/plain": [
       "'one two three'"
      ]
     },
     "execution_count": 83,
     "metadata": {},
     "output_type": "execute_result"
    }
   ],
   "source": [
    "words = ['one', 'two', 'three']\n",
    "words = ' '.join(words)\n",
    "words"
   ]
  },
  {
   "cell_type": "code",
   "execution_count": null,
   "id": "8912d4b2",
   "metadata": {},
   "outputs": [],
   "source": []
  }
 ],
 "metadata": {
  "kernelspec": {
   "display_name": "Python 3 (ipykernel)",
   "language": "python",
   "name": "python3"
  },
  "language_info": {
   "codemirror_mode": {
    "name": "ipython",
    "version": 3
   },
   "file_extension": ".py",
   "mimetype": "text/x-python",
   "name": "python",
   "nbconvert_exporter": "python",
   "pygments_lexer": "ipython3",
   "version": "3.9.13"
  }
 },
 "nbformat": 4,
 "nbformat_minor": 5
}
